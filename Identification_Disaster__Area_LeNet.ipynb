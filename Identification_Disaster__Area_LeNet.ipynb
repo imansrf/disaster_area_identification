{
  "nbformat": 4,
  "nbformat_minor": 0,
  "metadata": {
    "colab": {
      "name": "Identification_Disaster__Area_LeNet.ipynb",
      "provenance": [],
      "collapsed_sections": []
    },
    "kernelspec": {
      "name": "python3",
      "display_name": "Python 3"
    },
    "accelerator": "GPU"
  },
  "cells": [
    {
      "cell_type": "markdown",
      "metadata": {
        "id": "kvGXMTYp99O5"
      },
      "source": [
        "# Impor Dataset"
      ]
    },
    {
      "cell_type": "code",
      "metadata": {
        "id": "GeR1u3kg5a-n",
        "outputId": "43b8fac1-e6bb-4060-eedf-25a7bffdf13c",
        "colab": {
          "base_uri": "https://localhost:8080/",
          "height": 34
        }
      },
      "source": [
        "from google.colab import drive\n",
        "drive.mount('/content/gdrive')"
      ],
      "execution_count": 1,
      "outputs": [
        {
          "output_type": "stream",
          "text": [
            "Mounted at /content/gdrive\n"
          ],
          "name": "stdout"
        }
      ]
    },
    {
      "cell_type": "markdown",
      "metadata": {
        "id": "vISa369B-J88"
      },
      "source": [
        "# Membuat Folder"
      ]
    },
    {
      "cell_type": "code",
      "metadata": {
        "id": "w_1Yb0Kp97Fd"
      },
      "source": [
        "import shutil\n",
        "import os, sys\n",
        "\n",
        "## create folders\n",
        "if not os.path.exists('data/'):\n",
        "    os.makedirs('data/train_images/pre_images')\n",
        "    os.makedirs('data/train_images/post_images')\n",
        "    os.makedirs('data/train_images/pre_buildings')\n",
        "    os.makedirs('data/train_images/post_buildings')\n",
        "    os.makedirs('data/train_labels/pre_labels')\n",
        "    os.makedirs('data/train_labels/post_labels')"
      ],
      "execution_count": 2,
      "outputs": []
    },
    {
      "cell_type": "code",
      "metadata": {
        "id": "sC7qLQUbCa9T"
      },
      "source": [
        "import json\n",
        "import pandas as pd\n",
        "from pandas.io.json import json_normalize\n",
        "\n",
        "source ='gdrive/My Drive/Data disaster/train/images/'\n",
        "dest = 'data/train_images/pre_images/'\n",
        "pre_tsunami_images = sorted([f for f in os.listdir(source) if 'tsunami' in f and 'pre' in f])\n",
        "for f in pre_tsunami_images:\n",
        "    shutil.copy(source + f, dest)"
      ],
      "execution_count": 3,
      "outputs": []
    },
    {
      "cell_type": "code",
      "metadata": {
        "id": "VwR4fMfSeUX4"
      },
      "source": [
        "source ='gdrive/My Drive/Data disaster/train/images/'\n",
        "dest = 'data/train_images/post_images/'\n",
        "post_tsunami_images = sorted([f for f in os.listdir(source) if 'tsunami' in f and 'post' in f])\n",
        "for f in post_tsunami_images:\n",
        "    shutil.copy(source + f, dest)"
      ],
      "execution_count": 4,
      "outputs": []
    },
    {
      "cell_type": "code",
      "metadata": {
        "id": "l-6se_W4kXuC"
      },
      "source": [
        "import json\n",
        "import pandas as pd\n",
        "from pandas.io.json import json_normalize\n",
        "\n",
        "source ='gdrive/My Drive/Data disaster/train/labels/'\n",
        "dest = 'data/train_labels/pre_labels/'\n",
        "\n",
        "pre_tsunami_labels = sorted([f for f in os.listdir(source) if 'tsunami' in f and 'pre' in f])\n",
        "for f in pre_tsunami_labels:\n",
        "    shutil.copy(source + f, dest)"
      ],
      "execution_count": 5,
      "outputs": []
    },
    {
      "cell_type": "code",
      "metadata": {
        "id": "ASjzkeQel1DG"
      },
      "source": [
        "source ='gdrive/My Drive/Data disaster/train/labels/'\n",
        "dest = 'data/train_labels/post_labels/'\n",
        "\n",
        "post_tsunami_labels = sorted([f for f in os.listdir(source) if 'tsunami' in f and 'post' in f])\n",
        "for f in post_tsunami_labels:\n",
        "    shutil.copy(source + f, dest)"
      ],
      "execution_count": 6,
      "outputs": []
    },
    {
      "cell_type": "markdown",
      "metadata": {
        "id": "-rbOwPTmrYEL"
      },
      "source": [
        "# Data Exploration"
      ]
    },
    {
      "cell_type": "code",
      "metadata": {
        "id": "1SCkY-o2res5"
      },
      "source": [
        "import pandas as pd\n",
        "\n",
        "ROOT_PATH = ''"
      ],
      "execution_count": 7,
      "outputs": []
    },
    {
      "cell_type": "code",
      "metadata": {
        "id": "VUt_4EsMrgj4",
        "outputId": "6822dd27-3adb-49cb-a123-6f03bd4fae18",
        "colab": {
          "base_uri": "https://localhost:8080/",
          "height": 643
        }
      },
      "source": [
        "import json\n",
        "from pandas.io.json import json_normalize\n",
        "\n",
        "with open (ROOT_PATH + 'data/train_labels/post_labels/palu-tsunami_00000002_post_disaster.json') as f:\n",
        "    data = json.load(f)\n",
        "\n",
        "# convert buildings json data into pandas dataframe:\n",
        "buildings_raw = data['features']['xy']\n",
        "buildings_df = pd.DataFrame.from_dict(json_normalize(buildings_raw), orient='columns')\n",
        "buildings_df"
      ],
      "execution_count": 8,
      "outputs": [
        {
          "output_type": "stream",
          "text": [
            "/usr/local/lib/python3.6/dist-packages/ipykernel_launcher.py:9: FutureWarning: pandas.io.json.json_normalize is deprecated, use pandas.json_normalize instead\n",
            "  if __name__ == '__main__':\n"
          ],
          "name": "stderr"
        },
        {
          "output_type": "execute_result",
          "data": {
            "text/html": [
              "<div>\n",
              "<style scoped>\n",
              "    .dataframe tbody tr th:only-of-type {\n",
              "        vertical-align: middle;\n",
              "    }\n",
              "\n",
              "    .dataframe tbody tr th {\n",
              "        vertical-align: top;\n",
              "    }\n",
              "\n",
              "    .dataframe thead th {\n",
              "        text-align: right;\n",
              "    }\n",
              "</style>\n",
              "<table border=\"1\" class=\"dataframe\">\n",
              "  <thead>\n",
              "    <tr style=\"text-align: right;\">\n",
              "      <th></th>\n",
              "      <th>wkt</th>\n",
              "      <th>properties.feature_type</th>\n",
              "      <th>properties.subtype</th>\n",
              "      <th>properties.uid</th>\n",
              "    </tr>\n",
              "  </thead>\n",
              "  <tbody>\n",
              "    <tr>\n",
              "      <th>0</th>\n",
              "      <td>POLYGON ((827.1947747991766 38.05266036150195,...</td>\n",
              "      <td>building</td>\n",
              "      <td>no-damage</td>\n",
              "      <td>971e02df-cb7f-4db6-986e-a5759d37d7ee</td>\n",
              "    </tr>\n",
              "    <tr>\n",
              "      <th>1</th>\n",
              "      <td>POLYGON ((923.0499820392861 35.6899999230119, ...</td>\n",
              "      <td>building</td>\n",
              "      <td>no-damage</td>\n",
              "      <td>6a02f21b-8059-4c83-bb79-ba975e738794</td>\n",
              "    </tr>\n",
              "    <tr>\n",
              "      <th>2</th>\n",
              "      <td>POLYGON ((956.5165597985542 29.71629280817124,...</td>\n",
              "      <td>building</td>\n",
              "      <td>no-damage</td>\n",
              "      <td>c81fa786-4e7f-40b9-b042-fdb60ba02072</td>\n",
              "    </tr>\n",
              "    <tr>\n",
              "      <th>3</th>\n",
              "      <td>POLYGON ((882.8796877291832 35.17580075222946,...</td>\n",
              "      <td>building</td>\n",
              "      <td>no-damage</td>\n",
              "      <td>0e5a70c7-1a2a-4fe5-9123-239c39424bc6</td>\n",
              "    </tr>\n",
              "    <tr>\n",
              "      <th>4</th>\n",
              "      <td>POLYGON ((1007.785306028995 66.74944906072707,...</td>\n",
              "      <td>building</td>\n",
              "      <td>no-damage</td>\n",
              "      <td>a3466f3d-ca9c-4d2f-b9c2-84c074eec59d</td>\n",
              "    </tr>\n",
              "    <tr>\n",
              "      <th>...</th>\n",
              "      <td>...</td>\n",
              "      <td>...</td>\n",
              "      <td>...</td>\n",
              "      <td>...</td>\n",
              "    </tr>\n",
              "    <tr>\n",
              "      <th>316</th>\n",
              "      <td>POLYGON ((58.5599604418947 36.33943248283705, ...</td>\n",
              "      <td>building</td>\n",
              "      <td>no-damage</td>\n",
              "      <td>53094760-b84c-4d41-809e-aeae364a9852</td>\n",
              "    </tr>\n",
              "    <tr>\n",
              "      <th>317</th>\n",
              "      <td>POLYGON ((330.7137329339447 264.3348219249181,...</td>\n",
              "      <td>building</td>\n",
              "      <td>no-damage</td>\n",
              "      <td>a2587212-d3f3-4667-9b5d-5471c4eba416</td>\n",
              "    </tr>\n",
              "    <tr>\n",
              "      <th>318</th>\n",
              "      <td>POLYGON ((441.7511553920975 426.538227628857, ...</td>\n",
              "      <td>building</td>\n",
              "      <td>no-damage</td>\n",
              "      <td>dcb92240-f195-4010-9bf4-2d8af4f3447f</td>\n",
              "    </tr>\n",
              "    <tr>\n",
              "      <th>319</th>\n",
              "      <td>POLYGON ((416.9513452483098 883.4820980865841,...</td>\n",
              "      <td>building</td>\n",
              "      <td>destroyed</td>\n",
              "      <td>e72a7a48-b375-4901-bd91-38c0e28712b8</td>\n",
              "    </tr>\n",
              "    <tr>\n",
              "      <th>320</th>\n",
              "      <td>POLYGON ((459.5240397176403 1022.9587444334, 4...</td>\n",
              "      <td>building</td>\n",
              "      <td>destroyed</td>\n",
              "      <td>71de9ca0-65d3-4137-ae3a-5157d9373a55</td>\n",
              "    </tr>\n",
              "  </tbody>\n",
              "</table>\n",
              "<p>321 rows × 4 columns</p>\n",
              "</div>"
            ],
            "text/plain": [
              "                                                   wkt  ...                        properties.uid\n",
              "0    POLYGON ((827.1947747991766 38.05266036150195,...  ...  971e02df-cb7f-4db6-986e-a5759d37d7ee\n",
              "1    POLYGON ((923.0499820392861 35.6899999230119, ...  ...  6a02f21b-8059-4c83-bb79-ba975e738794\n",
              "2    POLYGON ((956.5165597985542 29.71629280817124,...  ...  c81fa786-4e7f-40b9-b042-fdb60ba02072\n",
              "3    POLYGON ((882.8796877291832 35.17580075222946,...  ...  0e5a70c7-1a2a-4fe5-9123-239c39424bc6\n",
              "4    POLYGON ((1007.785306028995 66.74944906072707,...  ...  a3466f3d-ca9c-4d2f-b9c2-84c074eec59d\n",
              "..                                                 ...  ...                                   ...\n",
              "316  POLYGON ((58.5599604418947 36.33943248283705, ...  ...  53094760-b84c-4d41-809e-aeae364a9852\n",
              "317  POLYGON ((330.7137329339447 264.3348219249181,...  ...  a2587212-d3f3-4667-9b5d-5471c4eba416\n",
              "318  POLYGON ((441.7511553920975 426.538227628857, ...  ...  dcb92240-f195-4010-9bf4-2d8af4f3447f\n",
              "319  POLYGON ((416.9513452483098 883.4820980865841,...  ...  e72a7a48-b375-4901-bd91-38c0e28712b8\n",
              "320  POLYGON ((459.5240397176403 1022.9587444334, 4...  ...  71de9ca0-65d3-4137-ae3a-5157d9373a55\n",
              "\n",
              "[321 rows x 4 columns]"
            ]
          },
          "metadata": {
            "tags": []
          },
          "execution_count": 8
        }
      ]
    },
    {
      "cell_type": "code",
      "metadata": {
        "id": "NzRnb9pUr020",
        "outputId": "1aaee8be-fb99-40f4-b477-3ee36e9d218a",
        "colab": {
          "base_uri": "https://localhost:8080/",
          "height": 102
        }
      },
      "source": [
        "# for a single image\n",
        "buildings_df['properties.subtype'].value_counts()"
      ],
      "execution_count": 9,
      "outputs": [
        {
          "output_type": "execute_result",
          "data": {
            "text/plain": [
              "no-damage        273\n",
              "destroyed         34\n",
              "major-damage      11\n",
              "un-classified      3\n",
              "Name: properties.subtype, dtype: int64"
            ]
          },
          "metadata": {
            "tags": []
          },
          "execution_count": 9
        }
      ]
    },
    {
      "cell_type": "code",
      "metadata": {
        "id": "-tdrv767r_sS",
        "outputId": "0219117f-7557-46ce-da71-19f1fc31624e",
        "colab": {
          "base_uri": "https://localhost:8080/",
          "height": 121
        }
      },
      "source": [
        "from shapely.geometry import Polygon\n",
        "import shapely.wkt\n",
        "\n",
        "P = shapely.wkt.loads(data['features']['xy'][0]['wkt'])\n",
        "P"
      ],
      "execution_count": 10,
      "outputs": [
        {
          "output_type": "execute_result",
          "data": {
            "text/plain": [
              "<shapely.geometry.polygon.Polygon at 0x7f4c7ced0940>"
            ],
            "image/svg+xml": "<svg xmlns=\"http://www.w3.org/2000/svg\" xmlns:xlink=\"http://www.w3.org/1999/xlink\" width=\"100.0\" height=\"100.0\" viewBox=\"786.7521928504777 32.16261023080053 61.225396473669775 39.92369473163023\" preserveAspectRatio=\"xMinYMin meet\"><g transform=\"matrix(1,0,0,-1,0,104.24891519323128)\"><path fill-rule=\"evenodd\" fill=\"#66cc99\" stroke=\"#555555\" stroke-width=\"1.2245079294733956\" opacity=\"0.6\" d=\"M 827.1947747991766,38.05266036150195 L 829.1453209507729,34.98751640992812 L 831.4473588178703,34.98751640992812 L 845.709982047345,37.97999992187803 L 843.0899820488738,55.59999992059679 L 842.7763545541816,56.28668189578335 L 835.2756088567241,56.28668189578335 L 833.3250627048943,66.59671155141694 L 829.702619851229,69.81869768562817 L 789.5770990293717,62.852461428993 L 789.0198001272803,53.6570295742715 L 793.4781913337323,42.5110515651504 L 797.6579330824804,43.06835046373751 L 802.3949737340209,34.43021750760312 L 827.1947747991766,38.05266036150195 z\" /></g></svg>"
          },
          "metadata": {
            "tags": []
          },
          "execution_count": 10
        }
      ]
    },
    {
      "cell_type": "code",
      "metadata": {
        "id": "RxPbxT9jsO0h",
        "outputId": "fd177970-ea97-4723-e6ae-9c5f3e0e9082",
        "colab": {
          "base_uri": "https://localhost:8080/",
          "height": 34
        }
      },
      "source": [
        "P.bounds"
      ],
      "execution_count": 11,
      "outputs": [
        {
          "output_type": "execute_result",
          "data": {
            "text/plain": [
              "(789.0198001272803, 34.43021750760312, 845.709982047345, 69.81869768562817)"
            ]
          },
          "metadata": {
            "tags": []
          },
          "execution_count": 11
        }
      ]
    },
    {
      "cell_type": "code",
      "metadata": {
        "id": "-RdgwQWcsfpL"
      },
      "source": [
        "# get all files for post disaster\n",
        "directory = ROOT_PATH + 'data/train_labels/post_labels/'\n",
        "pattern = 'post'\n",
        "\n",
        "post_disaster_files = [f for f in os.listdir(directory) if pattern in f]"
      ],
      "execution_count": 12,
      "outputs": []
    },
    {
      "cell_type": "code",
      "metadata": {
        "id": "PQMmpt0psxyp"
      },
      "source": [
        "# loop over post disaster data\n",
        "all_json_data = []\n",
        "for file in post_disaster_files:\n",
        "    with open(directory + file) as f:\n",
        "        data = json.load(f)\n",
        "        all_json_data.append(data)"
      ],
      "execution_count": 13,
      "outputs": []
    },
    {
      "cell_type": "code",
      "metadata": {
        "id": "byIu6MqjtKKI",
        "outputId": "0c5275fa-8540-4435-ea48-1bc9e97971d3",
        "colab": {
          "base_uri": "https://localhost:8080/",
          "height": 643
        }
      },
      "source": [
        "df = pd.DataFrame()\n",
        "for curr_data in all_json_data:\n",
        "    curr_building_raw = curr_data['features']['xy']\n",
        "    df = df.append(json_normalize(curr_building_raw))\n",
        "df"
      ],
      "execution_count": 14,
      "outputs": [
        {
          "output_type": "stream",
          "text": [
            "/usr/local/lib/python3.6/dist-packages/ipykernel_launcher.py:4: FutureWarning: pandas.io.json.json_normalize is deprecated, use pandas.json_normalize instead\n",
            "  after removing the cwd from sys.path.\n"
          ],
          "name": "stderr"
        },
        {
          "output_type": "execute_result",
          "data": {
            "text/html": [
              "<div>\n",
              "<style scoped>\n",
              "    .dataframe tbody tr th:only-of-type {\n",
              "        vertical-align: middle;\n",
              "    }\n",
              "\n",
              "    .dataframe tbody tr th {\n",
              "        vertical-align: top;\n",
              "    }\n",
              "\n",
              "    .dataframe thead th {\n",
              "        text-align: right;\n",
              "    }\n",
              "</style>\n",
              "<table border=\"1\" class=\"dataframe\">\n",
              "  <thead>\n",
              "    <tr style=\"text-align: right;\">\n",
              "      <th></th>\n",
              "      <th>wkt</th>\n",
              "      <th>properties.feature_type</th>\n",
              "      <th>properties.subtype</th>\n",
              "      <th>properties.uid</th>\n",
              "    </tr>\n",
              "  </thead>\n",
              "  <tbody>\n",
              "    <tr>\n",
              "      <th>0</th>\n",
              "      <td>POLYGON ((1015.149981409974 164.4699999006793,...</td>\n",
              "      <td>building</td>\n",
              "      <td>no-damage</td>\n",
              "      <td>d92b56c3-a09a-49af-a22f-33ebe9f8e95e</td>\n",
              "    </tr>\n",
              "    <tr>\n",
              "      <th>1</th>\n",
              "      <td>POLYGON ((1020.839981408041 145.249999897544, ...</td>\n",
              "      <td>building</td>\n",
              "      <td>no-damage</td>\n",
              "      <td>e9e998e5-10a0-46dd-88ac-c7addb9137ae</td>\n",
              "    </tr>\n",
              "    <tr>\n",
              "      <th>2</th>\n",
              "      <td>POLYGON ((1023.999981409888 126.0799998984524,...</td>\n",
              "      <td>building</td>\n",
              "      <td>no-damage</td>\n",
              "      <td>5d17d5c6-7f89-4e9a-ad9e-79c11a81233b</td>\n",
              "    </tr>\n",
              "    <tr>\n",
              "      <th>3</th>\n",
              "      <td>POLYGON ((1023.999981411289 115.7699998982116,...</td>\n",
              "      <td>building</td>\n",
              "      <td>no-damage</td>\n",
              "      <td>aab7e8f4-6705-4a52-9fdf-383aa176cc7c</td>\n",
              "    </tr>\n",
              "    <tr>\n",
              "      <th>4</th>\n",
              "      <td>POLYGON ((992.8083658555635 100.7870899954828,...</td>\n",
              "      <td>building</td>\n",
              "      <td>no-damage</td>\n",
              "      <td>b5d715a2-8495-4108-8a77-3bcd9b7333a9</td>\n",
              "    </tr>\n",
              "    <tr>\n",
              "      <th>...</th>\n",
              "      <td>...</td>\n",
              "      <td>...</td>\n",
              "      <td>...</td>\n",
              "      <td>...</td>\n",
              "    </tr>\n",
              "    <tr>\n",
              "      <th>109</th>\n",
              "      <td>POLYGON ((884.5237595052421 149.2391921520348,...</td>\n",
              "      <td>building</td>\n",
              "      <td>no-damage</td>\n",
              "      <td>f385f8cf-8741-43a7-a5f0-214b888bc0b5</td>\n",
              "    </tr>\n",
              "    <tr>\n",
              "      <th>110</th>\n",
              "      <td>POLYGON ((847.1004086844918 163.6417380732459,...</td>\n",
              "      <td>building</td>\n",
              "      <td>no-damage</td>\n",
              "      <td>a62e760a-b30b-446a-83e8-3bb540865849</td>\n",
              "    </tr>\n",
              "    <tr>\n",
              "      <th>111</th>\n",
              "      <td>POLYGON ((817.9535013318375 154.3389990468033,...</td>\n",
              "      <td>building</td>\n",
              "      <td>no-damage</td>\n",
              "      <td>b5ab6693-d915-4eb7-afea-7f82d667709f</td>\n",
              "    </tr>\n",
              "    <tr>\n",
              "      <th>112</th>\n",
              "      <td>POLYGON ((799.9845953926308 148.6014296820657,...</td>\n",
              "      <td>building</td>\n",
              "      <td>no-damage</td>\n",
              "      <td>c5a971ca-c9cc-4412-9372-4a6a18a1be17</td>\n",
              "    </tr>\n",
              "    <tr>\n",
              "      <th>113</th>\n",
              "      <td>POLYGON ((772.3005445346284 215.478010244329, ...</td>\n",
              "      <td>building</td>\n",
              "      <td>no-damage</td>\n",
              "      <td>9fad4cf8-7138-4637-90ce-7426be33658d</td>\n",
              "    </tr>\n",
              "  </tbody>\n",
              "</table>\n",
              "<p>31394 rows × 4 columns</p>\n",
              "</div>"
            ],
            "text/plain": [
              "                                                   wkt  ...                        properties.uid\n",
              "0    POLYGON ((1015.149981409974 164.4699999006793,...  ...  d92b56c3-a09a-49af-a22f-33ebe9f8e95e\n",
              "1    POLYGON ((1020.839981408041 145.249999897544, ...  ...  e9e998e5-10a0-46dd-88ac-c7addb9137ae\n",
              "2    POLYGON ((1023.999981409888 126.0799998984524,...  ...  5d17d5c6-7f89-4e9a-ad9e-79c11a81233b\n",
              "3    POLYGON ((1023.999981411289 115.7699998982116,...  ...  aab7e8f4-6705-4a52-9fdf-383aa176cc7c\n",
              "4    POLYGON ((992.8083658555635 100.7870899954828,...  ...  b5d715a2-8495-4108-8a77-3bcd9b7333a9\n",
              "..                                                 ...  ...                                   ...\n",
              "109  POLYGON ((884.5237595052421 149.2391921520348,...  ...  f385f8cf-8741-43a7-a5f0-214b888bc0b5\n",
              "110  POLYGON ((847.1004086844918 163.6417380732459,...  ...  a62e760a-b30b-446a-83e8-3bb540865849\n",
              "111  POLYGON ((817.9535013318375 154.3389990468033,...  ...  b5ab6693-d915-4eb7-afea-7f82d667709f\n",
              "112  POLYGON ((799.9845953926308 148.6014296820657,...  ...  c5a971ca-c9cc-4412-9372-4a6a18a1be17\n",
              "113  POLYGON ((772.3005445346284 215.478010244329, ...  ...  9fad4cf8-7138-4637-90ce-7426be33658d\n",
              "\n",
              "[31394 rows x 4 columns]"
            ]
          },
          "metadata": {
            "tags": []
          },
          "execution_count": 14
        }
      ]
    },
    {
      "cell_type": "code",
      "metadata": {
        "id": "DVn8dRxYtzhB"
      },
      "source": [
        "### Building damages for tsunami\n",
        "post_disaster_tsunami_files = [f for f in os.listdir(directory) if 'tsunami' in f]\n",
        "post_disaster_tsunami_files = list(filter(lambda x: 'post' in x, post_disaster_tsunami_files))"
      ],
      "execution_count": 15,
      "outputs": []
    },
    {
      "cell_type": "code",
      "metadata": {
        "id": "BQHwtZhquJkV"
      },
      "source": [
        "tsunami_json_data = []\n",
        "for file in post_disaster_tsunami_files:\n",
        "    with open(directory + file) as f:\n",
        "        data = json.load(f)\n",
        "        tsunami_json_data.append(data)"
      ],
      "execution_count": 16,
      "outputs": []
    },
    {
      "cell_type": "code",
      "metadata": {
        "id": "ZVIXefMdurmm",
        "outputId": "285edf20-fea1-4ba4-edd6-9fad490e57c0",
        "colab": {
          "base_uri": "https://localhost:8080/",
          "height": 643
        }
      },
      "source": [
        "df_tsunami = pd.DataFrame()\n",
        "for curr_tsunami_data in tsunami_json_data:\n",
        "    df_tsunami = df_tsunami.append(json_normalize(curr_tsunami_data['features']['xy']))\n",
        "df_tsunami"
      ],
      "execution_count": 17,
      "outputs": [
        {
          "output_type": "stream",
          "text": [
            "/usr/local/lib/python3.6/dist-packages/ipykernel_launcher.py:3: FutureWarning: pandas.io.json.json_normalize is deprecated, use pandas.json_normalize instead\n",
            "  This is separate from the ipykernel package so we can avoid doing imports until\n"
          ],
          "name": "stderr"
        },
        {
          "output_type": "execute_result",
          "data": {
            "text/html": [
              "<div>\n",
              "<style scoped>\n",
              "    .dataframe tbody tr th:only-of-type {\n",
              "        vertical-align: middle;\n",
              "    }\n",
              "\n",
              "    .dataframe tbody tr th {\n",
              "        vertical-align: top;\n",
              "    }\n",
              "\n",
              "    .dataframe thead th {\n",
              "        text-align: right;\n",
              "    }\n",
              "</style>\n",
              "<table border=\"1\" class=\"dataframe\">\n",
              "  <thead>\n",
              "    <tr style=\"text-align: right;\">\n",
              "      <th></th>\n",
              "      <th>wkt</th>\n",
              "      <th>properties.feature_type</th>\n",
              "      <th>properties.subtype</th>\n",
              "      <th>properties.uid</th>\n",
              "    </tr>\n",
              "  </thead>\n",
              "  <tbody>\n",
              "    <tr>\n",
              "      <th>0</th>\n",
              "      <td>POLYGON ((1015.149981409974 164.4699999006793,...</td>\n",
              "      <td>building</td>\n",
              "      <td>no-damage</td>\n",
              "      <td>d92b56c3-a09a-49af-a22f-33ebe9f8e95e</td>\n",
              "    </tr>\n",
              "    <tr>\n",
              "      <th>1</th>\n",
              "      <td>POLYGON ((1020.839981408041 145.249999897544, ...</td>\n",
              "      <td>building</td>\n",
              "      <td>no-damage</td>\n",
              "      <td>e9e998e5-10a0-46dd-88ac-c7addb9137ae</td>\n",
              "    </tr>\n",
              "    <tr>\n",
              "      <th>2</th>\n",
              "      <td>POLYGON ((1023.999981409888 126.0799998984524,...</td>\n",
              "      <td>building</td>\n",
              "      <td>no-damage</td>\n",
              "      <td>5d17d5c6-7f89-4e9a-ad9e-79c11a81233b</td>\n",
              "    </tr>\n",
              "    <tr>\n",
              "      <th>3</th>\n",
              "      <td>POLYGON ((1023.999981411289 115.7699998982116,...</td>\n",
              "      <td>building</td>\n",
              "      <td>no-damage</td>\n",
              "      <td>aab7e8f4-6705-4a52-9fdf-383aa176cc7c</td>\n",
              "    </tr>\n",
              "    <tr>\n",
              "      <th>4</th>\n",
              "      <td>POLYGON ((992.8083658555635 100.7870899954828,...</td>\n",
              "      <td>building</td>\n",
              "      <td>no-damage</td>\n",
              "      <td>b5d715a2-8495-4108-8a77-3bcd9b7333a9</td>\n",
              "    </tr>\n",
              "    <tr>\n",
              "      <th>...</th>\n",
              "      <td>...</td>\n",
              "      <td>...</td>\n",
              "      <td>...</td>\n",
              "      <td>...</td>\n",
              "    </tr>\n",
              "    <tr>\n",
              "      <th>109</th>\n",
              "      <td>POLYGON ((884.5237595052421 149.2391921520348,...</td>\n",
              "      <td>building</td>\n",
              "      <td>no-damage</td>\n",
              "      <td>f385f8cf-8741-43a7-a5f0-214b888bc0b5</td>\n",
              "    </tr>\n",
              "    <tr>\n",
              "      <th>110</th>\n",
              "      <td>POLYGON ((847.1004086844918 163.6417380732459,...</td>\n",
              "      <td>building</td>\n",
              "      <td>no-damage</td>\n",
              "      <td>a62e760a-b30b-446a-83e8-3bb540865849</td>\n",
              "    </tr>\n",
              "    <tr>\n",
              "      <th>111</th>\n",
              "      <td>POLYGON ((817.9535013318375 154.3389990468033,...</td>\n",
              "      <td>building</td>\n",
              "      <td>no-damage</td>\n",
              "      <td>b5ab6693-d915-4eb7-afea-7f82d667709f</td>\n",
              "    </tr>\n",
              "    <tr>\n",
              "      <th>112</th>\n",
              "      <td>POLYGON ((799.9845953926308 148.6014296820657,...</td>\n",
              "      <td>building</td>\n",
              "      <td>no-damage</td>\n",
              "      <td>c5a971ca-c9cc-4412-9372-4a6a18a1be17</td>\n",
              "    </tr>\n",
              "    <tr>\n",
              "      <th>113</th>\n",
              "      <td>POLYGON ((772.3005445346284 215.478010244329, ...</td>\n",
              "      <td>building</td>\n",
              "      <td>no-damage</td>\n",
              "      <td>9fad4cf8-7138-4637-90ce-7426be33658d</td>\n",
              "    </tr>\n",
              "  </tbody>\n",
              "</table>\n",
              "<p>31394 rows × 4 columns</p>\n",
              "</div>"
            ],
            "text/plain": [
              "                                                   wkt  ...                        properties.uid\n",
              "0    POLYGON ((1015.149981409974 164.4699999006793,...  ...  d92b56c3-a09a-49af-a22f-33ebe9f8e95e\n",
              "1    POLYGON ((1020.839981408041 145.249999897544, ...  ...  e9e998e5-10a0-46dd-88ac-c7addb9137ae\n",
              "2    POLYGON ((1023.999981409888 126.0799998984524,...  ...  5d17d5c6-7f89-4e9a-ad9e-79c11a81233b\n",
              "3    POLYGON ((1023.999981411289 115.7699998982116,...  ...  aab7e8f4-6705-4a52-9fdf-383aa176cc7c\n",
              "4    POLYGON ((992.8083658555635 100.7870899954828,...  ...  b5d715a2-8495-4108-8a77-3bcd9b7333a9\n",
              "..                                                 ...  ...                                   ...\n",
              "109  POLYGON ((884.5237595052421 149.2391921520348,...  ...  f385f8cf-8741-43a7-a5f0-214b888bc0b5\n",
              "110  POLYGON ((847.1004086844918 163.6417380732459,...  ...  a62e760a-b30b-446a-83e8-3bb540865849\n",
              "111  POLYGON ((817.9535013318375 154.3389990468033,...  ...  b5ab6693-d915-4eb7-afea-7f82d667709f\n",
              "112  POLYGON ((799.9845953926308 148.6014296820657,...  ...  c5a971ca-c9cc-4412-9372-4a6a18a1be17\n",
              "113  POLYGON ((772.3005445346284 215.478010244329, ...  ...  9fad4cf8-7138-4637-90ce-7426be33658d\n",
              "\n",
              "[31394 rows x 4 columns]"
            ]
          },
          "metadata": {
            "tags": []
          },
          "execution_count": 17
        }
      ]
    },
    {
      "cell_type": "code",
      "metadata": {
        "id": "iqdbRg6wvFI0",
        "outputId": "a00c6e41-ffa3-4a48-9563-9debac5d4248",
        "colab": {
          "base_uri": "https://localhost:8080/",
          "height": 119
        }
      },
      "source": [
        "# for tsunami buildings:\n",
        "df_tsunami['properties.subtype'].value_counts()"
      ],
      "execution_count": 18,
      "outputs": [
        {
          "output_type": "execute_result",
          "data": {
            "text/plain": [
              "no-damage        25455\n",
              "destroyed         4966\n",
              "major-damage       571\n",
              "un-classified      401\n",
              "minor-damage         1\n",
              "Name: properties.subtype, dtype: int64"
            ]
          },
          "metadata": {
            "tags": []
          },
          "execution_count": 18
        }
      ]
    },
    {
      "cell_type": "code",
      "metadata": {
        "id": "GBSb2YNMvJhr"
      },
      "source": [
        "from shapely.geometry import Polygon\n",
        "\n",
        "polygon_data = []\n",
        "for image_meta in tsunami_json_data:\n",
        "    for building in image_meta['features']['xy']:\n",
        "        polygon_data.append((building['wkt'], building['properties']['subtype']))\n",
        "\n",
        "polygon_bounds = []\n",
        "for polygon in polygon_data:\n",
        "    shapely_obj = shapely.wkt.loads(polygon[0])\n",
        "    poly_bound = shapely_obj.bounds\n",
        "    polygon_bounds.append((poly_bound[2]-poly_bound[0], poly_bound[3]-poly_bound[1]))\n",
        "\n",
        "#P = shapely.wkt.loads(tsunami_json_data['features']['xy'][0]['wkt'])"
      ],
      "execution_count": 19,
      "outputs": []
    },
    {
      "cell_type": "code",
      "metadata": {
        "id": "aRd63kCyve-B"
      },
      "source": [
        "polygon_widths = [polygon[0] for polygon in polygon_bounds]\n",
        "polygon_y = [polygon[1] for polygon in polygon_bounds]"
      ],
      "execution_count": 20,
      "outputs": []
    },
    {
      "cell_type": "code",
      "metadata": {
        "id": "Yu8bmvOBvnNV",
        "outputId": "a38ec5e4-13c7-4eeb-924a-8aaa19ae1859",
        "colab": {
          "base_uri": "https://localhost:8080/",
          "height": 282
        }
      },
      "source": [
        "import matplotlib.pyplot as plt\n",
        "import math\n",
        "import numpy as np\n",
        "\n",
        "poly_x_log = [math.log(polygon) for polygon in polygon_widths]\n",
        "# plt.hist(poly_x_log)\n",
        "plt.hist(polygon_widths)\n",
        "plt.show()\n",
        "\n",
        "#find 98 percentile\n",
        "np_p_widths = np.array(polygon_widths)\n",
        "crop_lim = np.percentile(np_p_widths, 98)\n",
        "crop_lim #calculates the 98 percentile"
      ],
      "execution_count": 21,
      "outputs": [
        {
          "output_type": "display_data",
          "data": {
            "image/png": "[encoded data removed]",
            "text/plain": [
              "<Figure size 432x288 with 1 Axes>"
            ]
          },
          "metadata": {
            "tags": [],
            "needs_background": "light"
          }
        },
        {
          "output_type": "execute_result",
          "data": {
            "text/plain": [
              "67.05647510955342"
            ]
          },
          "metadata": {
            "tags": []
          },
          "execution_count": 21
        }
      ]
    },
    {
      "cell_type": "code",
      "metadata": {
        "id": "stiAJJ4PvuEG",
        "outputId": "47515fcd-9cc9-4843-e0a4-301f62e93ad8",
        "colab": {
          "base_uri": "https://localhost:8080/",
          "height": 265
        }
      },
      "source": [
        "cropped_widths = [x for x in polygon_widths if x <= crop_lim]\n",
        "plt.hist(cropped_widths)\n",
        "plt.show()"
      ],
      "execution_count": 22,
      "outputs": [
        {
          "output_type": "display_data",
          "data": {
            "image/png": "[encoded data removed]",
            "text/plain": [
              "<Figure size 432x288 with 1 Axes>"
            ]
          },
          "metadata": {
            "tags": [],
            "needs_background": "light"
          }
        }
      ]
    },
    {
      "cell_type": "code",
      "metadata": {
        "id": "2EXYyHWcv3lu",
        "outputId": "6810ba5c-e878-4617-c0e5-9ebb9c650c61",
        "colab": {
          "base_uri": "https://localhost:8080/",
          "height": 51
        }
      },
      "source": [
        "print(len(polygon_widths))\n",
        "print(len(cropped_widths))"
      ],
      "execution_count": 23,
      "outputs": [
        {
          "output_type": "stream",
          "text": [
            "31394\n",
            "30766\n"
          ],
          "name": "stdout"
        }
      ]
    },
    {
      "cell_type": "code",
      "metadata": {
        "id": "k91fW_RDv7fK",
        "outputId": "c6da62de-ab98-4b49-9e7c-fad4fca7f059",
        "colab": {
          "base_uri": "https://localhost:8080/",
          "height": 265
        }
      },
      "source": [
        "plt.hist(polygon_y)\n",
        "plt.show()"
      ],
      "execution_count": 24,
      "outputs": [
        {
          "output_type": "display_data",
          "data": {
            "image/png": "[encoded data removed]",
            "text/plain": [
              "<Figure size 432x288 with 1 Axes>"
            ]
          },
          "metadata": {
            "tags": [],
            "needs_background": "light"
          }
        }
      ]
    },
    {
      "cell_type": "code",
      "metadata": {
        "id": "IFMVI9RSwAX7",
        "outputId": "f4c3e317-50d3-4163-df53-6c32098dc480",
        "colab": {
          "base_uri": "https://localhost:8080/",
          "height": 51
        }
      },
      "source": [
        "cropped_y = [y for y in polygon_y if y <= 75]\n",
        "print(len(polygon_y))\n",
        "print(len(cropped_y))"
      ],
      "execution_count": 25,
      "outputs": [
        {
          "output_type": "stream",
          "text": [
            "31394\n",
            "31113\n"
          ],
          "name": "stdout"
        }
      ]
    },
    {
      "cell_type": "code",
      "metadata": {
        "id": "9gltSiE0wItR",
        "outputId": "3dd1c5b5-f8bf-427e-96e4-a08f51a6feba",
        "colab": {
          "base_uri": "https://localhost:8080/",
          "height": 265
        }
      },
      "source": [
        "plt.hist(cropped_y)\n",
        "plt.show()"
      ],
      "execution_count": 26,
      "outputs": [
        {
          "output_type": "display_data",
          "data": {
            "image/png": "[encoded data removed]",
            "text/plain": [
              "<Figure size 432x288 with 1 Axes>"
            ]
          },
          "metadata": {
            "tags": [],
            "needs_background": "light"
          }
        }
      ]
    },
    {
      "cell_type": "code",
      "metadata": {
        "id": "PH1TM2O_tT5x",
        "outputId": "5abc6801-5bb0-4222-df41-a8af33f0db3e",
        "colab": {
          "base_uri": "https://localhost:8080/",
          "height": 119
        }
      },
      "source": [
        "# for all buildings:\n",
        "df['properties.subtype'].value_counts()"
      ],
      "execution_count": 27,
      "outputs": [
        {
          "output_type": "execute_result",
          "data": {
            "text/plain": [
              "no-damage        25455\n",
              "destroyed         4966\n",
              "major-damage       571\n",
              "un-classified      401\n",
              "minor-damage         1\n",
              "Name: properties.subtype, dtype: int64"
            ]
          },
          "metadata": {
            "tags": []
          },
          "execution_count": 27
        }
      ]
    },
    {
      "cell_type": "markdown",
      "metadata": {
        "id": "vt92nStnoK1g"
      },
      "source": [
        "# Membuat Building Polygons\n"
      ]
    },
    {
      "cell_type": "code",
      "metadata": {
        "id": "hF6eRC5YobzH"
      },
      "source": [
        "from PIL import Image, ImageDraw\n",
        "import numpy\n",
        "import shutil\n",
        "import os\n",
        "import json\n",
        "from shapely.geometry import Polygon\n",
        "import shapely.wkt"
      ],
      "execution_count": 28,
      "outputs": []
    },
    {
      "cell_type": "code",
      "metadata": {
        "id": "qMunIlhEodqP"
      },
      "source": [
        "image_source = 'data/train_images/pre_images/'\n",
        "dest = 'data/train_images/pre_buildings/'\n",
        "\n",
        "pre_tsunami_images = sorted([f for f in os.listdir(image_source)])\n",
        "\n"
      ],
      "execution_count": 29,
      "outputs": []
    },
    {
      "cell_type": "code",
      "metadata": {
        "id": "hXwj1bkQoyoy"
      },
      "source": [
        "def getBuildingImage(image, poly_xy, building_poly):\n",
        "    imArray = numpy.asarray(image)\n",
        "    \n",
        "    # create mask\n",
        "    maskIm = Image.new('L', (imArray.shape[1], imArray.shape[0]), 0)\n",
        "    ImageDraw.Draw(maskIm).polygon(poly_xy, outline=1, fill=1)\n",
        "    mask = numpy.array(maskIm)\n",
        "    \n",
        "    # assemble new image (uint8: 0-255)\n",
        "    newImArray = numpy.empty(imArray.shape,dtype='uint8')\n",
        "\n",
        "    # colors (three first columns, RGB)\n",
        "    newImArray[:,:,:3] = imArray[:,:,:3]\n",
        "\n",
        "    # transparency (4th column)\n",
        "    newImArray[:,:,3] = mask*255\n",
        "\n",
        "    # back to Image from numpy\n",
        "    newIm = Image.fromarray(newImArray, \"RGBA\")\n",
        "    \n",
        "    #crop out just the building from image\n",
        "    poly_bounds = building_poly.bounds\n",
        "    cropped_building_img = newIm.crop(poly_bounds)\n",
        "    \n",
        "    #put center of cropped image onto standarized image size\n",
        "    img_w, img_h = cropped_building_img.size\n",
        "    background = Image.new('RGBA', (50, 50), (255, 255, 255, 0))\n",
        "    bg_w, bg_h = background.size\n",
        "    offset = ((bg_w - img_w) // 2, (bg_h - img_h) // 2)\n",
        "    background.paste(cropped_building_img, offset)\n",
        "    return background"
      ],
      "execution_count": 30,
      "outputs": []
    },
    {
      "cell_type": "code",
      "metadata": {
        "id": "42T6N7KMpJ5N"
      },
      "source": [
        "## get json data for this file\n",
        "json_source = 'data/train_labels/pre_labels/'\n",
        "pre_tsunami_jsons = sorted([f for f in os.listdir(json_source)])\n",
        "\n",
        "## cuts out building polygons from each image, standardrizes format, and saves images to data folder\n",
        "#len(pre_tsunami_images)\n",
        "for image_index in range(len(pre_tsunami_images)):\n",
        "    image = Image.open(image_source + pre_tsunami_images[image_index]).convert(\"RGBA\")\n",
        "    with open (json_source + pre_tsunami_jsons[image_index]) as f:\n",
        "        json_data = json.load(f)\n",
        "    building_counter = 0\n",
        "    for building in json_data['features']['xy']:\n",
        "        building_wkt = building['wkt']\n",
        "        building_poly = shapely.wkt.loads(building_wkt)\n",
        "        x, y = building_poly.exterior.coords.xy\n",
        "        poly_xy = [(x[i], y[i]) for i in range(len(x))]\n",
        "        formatted_building_image = getBuildingImage(image, poly_xy, building_poly)\n",
        "        \n",
        "        building_number = str(building_counter)\n",
        "        #formatting \n",
        "        while len(building_number) < 5:\n",
        "            building_number = '0' + building_number\n",
        "            \n",
        "        formatted_building_image.save(dest + pre_tsunami_images[image_index].replace('.png', '') + '_building_' + building_number + '.png')\n",
        "        building_counter += 1"
      ],
      "execution_count": 31,
      "outputs": []
    },
    {
      "cell_type": "code",
      "metadata": {
        "id": "zhVaw9xs0hgR"
      },
      "source": [
        "## same thing for post images\n",
        "image_source = 'data/train_images/post_images/'\n",
        "dest = 'data/train_images/post_buildings/'\n",
        "\n",
        "post_tsunami_images = sorted([f for f in os.listdir(image_source)])\n",
        "\n",
        "## get json data for this file\n",
        "json_source = 'data/train_labels/post_labels/'\n",
        "post_tsunami_jsons = sorted([f for f in os.listdir(json_source)])\n",
        "\n",
        "## cuts out building polygons from each image, standardrizes format, and saves images to data folder\n",
        "#len(pre_tsunami_images)\n",
        "len(post_tsunami_images)\n",
        "for image_index in range(len(post_tsunami_images)):\n",
        "    image = Image.open(image_source + post_tsunami_images[image_index]).convert(\"RGBA\")\n",
        "    with open (json_source + post_tsunami_jsons[image_index]) as f:\n",
        "        json_data = json.load(f)\n",
        "    building_counter = 0\n",
        "    for building in json_data['features']['xy']:\n",
        "        building_wkt = building['wkt']\n",
        "        building_poly = shapely.wkt.loads(building_wkt)\n",
        "        x, y = building_poly.exterior.coords.xy\n",
        "        poly_xy = [(x[i], y[i]) for i in range(len(x))]\n",
        "        formatted_building_image = getBuildingImage(image, poly_xy, building_poly)\n",
        "        building_number = str(building_counter)\n",
        "        \n",
        "        #formatting \n",
        "        while len(building_number) < 5:\n",
        "            building_number = '0' + building_number\n",
        "        \n",
        "        formatted_building_image.save(dest + post_tsunami_images[image_index].replace('.png', '') + '_building_' + building_number + '.png')\n",
        "        building_counter += 1"
      ],
      "execution_count": 32,
      "outputs": []
    },
    {
      "cell_type": "code",
      "metadata": {
        "id": "HTB2hRH8Hzz2",
        "outputId": "079e7770-4176-430c-8073-957b2a04bd9f",
        "colab": {
          "base_uri": "https://localhost:8080/",
          "height": 34
        }
      },
      "source": [
        "damage_labels = []\n",
        "for image_json in post_tsunami_jsons:\n",
        "    with open (json_source + image_json) as f:\n",
        "        json_data = json.load(f)\n",
        "        \n",
        "    for building in json_data['features']['xy']:\n",
        "        damage_labels.append(building['properties']['subtype'])\n",
        "\n",
        "len(damage_labels)"
      ],
      "execution_count": 33,
      "outputs": [
        {
          "output_type": "execute_result",
          "data": {
            "text/plain": [
              "31394"
            ]
          },
          "metadata": {
            "tags": []
          },
          "execution_count": 33
        }
      ]
    },
    {
      "cell_type": "markdown",
      "metadata": {
        "id": "v8jN_XfaJJag"
      },
      "source": [
        "# Transfer Learning"
      ]
    },
    {
      "cell_type": "code",
      "metadata": {
        "id": "SejlH438J9En"
      },
      "source": [
        "import numpy as np\n",
        "import json\n",
        "import os\n",
        "post_building_files = sorted(os.listdir('data/train_images/post_buildings'))\n",
        "\n",
        "json_source = 'data/train_labels/post_labels/'\n",
        "post_tsunami_jsons = sorted([f for f in os.listdir(json_source)])\n",
        "\n",
        "damage_labels = []\n",
        "for image_json in post_tsunami_jsons:\n",
        "    with open (json_source + image_json) as f:\n",
        "        json_data = json.load(f)\n",
        "        \n",
        "    for building in json_data['features']['xy']:\n",
        "        damage_labels.append(building['properties']['subtype'])"
      ],
      "execution_count": 34,
      "outputs": []
    },
    {
      "cell_type": "code",
      "metadata": {
        "id": "SVCRDdttKA_X",
        "outputId": "3143ef8e-8d21-4f10-8849-e71ab9ded0e9",
        "colab": {
          "base_uri": "https://localhost:8080/",
          "height": 34
        }
      },
      "source": [
        "from PIL import Image\n",
        "\n",
        "Images = []\n",
        "for f in post_building_files:\n",
        "    Images.append(Image.open('data/train_images/post_buildings/' + f).convert('RGB'))\n",
        "    \n",
        "X_post = []\n",
        "for I in Images:\n",
        "    X_post.append(np.asarray(I))\n",
        "    \n",
        "X_post = np.array(X_post)\n",
        "X_post.shape"
      ],
      "execution_count": 35,
      "outputs": [
        {
          "output_type": "execute_result",
          "data": {
            "text/plain": [
              "(31394, 50, 50, 3)"
            ]
          },
          "metadata": {
            "tags": []
          },
          "execution_count": 35
        }
      ]
    },
    {
      "cell_type": "code",
      "metadata": {
        "id": "IHV2sHYQKNl2"
      },
      "source": [
        "X_post_padded = [np.pad(img, ((73, 74), (73, 74), (0,0)), 'constant', constant_values=(255,)) for img in X_post]"
      ],
      "execution_count": 36,
      "outputs": []
    },
    {
      "cell_type": "code",
      "metadata": {
        "id": "vSAKXQuRKayL",
        "outputId": "7afb805e-57e5-4449-d53f-1f19d99ee7df",
        "colab": {
          "base_uri": "https://localhost:8080/",
          "height": 34
        }
      },
      "source": [
        "X_post_padded = np.array(X_post_padded)\n",
        "X_post_padded.shape"
      ],
      "execution_count": 37,
      "outputs": [
        {
          "output_type": "execute_result",
          "data": {
            "text/plain": [
              "(31394, 197, 197, 3)"
            ]
          },
          "metadata": {
            "tags": []
          },
          "execution_count": 37
        }
      ]
    },
    {
      "cell_type": "markdown",
      "metadata": {
        "id": "bSc1sJn2Kt5i"
      },
      "source": [
        "# CNN model"
      ]
    },
    {
      "cell_type": "code",
      "metadata": {
        "id": "1RT0AAR3Kz0k"
      },
      "source": [
        "import os\n",
        "import numpy as np\n",
        "import json"
      ],
      "execution_count": 38,
      "outputs": []
    },
    {
      "cell_type": "code",
      "metadata": {
        "id": "8os8o94YK224"
      },
      "source": [
        "X = []\n",
        "Y = []\n",
        "\n",
        "pre_building_files = sorted(os.listdir('data/train_images/pre_buildings'))\n",
        "post_building_files = sorted(os.listdir('data/train_images/post_buildings'))"
      ],
      "execution_count": 39,
      "outputs": []
    },
    {
      "cell_type": "code",
      "metadata": {
        "id": "cOML1s_bK9hN"
      },
      "source": [
        "json_source = 'data/train_labels/post_labels/'\n",
        "post_tsunami_jsons = sorted([f for f in os.listdir(json_source)])\n",
        "\n",
        "damage_labels = []\n",
        "for image_json in post_tsunami_jsons:\n",
        "    with open (json_source + image_json) as f:\n",
        "        json_data = json.load(f)\n",
        "        \n",
        "    for building in json_data['features']['xy']:\n",
        "        damage_labels.append(building['properties']['subtype'])"
      ],
      "execution_count": 40,
      "outputs": []
    },
    {
      "cell_type": "code",
      "metadata": {
        "id": "oMPTBNFJLIFp"
      },
      "source": [
        "from PIL import Image\n",
        "\n",
        "Images = []\n",
        "for f in pre_building_files:\n",
        "    Images.append(Image.open('data/train_images/pre_buildings/' + f).convert('RGB'))"
      ],
      "execution_count": 41,
      "outputs": []
    },
    {
      "cell_type": "code",
      "metadata": {
        "id": "MSUj64wJLV4K"
      },
      "source": [
        "X_pre = []\n",
        "for I in Images:\n",
        "    X_pre.append(np.asarray(I))"
      ],
      "execution_count": 42,
      "outputs": []
    },
    {
      "cell_type": "code",
      "metadata": {
        "id": "zkPX7uQ0Lb2A",
        "outputId": "dc13f785-16bc-4909-8028-17349a98ddde",
        "colab": {
          "base_uri": "https://localhost:8080/",
          "height": 34
        }
      },
      "source": [
        "X_pre = np.array(X_pre)\n",
        "X_pre.shape"
      ],
      "execution_count": 43,
      "outputs": [
        {
          "output_type": "execute_result",
          "data": {
            "text/plain": [
              "(31394, 50, 50, 3)"
            ]
          },
          "metadata": {
            "tags": []
          },
          "execution_count": 43
        }
      ]
    },
    {
      "cell_type": "code",
      "metadata": {
        "id": "JfjQmFQNLgyk"
      },
      "source": [
        "Images = []\n",
        "for f in post_building_files:\n",
        "    Images.append(Image.open('data/train_images/post_buildings/' + f).convert('RGB'))"
      ],
      "execution_count": 44,
      "outputs": []
    },
    {
      "cell_type": "code",
      "metadata": {
        "id": "-s6_C90HLmpX"
      },
      "source": [
        "X_post = []\n",
        "for I in Images:\n",
        "    X_post.append(np.asarray(I))"
      ],
      "execution_count": 45,
      "outputs": []
    },
    {
      "cell_type": "code",
      "metadata": {
        "id": "lVLw6nV4LtjH",
        "outputId": "8fc24b68-4485-4a7b-9c8a-c0276c1909ef",
        "colab": {
          "base_uri": "https://localhost:8080/",
          "height": 34
        }
      },
      "source": [
        "X_post = np.array(X_post)\n",
        "X_post.shape"
      ],
      "execution_count": 46,
      "outputs": [
        {
          "output_type": "execute_result",
          "data": {
            "text/plain": [
              "(31394, 50, 50, 3)"
            ]
          },
          "metadata": {
            "tags": []
          },
          "execution_count": 46
        }
      ]
    },
    {
      "cell_type": "code",
      "metadata": {
        "id": "v2arC3FUL2_F",
        "outputId": "85cd9634-329d-46a3-be3e-7db77095cbfa",
        "colab": {
          "base_uri": "https://localhost:8080/",
          "height": 34
        }
      },
      "source": [
        "X = np.concatenate((X_pre, X_post), axis=3)\n",
        "X.shape"
      ],
      "execution_count": 47,
      "outputs": [
        {
          "output_type": "execute_result",
          "data": {
            "text/plain": [
              "(31394, 50, 50, 6)"
            ]
          },
          "metadata": {
            "tags": []
          },
          "execution_count": 47
        }
      ]
    },
    {
      "cell_type": "code",
      "metadata": {
        "id": "ePvs5QozMADO",
        "outputId": "26b3435a-994f-4e92-a9dd-451e3b0beb0b",
        "colab": {
          "base_uri": "https://localhost:8080/",
          "height": 34
        }
      },
      "source": [
        "len(damage_labels)"
      ],
      "execution_count": 48,
      "outputs": [
        {
          "output_type": "execute_result",
          "data": {
            "text/plain": [
              "31394"
            ]
          },
          "metadata": {
            "tags": []
          },
          "execution_count": 48
        }
      ]
    },
    {
      "cell_type": "code",
      "metadata": {
        "id": "pu83IHwvMI41"
      },
      "source": [
        "label_map = {'no-damage': 0, 'minor-damage': 1, 'major-damage': 2, 'destroyed': 3, 'un-classified': 4}\n",
        "\n",
        "for label in damage_labels:\n",
        "    Y.append(label_map[label])"
      ],
      "execution_count": 49,
      "outputs": []
    },
    {
      "cell_type": "code",
      "metadata": {
        "id": "HlKx0-p3MWx3"
      },
      "source": [
        "train_X = X.astype('float32')[:int(0.8*len(X))]\n",
        "test_X = X.astype('float32')[int(0.8*len(X)):]\n",
        "train_Y = Y[0:int(0.8*len(Y))]\n",
        "test_Y = Y[int(0.8*len(Y)):]"
      ],
      "execution_count": 50,
      "outputs": []
    },
    {
      "cell_type": "code",
      "metadata": {
        "id": "PLhCf9bkMeTW",
        "outputId": "e95ca600-afe0-4aa8-bf80-51fa87b32e6b",
        "colab": {
          "base_uri": "https://localhost:8080/",
          "height": 102
        }
      },
      "source": [
        "print(test_Y.count(0))\n",
        "print(test_Y.count(1))\n",
        "print(test_Y.count(2))\n",
        "print(test_Y.count(3))\n",
        "print(test_Y.count(4))"
      ],
      "execution_count": 51,
      "outputs": [
        {
          "output_type": "stream",
          "text": [
            "4592\n",
            "0\n",
            "134\n",
            "1519\n",
            "34\n"
          ],
          "name": "stdout"
        }
      ]
    },
    {
      "cell_type": "code",
      "metadata": {
        "id": "q30bRyAVMpmr",
        "outputId": "1460771a-4fad-43a2-ec6c-86b7cd6a20f2",
        "colab": {
          "base_uri": "https://localhost:8080/",
          "height": 34
        }
      },
      "source": [
        "# train_X = X.astype('float32')\n",
        "# train_X /= 255\n",
        "\n",
        "# train_Y = Y\n",
        "\n",
        "# train_X.shape\n",
        "\n",
        "train_X /= 255\n",
        "test_X /= 255\n",
        "\n",
        "train_X.shape"
      ],
      "execution_count": 52,
      "outputs": [
        {
          "output_type": "execute_result",
          "data": {
            "text/plain": [
              "(25115, 50, 50, 6)"
            ]
          },
          "metadata": {
            "tags": []
          },
          "execution_count": 52
        }
      ]
    },
    {
      "cell_type": "code",
      "metadata": {
        "id": "ltNRm3BlsJdp",
        "outputId": "546c9fc3-7f3a-45ad-e5d8-d1c043dd3aea",
        "colab": {
          "base_uri": "https://localhost:8080/",
          "height": 68
        }
      },
      "source": [
        "#Mengkomputasi kelas bobotnya\n",
        "from sklearn.utils.class_weight import compute_class_weight\n",
        "print(np.unique(train_Y,return_counts=True))\n",
        "\n",
        "cw = compute_class_weight(\"balanced\",np.unique(train_Y),train_Y)\n",
        "print(cw)"
      ],
      "execution_count": 54,
      "outputs": [
        {
          "output_type": "stream",
          "text": [
            "(array([0, 1, 2, 3, 4]), array([20863,     1,   437,  3447,   367]))\n",
            "[2.40761156e-01 5.02300000e+03 1.14942792e+01 1.45720917e+00\n",
            " 1.36866485e+01]\n"
          ],
          "name": "stdout"
        }
      ]
    },
    {
      "cell_type": "code",
      "metadata": {
        "id": "E_AV1483DTUy"
      },
      "source": [
        "import tensorflow as tf\n",
        "import pandas as pd\n",
        "from sklearn import svm, datasets\n",
        "from keras.models import Sequential\n",
        "from keras.layers import Input, Dropout, Flatten, Conv2D, MaxPooling2D, Dense, Activation, Reshape\n",
        "from keras.optimizers import RMSprop\n",
        "from keras.layers.normalization import BatchNormalization\n",
        "from keras.constraints import max_norm\n",
        "from keras import layers\n",
        "\n",
        "\n"
      ],
      "execution_count": 57,
      "outputs": []
    },
    {
      "cell_type": "code",
      "metadata": {
        "id": "x5bE2DOYuKmF",
        "outputId": "79b3f243-1cdf-41a7-eea2-597cf173ff48",
        "colab": {
          "base_uri": "https://localhost:8080/",
          "height": 595
        }
      },
      "source": [
        "model = Sequential([\n",
        "    layers.Conv2D(16,(3,3),name=\"conv1\",input_shape=(50,50,6),activation=\"relu\",padding=\"same\"),   \n",
        "    layers.MaxPool2D((2,2),name=\"pool1\"),\n",
        "    #layers.Dropout(0.05),\n",
        "    layers.Conv2D(32,(3,3),name=\"conv2\",padding=\"same\"),\n",
        "    layers.Activation(\"relu\"),\n",
        "    layers.MaxPool2D((2,2),name=\"pool2\"),\n",
        "    #layers.Dropout(0.05),\n",
        "    layers.Conv2D(32,(3,3),name=\"conv3\",padding=\"same\"),\n",
        "    layers.Activation(\"relu\"),\n",
        "    layers.MaxPool2D((2,2),name=\"pool3\"),\n",
        "    #layers.Dropout(0.05),\n",
        "    layers.Flatten(),\n",
        "    layers.Dropout(0.2),\n",
        "    layers.Dense(32,activation=\"relu\"),\n",
        "    layers.Dense(1),\n",
        "    layers.Activation(\"sigmoid\",name=\"prediction\")\n",
        "]\n",
        ")\n",
        "\n",
        "model.compile(optimizer=\"adam\",loss=\"binary_crossentropy\",metrics=[\"acc\"])\n",
        "\n",
        "model.summary()"
      ],
      "execution_count": 58,
      "outputs": [
        {
          "output_type": "stream",
          "text": [
            "Model: \"sequential\"\n",
            "_________________________________________________________________\n",
            "Layer (type)                 Output Shape              Param #   \n",
            "=================================================================\n",
            "conv1 (Conv2D)               (None, 50, 50, 16)        880       \n",
            "_________________________________________________________________\n",
            "pool1 (MaxPooling2D)         (None, 25, 25, 16)        0         \n",
            "_________________________________________________________________\n",
            "conv2 (Conv2D)               (None, 25, 25, 32)        4640      \n",
            "_________________________________________________________________\n",
            "activation (Activation)      (None, 25, 25, 32)        0         \n",
            "_________________________________________________________________\n",
            "pool2 (MaxPooling2D)         (None, 12, 12, 32)        0         \n",
            "_________________________________________________________________\n",
            "conv3 (Conv2D)               (None, 12, 12, 32)        9248      \n",
            "_________________________________________________________________\n",
            "activation_1 (Activation)    (None, 12, 12, 32)        0         \n",
            "_________________________________________________________________\n",
            "pool3 (MaxPooling2D)         (None, 6, 6, 32)          0         \n",
            "_________________________________________________________________\n",
            "flatten (Flatten)            (None, 1152)              0         \n",
            "_________________________________________________________________\n",
            "dropout (Dropout)            (None, 1152)              0         \n",
            "_________________________________________________________________\n",
            "dense (Dense)                (None, 32)                36896     \n",
            "_________________________________________________________________\n",
            "dense_1 (Dense)              (None, 1)                 33        \n",
            "_________________________________________________________________\n",
            "prediction (Activation)      (None, 1)                 0         \n",
            "=================================================================\n",
            "Total params: 51,697\n",
            "Trainable params: 51,697\n",
            "Non-trainable params: 0\n",
            "_________________________________________________________________\n"
          ],
          "name": "stdout"
        }
      ]
    },
    {
      "cell_type": "code",
      "metadata": {
        "id": "MX4x1-RTb_1_",
        "outputId": "20641001-4d9b-49ff-ed76-7ade6ff168e8",
        "colab": {
          "base_uri": "https://localhost:8080/",
          "height": 717
        }
      },
      "source": [
        "from keras.callbacks import EarlyStopping\n",
        "train_X=np.array(train_X)\n",
        "train_Y=np.array(train_Y)\n",
        "batch_size = 64\n",
        "EPOCHS = 20\n",
        "\n",
        "# test the network:\n",
        "history=model.fit(train_X, train_Y, batch_size=batch_size, epochs=EPOCHS, validation_split=0.25, verbose=1, shuffle=True)"
      ],
      "execution_count": 59,
      "outputs": [
        {
          "output_type": "stream",
          "text": [
            "Epoch 1/20\n",
            "295/295 [==============================] - 3s 9ms/step - loss: -3.3489 - acc: 0.2916 - val_loss: 4.9946 - val_acc: 0.5622\n",
            "Epoch 2/20\n",
            "295/295 [==============================] - 2s 7ms/step - loss: -10.4429 - acc: 0.2900 - val_loss: 4.3365 - val_acc: 0.3300\n",
            "Epoch 3/20\n",
            "295/295 [==============================] - 2s 7ms/step - loss: -306.3788 - acc: 0.3219 - val_loss: 1823.5562 - val_acc: 0.1916\n",
            "Epoch 4/20\n",
            "295/295 [==============================] - 2s 7ms/step - loss: -46800.2266 - acc: 0.3444 - val_loss: 130282.2812 - val_acc: 0.3048\n",
            "Epoch 5/20\n",
            "295/295 [==============================] - 2s 7ms/step - loss: -533306.6875 - acc: 0.3440 - val_loss: 895712.0000 - val_acc: 0.2188\n",
            "Epoch 6/20\n",
            "295/295 [==============================] - 2s 7ms/step - loss: -2454947.5000 - acc: 0.3450 - val_loss: 1666017.8750 - val_acc: 0.3744\n",
            "Epoch 7/20\n",
            "295/295 [==============================] - 2s 7ms/step - loss: -7074291.5000 - acc: 0.3363 - val_loss: 3852092.7500 - val_acc: 0.5147\n",
            "Epoch 8/20\n",
            "295/295 [==============================] - 2s 7ms/step - loss: -15690754.0000 - acc: 0.3418 - val_loss: 6355281.0000 - val_acc: 0.5912\n",
            "Epoch 9/20\n",
            "295/295 [==============================] - 2s 7ms/step - loss: -29583972.0000 - acc: 0.3434 - val_loss: 32755616.0000 - val_acc: 0.2507\n",
            "Epoch 10/20\n",
            "295/295 [==============================] - 2s 7ms/step - loss: -51037928.0000 - acc: 0.3476 - val_loss: 41206576.0000 - val_acc: 0.4056\n",
            "Epoch 11/20\n",
            "295/295 [==============================] - 2s 7ms/step - loss: -82783848.0000 - acc: 0.3458 - val_loss: 166474432.0000 - val_acc: 0.2567\n",
            "Epoch 12/20\n",
            "295/295 [==============================] - 2s 7ms/step - loss: -124110320.0000 - acc: 0.3432 - val_loss: 112660384.0000 - val_acc: 0.3335\n",
            "Epoch 13/20\n",
            "295/295 [==============================] - 2s 7ms/step - loss: -183014720.0000 - acc: 0.3429 - val_loss: 107785312.0000 - val_acc: 0.4396\n",
            "Epoch 14/20\n",
            "295/295 [==============================] - 2s 7ms/step - loss: -254990816.0000 - acc: 0.3468 - val_loss: 273372832.0000 - val_acc: 0.3473\n",
            "Epoch 15/20\n",
            "295/295 [==============================] - 2s 7ms/step - loss: -346154304.0000 - acc: 0.3453 - val_loss: 216764384.0000 - val_acc: 0.3215\n",
            "Epoch 16/20\n",
            "295/295 [==============================] - 2s 7ms/step - loss: -455527808.0000 - acc: 0.3474 - val_loss: 232813456.0000 - val_acc: 0.3510\n",
            "Epoch 17/20\n",
            "295/295 [==============================] - 2s 7ms/step - loss: -581000000.0000 - acc: 0.3390 - val_loss: 418639136.0000 - val_acc: 0.3894\n",
            "Epoch 18/20\n",
            "295/295 [==============================] - 2s 7ms/step - loss: -738309184.0000 - acc: 0.3483 - val_loss: 397381408.0000 - val_acc: 0.4335\n",
            "Epoch 19/20\n",
            "295/295 [==============================] - 2s 7ms/step - loss: -919511232.0000 - acc: 0.3490 - val_loss: 1450156032.0000 - val_acc: 0.2994\n",
            "Epoch 20/20\n",
            "295/295 [==============================] - 2s 6ms/step - loss: -1129538432.0000 - acc: 0.3398 - val_loss: 959229632.0000 - val_acc: 0.3700\n"
          ],
          "name": "stdout"
        }
      ]
    },
    {
      "cell_type": "code",
      "metadata": {
        "id": "BbhuA74ckNZx"
      },
      "source": [
        "test_predict_Y = model.predict(test_X, batch_size=batch_size, verbose=0, steps=None, callbacks=None, max_queue_size=10, workers=1, use_multiprocessing=False)\n",
        "test_predict_Y"
      ],
      "execution_count": null,
      "outputs": []
    },
    {
      "cell_type": "code",
      "metadata": {
        "id": "0RqYDkjfnAnd"
      },
      "source": [
        "from sklearn.metrics import multilabel_confusion_matrix\n",
        "from sklearn.metrics import accuracy_score\n",
        "\n",
        "correct_damaged = 0\n",
        "correct_undamaged = 0\n",
        "incorrect_damaged = 0\n",
        "incorrect_undamaged = 0\n",
        "for index in range(len(test_Y)):\n",
        "    if int(test_Y[index]) > 0:\n",
        "        if int(test_predict_Y[index]) > 0:\n",
        "            correct_damaged += 1\n",
        "        else:\n",
        "            incorrect_damaged += 1\n",
        "    else:\n",
        "        if int(test_predict_Y[index]) > 0:\n",
        "            incorrect_undamaged += 1\n",
        "        else:\n",
        "            correct_undamaged += 1\n",
        "\n",
        "print('# of damaged buildings correctly labeled as damaged: ', correct_damaged)\n",
        "print('# of damaged buildings incorrectly labeled as undamaged: ', incorrect_damaged)\n",
        "print('# of undamaged buildings correctly labeled as undamaged: ', correct_undamaged)\n",
        "print('# of undamaged buildings incorrectly labeled as damaged: ', incorrect_undamaged)\n",
        "    \n",
        "#multilabel_confusion_matrix(test_Y, test_predict_Y)"
      ],
      "execution_count": null,
      "outputs": []
    },
    {
      "cell_type": "code",
      "metadata": {
        "id": "3qaeSe7ui_Ah"
      },
      "source": [
        "import matplotlib.pyplot as plt\n",
        "from keras.callbacks import EarlyStopping, ModelCheckpoint\n",
        "from keras.callbacks import History\n",
        "plt.plot(history.history[\"accuracy\"],label=\"Akurasi Pelatihan\")\n",
        "plt.plot(history.history[\"val_accuracy\"],label=\"Validasi Akurasi\")\n",
        "plt.legend()\n",
        "plt.show()\n",
        "\n",
        "plt.plot(history.history[\"loss\"],label=\"Kegagalan Pelatihan\")\n",
        "plt.plot(history.history[\"val_loss\"],label=\"Validasi Kegagalan\")\n",
        "plt.legend()\n",
        "plt.show()"
      ],
      "execution_count": null,
      "outputs": []
    }
  ]
}