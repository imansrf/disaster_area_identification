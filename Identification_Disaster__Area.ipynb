{
  "nbformat": 4,
  "nbformat_minor": 0,
  "metadata": {
    "colab": {
      "name": "Identification_Disaster _Area.ipynb",
      "provenance": [],
      "collapsed_sections": [],
      "toc_visible": true,
      "authorship_tag": "ABX9TyMJglKwONvDIP6mxQ0LaI2S",
      "include_colab_link": true
    },
    "kernelspec": {
      "name": "python3",
      "display_name": "Python 3"
    },
    "accelerator": "GPU"
  },
  "cells": [
    {
      "cell_type": "markdown",
      "metadata": {
        "id": "view-in-github",
        "colab_type": "text"
      },
      "source": [
        "<a href=\"https://colab.research.google.com/github/imansrf/disaster_area_identification/blob/main/Identification_Disaster__Area.ipynb\" target=\"_parent\"><img src=\"https://colab.research.google.com/assets/colab-badge.svg\" alt=\"Open In Colab\"/></a>"
      ]
    },
    {
      "cell_type": "markdown",
      "metadata": {
        "id": "kvGXMTYp99O5"
      },
      "source": [
        "# Impor Dataset"
      ]
    },
    {
      "cell_type": "code",
      "metadata": {
        "id": "GeR1u3kg5a-n",
        "outputId": "0680a476-945a-40e6-9f9e-c5be4c28287f",
        "colab": {
          "base_uri": "https://localhost:8080/",
          "height": 54
        }
      },
      "source": [
        "from google.colab import drive\n",
        "drive.mount('/content/gdrive')"
      ],
      "execution_count": 39,
      "outputs": [
        {
          "output_type": "stream",
          "text": [
            "Drive already mounted at /content/gdrive; to attempt to forcibly remount, call drive.mount(\"/content/gdrive\", force_remount=True).\n"
          ],
          "name": "stdout"
        }
      ]
    },
    {
      "cell_type": "markdown",
      "metadata": {
        "id": "vISa369B-J88"
      },
      "source": [
        "# Membuat Folder"
      ]
    },
    {
      "cell_type": "code",
      "metadata": {
        "id": "w_1Yb0Kp97Fd"
      },
      "source": [
        "import shutil\n",
        "import os, sys\n",
        "\n",
        "## create folders\n",
        "if not os.path.exists('data/'):\n",
        "    os.makedirs('data/data_disaster')\n",
        "    os.makedirs('data/train_images/pre_images')\n",
        "    os.makedirs('data/train_images/post_images')\n",
        "    os.makedirs('data/train_images/pre_buildings')\n",
        "    os.makedirs('data/train_images/post_buildings')\n",
        "    os.makedirs('data/train_labels/pre_labels')\n",
        "    os.makedirs('data/train_labels/post_labels')"
      ],
      "execution_count": 40,
      "outputs": []
    },
    {
      "cell_type": "markdown",
      "metadata": {
        "id": "X9Rmi1Uz_VLU"
      },
      "source": [
        "# Compress Citra ke 24 bit"
      ]
    },
    {
      "cell_type": "code",
      "metadata": {
        "id": "eaa1Y8Hc_bMG",
        "outputId": "5db83e74-abc7-4c12-cbf9-0cac96982acb",
        "colab": {
          "base_uri": "https://localhost:8080/",
          "height": 1000
        }
      },
      "source": [
        "import glob\n",
        "from PIL import Image\n",
        "\n",
        "src ='/content/gdrive/My Drive/Data disaster/train/images/'\n",
        "dest= '/content/data'\n",
        "\n",
        "for filename in os.listdir(src):\n",
        "        im = Image.open(src + filename).convert('RGB')\n",
        "        print (im.mode)\n",
        "        im.save(dest + filename)"
      ],
      "execution_count": 57,
      "outputs": [
        {
          "output_type": "stream",
          "text": [
            "RGB\n",
            "RGB\n",
            "RGB\n",
            "RGB\n",
            "RGB\n",
            "RGB\n",
            "RGB\n",
            "RGB\n",
            "RGB\n",
            "RGB\n",
            "RGB\n",
            "RGB\n",
            "RGB\n",
            "RGB\n",
            "RGB\n",
            "RGB\n",
            "RGB\n",
            "RGB\n",
            "RGB\n",
            "RGB\n",
            "RGB\n",
            "RGB\n",
            "RGB\n",
            "RGB\n",
            "RGB\n",
            "RGB\n",
            "RGB\n",
            "RGB\n",
            "RGB\n",
            "RGB\n",
            "RGB\n",
            "RGB\n",
            "RGB\n",
            "RGB\n",
            "RGB\n",
            "RGB\n",
            "RGB\n",
            "RGB\n",
            "RGB\n",
            "RGB\n",
            "RGB\n",
            "RGB\n",
            "RGB\n",
            "RGB\n",
            "RGB\n",
            "RGB\n",
            "RGB\n",
            "RGB\n",
            "RGB\n",
            "RGB\n",
            "RGB\n",
            "RGB\n",
            "RGB\n",
            "RGB\n",
            "RGB\n",
            "RGB\n",
            "RGB\n",
            "RGB\n",
            "RGB\n",
            "RGB\n",
            "RGB\n",
            "RGB\n",
            "RGB\n",
            "RGB\n",
            "RGB\n",
            "RGB\n",
            "RGB\n",
            "RGB\n",
            "RGB\n",
            "RGB\n",
            "RGB\n",
            "RGB\n",
            "RGB\n",
            "RGB\n",
            "RGB\n",
            "RGB\n",
            "RGB\n",
            "RGB\n",
            "RGB\n",
            "RGB\n",
            "RGB\n",
            "RGB\n",
            "RGB\n",
            "RGB\n",
            "RGB\n",
            "RGB\n",
            "RGB\n",
            "RGB\n",
            "RGB\n",
            "RGB\n",
            "RGB\n",
            "RGB\n",
            "RGB\n",
            "RGB\n",
            "RGB\n",
            "RGB\n",
            "RGB\n",
            "RGB\n",
            "RGB\n",
            "RGB\n",
            "RGB\n",
            "RGB\n",
            "RGB\n",
            "RGB\n",
            "RGB\n",
            "RGB\n",
            "RGB\n",
            "RGB\n",
            "RGB\n",
            "RGB\n",
            "RGB\n",
            "RGB\n",
            "RGB\n",
            "RGB\n",
            "RGB\n",
            "RGB\n",
            "RGB\n",
            "RGB\n",
            "RGB\n",
            "RGB\n",
            "RGB\n",
            "RGB\n",
            "RGB\n",
            "RGB\n",
            "RGB\n",
            "RGB\n",
            "RGB\n",
            "RGB\n",
            "RGB\n",
            "RGB\n",
            "RGB\n",
            "RGB\n",
            "RGB\n",
            "RGB\n",
            "RGB\n",
            "RGB\n",
            "RGB\n",
            "RGB\n",
            "RGB\n",
            "RGB\n",
            "RGB\n",
            "RGB\n",
            "RGB\n",
            "RGB\n",
            "RGB\n",
            "RGB\n",
            "RGB\n",
            "RGB\n",
            "RGB\n",
            "RGB\n",
            "RGB\n",
            "RGB\n",
            "RGB\n",
            "RGB\n",
            "RGB\n",
            "RGB\n",
            "RGB\n",
            "RGB\n",
            "RGB\n",
            "RGB\n",
            "RGB\n",
            "RGB\n",
            "RGB\n",
            "RGB\n",
            "RGB\n",
            "RGB\n",
            "RGB\n",
            "RGB\n",
            "RGB\n",
            "RGB\n",
            "RGB\n",
            "RGB\n",
            "RGB\n",
            "RGB\n",
            "RGB\n",
            "RGB\n",
            "RGB\n",
            "RGB\n",
            "RGB\n",
            "RGB\n",
            "RGB\n",
            "RGB\n",
            "RGB\n",
            "RGB\n",
            "RGB\n",
            "RGB\n",
            "RGB\n",
            "RGB\n",
            "RGB\n",
            "RGB\n",
            "RGB\n",
            "RGB\n",
            "RGB\n",
            "RGB\n",
            "RGB\n",
            "RGB\n",
            "RGB\n",
            "RGB\n",
            "RGB\n",
            "RGB\n",
            "RGB\n",
            "RGB\n",
            "RGB\n",
            "RGB\n",
            "RGB\n",
            "RGB\n",
            "RGB\n",
            "RGB\n",
            "RGB\n",
            "RGB\n",
            "RGB\n",
            "RGB\n",
            "RGB\n",
            "RGB\n",
            "RGB\n",
            "RGB\n",
            "RGB\n",
            "RGB\n",
            "RGB\n",
            "RGB\n",
            "RGB\n",
            "RGB\n",
            "RGB\n",
            "RGB\n",
            "RGB\n",
            "RGB\n"
          ],
          "name": "stdout"
        }
      ]
    },
    {
      "cell_type": "code",
      "metadata": {
        "id": "sC7qLQUbCa9T"
      },
      "source": [
        "import json\n",
        "import pandas as pd\n",
        "from pandas.io.json import json_normalize\n",
        "\n",
        "source ='/content/data/'\n",
        "dest = '/content/data/train_images/pre_images/'\n",
        "pre_tsunami_images = sorted([f for f in os.listdir(source) if 'tsunami' in f and 'pre' in f])\n",
        "for f in pre_tsunami_images:\n",
        "    shutil.copy(source + f, dest)"
      ],
      "execution_count": 65,
      "outputs": []
    },
    {
      "cell_type": "code",
      "metadata": {
        "id": "VwR4fMfSeUX4"
      },
      "source": [
        "source ='/content/data/'\n",
        "dest = '/content/data/train_images/post_images/'\n",
        "post_tsunami_images = sorted([f for f in os.listdir(source) if 'tsunami' in f and 'post' in f])\n",
        "for f in post_tsunami_images:\n",
        "    shutil.copy(source + f, dest)"
      ],
      "execution_count": 67,
      "outputs": []
    },
    {
      "cell_type": "code",
      "metadata": {
        "id": "l-6se_W4kXuC"
      },
      "source": [
        "import json\n",
        "import pandas as pd\n",
        "from pandas.io.json import json_normalize\n",
        "\n",
        "source ='/content/gdrive/My Drive/Data disaster/train/labels/'\n",
        "dest = '/content/data/train_labels/pre_labels/'\n",
        "\n",
        "pre_tsunami_labels = sorted([f for f in os.listdir(source) if 'tsunami' in f and 'pre' in f])\n",
        "for f in pre_tsunami_labels:\n",
        "    shutil.copy(source + f, dest)"
      ],
      "execution_count": 70,
      "outputs": []
    },
    {
      "cell_type": "code",
      "metadata": {
        "id": "ASjzkeQel1DG"
      },
      "source": [
        "source ='/content/gdrive/My Drive/Data disaster/train/labels/'\n",
        "dest = '/content/data/train_labels/post_labels/'\n",
        "\n",
        "post_tsunami_labels = sorted([f for f in os.listdir(source) if 'tsunami' in f and 'post' in f])\n",
        "for f in post_tsunami_labels:\n",
        "    shutil.copy(source + f, dest)"
      ],
      "execution_count": 71,
      "outputs": []
    }
  ]
}