{
  "nbformat": 4,
  "nbformat_minor": 0,
  "metadata": {
    "colab": {
      "name": "Identification_Disaster _Area.ipynb",
      "provenance": [],
      "collapsed_sections": [],
      "toc_visible": true,
      "authorship_tag": "ABX9TyPR6gInvv+uTaRUGGiZQwoK",
      "include_colab_link": true
    },
    "kernelspec": {
      "name": "python3",
      "display_name": "Python 3"
    },
    "accelerator": "GPU"
  },
  "cells": [
    {
      "cell_type": "markdown",
      "metadata": {
        "id": "view-in-github",
        "colab_type": "text"
      },
      "source": [
        "<a href=\"https://colab.research.google.com/github/imansrf/disaster_area_identification/blob/main/Identification_Disaster__Area.ipynb\" target=\"_parent\"><img src=\"https://colab.research.google.com/assets/colab-badge.svg\" alt=\"Open In Colab\"/></a>"
      ]
    },
    {
      "cell_type": "markdown",
      "metadata": {
        "id": "kvGXMTYp99O5"
      },
      "source": [
        "# Impor Dataset"
      ]
    },
    {
      "cell_type": "code",
      "metadata": {
        "id": "GeR1u3kg5a-n",
        "outputId": "da15447c-8e09-4358-d0c6-435bbb3867a6",
        "colab": {
          "base_uri": "https://localhost:8080/",
          "height": 54
        }
      },
      "source": [
        "from google.colab import drive\n",
        "drive.mount('/content/gdrive')"
      ],
      "execution_count": 1,
      "outputs": [
        {
          "output_type": "stream",
          "text": [
            "Drive already mounted at /content/gdrive; to attempt to forcibly remount, call drive.mount(\"/content/gdrive\", force_remount=True).\n"
          ],
          "name": "stdout"
        }
      ]
    },
    {
      "cell_type": "markdown",
      "metadata": {
        "id": "vISa369B-J88"
      },
      "source": [
        "# Membuat Folder"
      ]
    },
    {
      "cell_type": "code",
      "metadata": {
        "id": "w_1Yb0Kp97Fd"
      },
      "source": [
        "import shutil\n",
        "import os, sys\n",
        "\n",
        "## create folders\n",
        "if not os.path.exists('data/'):\n",
        "    os.makedirs('data/data_disaster')\n",
        "    os.makedirs('data/train_images/pre_images')\n",
        "    os.makedirs('data/train_images/post_images')\n",
        "    os.makedirs('data/train_images/pre_buildings')\n",
        "    os.makedirs('data/train_images/post_buildings')\n",
        "    os.makedirs('data/train_labels/pre_labels')\n",
        "    os.makedirs('data/train_labels/post_labels')"
      ],
      "execution_count": 2,
      "outputs": []
    },
    {
      "cell_type": "markdown",
      "metadata": {
        "id": "X9Rmi1Uz_VLU"
      },
      "source": [
        "# Compress Citra ke 24 bit"
      ]
    },
    {
      "cell_type": "code",
      "metadata": {
        "id": "eaa1Y8Hc_bMG",
        "outputId": "82835547-033e-4e02-d3c1-5b297d051c51",
        "colab": {
          "base_uri": "https://localhost:8080/",
          "height": 1000
        }
      },
      "source": [
        "import glob\n",
        "from PIL import Image\n",
        "\n",
        "src ='gdrive/My Drive/Data disaster/train/images/'\n",
        "dest= 'data/data_disaster/'\n",
        "\n",
        "for filename in os.listdir(src):\n",
        "        im = Image.open(src + filename).convert('RGB')\n",
        "        print (im.mode)\n",
        "        im.save(dest + filename)"
      ],
      "execution_count": 3,
      "outputs": [
        {
          "output_type": "stream",
          "text": [
            "RGB\n",
            "RGB\n",
            "RGB\n",
            "RGB\n",
            "RGB\n",
            "RGB\n",
            "RGB\n",
            "RGB\n",
            "RGB\n",
            "RGB\n",
            "RGB\n",
            "RGB\n",
            "RGB\n",
            "RGB\n",
            "RGB\n",
            "RGB\n",
            "RGB\n",
            "RGB\n",
            "RGB\n",
            "RGB\n",
            "RGB\n",
            "RGB\n",
            "RGB\n",
            "RGB\n",
            "RGB\n",
            "RGB\n",
            "RGB\n",
            "RGB\n",
            "RGB\n",
            "RGB\n",
            "RGB\n",
            "RGB\n",
            "RGB\n",
            "RGB\n",
            "RGB\n",
            "RGB\n",
            "RGB\n",
            "RGB\n",
            "RGB\n",
            "RGB\n",
            "RGB\n",
            "RGB\n",
            "RGB\n",
            "RGB\n",
            "RGB\n",
            "RGB\n",
            "RGB\n",
            "RGB\n",
            "RGB\n",
            "RGB\n",
            "RGB\n",
            "RGB\n",
            "RGB\n",
            "RGB\n",
            "RGB\n",
            "RGB\n",
            "RGB\n",
            "RGB\n",
            "RGB\n",
            "RGB\n",
            "RGB\n",
            "RGB\n",
            "RGB\n",
            "RGB\n",
            "RGB\n",
            "RGB\n",
            "RGB\n",
            "RGB\n",
            "RGB\n",
            "RGB\n",
            "RGB\n",
            "RGB\n",
            "RGB\n",
            "RGB\n",
            "RGB\n",
            "RGB\n",
            "RGB\n",
            "RGB\n",
            "RGB\n",
            "RGB\n",
            "RGB\n",
            "RGB\n",
            "RGB\n",
            "RGB\n",
            "RGB\n",
            "RGB\n",
            "RGB\n",
            "RGB\n",
            "RGB\n",
            "RGB\n",
            "RGB\n",
            "RGB\n",
            "RGB\n",
            "RGB\n",
            "RGB\n",
            "RGB\n",
            "RGB\n",
            "RGB\n",
            "RGB\n",
            "RGB\n",
            "RGB\n",
            "RGB\n",
            "RGB\n",
            "RGB\n",
            "RGB\n",
            "RGB\n",
            "RGB\n",
            "RGB\n",
            "RGB\n",
            "RGB\n",
            "RGB\n",
            "RGB\n",
            "RGB\n",
            "RGB\n",
            "RGB\n",
            "RGB\n",
            "RGB\n",
            "RGB\n",
            "RGB\n",
            "RGB\n",
            "RGB\n",
            "RGB\n",
            "RGB\n",
            "RGB\n",
            "RGB\n",
            "RGB\n",
            "RGB\n",
            "RGB\n",
            "RGB\n",
            "RGB\n",
            "RGB\n",
            "RGB\n",
            "RGB\n",
            "RGB\n",
            "RGB\n",
            "RGB\n",
            "RGB\n",
            "RGB\n",
            "RGB\n",
            "RGB\n",
            "RGB\n",
            "RGB\n",
            "RGB\n",
            "RGB\n",
            "RGB\n",
            "RGB\n",
            "RGB\n",
            "RGB\n",
            "RGB\n",
            "RGB\n",
            "RGB\n",
            "RGB\n",
            "RGB\n",
            "RGB\n",
            "RGB\n",
            "RGB\n",
            "RGB\n",
            "RGB\n",
            "RGB\n",
            "RGB\n",
            "RGB\n",
            "RGB\n",
            "RGB\n",
            "RGB\n",
            "RGB\n",
            "RGB\n",
            "RGB\n",
            "RGB\n",
            "RGB\n",
            "RGB\n",
            "RGB\n",
            "RGB\n",
            "RGB\n",
            "RGB\n",
            "RGB\n",
            "RGB\n",
            "RGB\n",
            "RGB\n",
            "RGB\n",
            "RGB\n",
            "RGB\n",
            "RGB\n",
            "RGB\n",
            "RGB\n",
            "RGB\n",
            "RGB\n",
            "RGB\n",
            "RGB\n",
            "RGB\n",
            "RGB\n",
            "RGB\n",
            "RGB\n",
            "RGB\n",
            "RGB\n",
            "RGB\n",
            "RGB\n",
            "RGB\n",
            "RGB\n",
            "RGB\n",
            "RGB\n",
            "RGB\n",
            "RGB\n",
            "RGB\n",
            "RGB\n",
            "RGB\n",
            "RGB\n",
            "RGB\n",
            "RGB\n",
            "RGB\n",
            "RGB\n",
            "RGB\n",
            "RGB\n",
            "RGB\n",
            "RGB\n",
            "RGB\n",
            "RGB\n",
            "RGB\n",
            "RGB\n",
            "RGB\n",
            "RGB\n",
            "RGB\n",
            "RGB\n",
            "RGB\n",
            "RGB\n",
            "RGB\n",
            "RGB\n"
          ],
          "name": "stdout"
        }
      ]
    },
    {
      "cell_type": "code",
      "metadata": {
        "id": "sC7qLQUbCa9T"
      },
      "source": [
        "import json\n",
        "import pandas as pd\n",
        "from pandas.io.json import json_normalize\n",
        "\n",
        "source ='data/data_disaster/'\n",
        "dest = 'data/train_images/pre_images/'\n",
        "pre_tsunami_images = sorted([f for f in os.listdir(source) if 'tsunami' in f and 'pre' in f])\n",
        "for f in pre_tsunami_images:\n",
        "    shutil.copy(source + f, dest)"
      ],
      "execution_count": 4,
      "outputs": []
    },
    {
      "cell_type": "code",
      "metadata": {
        "id": "VwR4fMfSeUX4"
      },
      "source": [
        "source ='data/data_disaster/'\n",
        "dest = 'data/train_images/post_images/'\n",
        "post_tsunami_images = sorted([f for f in os.listdir(source) if 'tsunami' in f and 'post' in f])\n",
        "for f in post_tsunami_images:\n",
        "    shutil.copy(source + f, dest)"
      ],
      "execution_count": 5,
      "outputs": []
    },
    {
      "cell_type": "code",
      "metadata": {
        "id": "l-6se_W4kXuC"
      },
      "source": [
        "import json\n",
        "import pandas as pd\n",
        "from pandas.io.json import json_normalize\n",
        "\n",
        "source ='gdrive/My Drive/Data disaster/train/labels/'\n",
        "dest = 'data/train_labels/pre_labels/'\n",
        "\n",
        "pre_tsunami_labels = sorted([f for f in os.listdir(source) if 'tsunami' in f and 'pre' in f])\n",
        "for f in pre_tsunami_labels:\n",
        "    shutil.copy(source + f, dest)"
      ],
      "execution_count": 6,
      "outputs": []
    },
    {
      "cell_type": "code",
      "metadata": {
        "id": "ASjzkeQel1DG"
      },
      "source": [
        "source ='gdrive/My Drive/Data disaster/train/labels/'\n",
        "dest = 'data/train_labels/post_labels/'\n",
        "\n",
        "post_tsunami_labels = sorted([f for f in os.listdir(source) if 'tsunami' in f and 'post' in f])\n",
        "for f in post_tsunami_labels:\n",
        "    shutil.copy(source + f, dest)"
      ],
      "execution_count": 7,
      "outputs": []
    },
    {
      "cell_type": "markdown",
      "metadata": {
        "id": "-rbOwPTmrYEL"
      },
      "source": [
        "# Data Exploration"
      ]
    },
    {
      "cell_type": "code",
      "metadata": {
        "id": "1SCkY-o2res5"
      },
      "source": [
        "import pandas as pd\n",
        "\n",
        "ROOT_PATH = ''"
      ],
      "execution_count": 8,
      "outputs": []
    },
    {
      "cell_type": "code",
      "metadata": {
        "id": "VUt_4EsMrgj4",
        "outputId": "c219d3f3-58f6-4a18-ca04-79da940073a3",
        "colab": {
          "base_uri": "https://localhost:8080/",
          "height": 643
        }
      },
      "source": [
        "import json\n",
        "from pandas.io.json import json_normalize\n",
        "\n",
        "with open (ROOT_PATH + 'data/train_labels/post_labels/palu-tsunami_00000002_post_disaster.json') as f:\n",
        "    data = json.load(f)\n",
        "\n",
        "# convert buildings json data into pandas dataframe:\n",
        "buildings_raw = data['features']['xy']\n",
        "buildings_df = pd.DataFrame.from_dict(json_normalize(buildings_raw), orient='columns')\n",
        "buildings_df"
      ],
      "execution_count": 9,
      "outputs": [
        {
          "output_type": "stream",
          "text": [
            "/usr/local/lib/python3.6/dist-packages/ipykernel_launcher.py:9: FutureWarning: pandas.io.json.json_normalize is deprecated, use pandas.json_normalize instead\n",
            "  if __name__ == '__main__':\n"
          ],
          "name": "stderr"
        },
        {
          "output_type": "execute_result",
          "data": {
            "text/html": [
              "<div>\n",
              "<style scoped>\n",
              "    .dataframe tbody tr th:only-of-type {\n",
              "        vertical-align: middle;\n",
              "    }\n",
              "\n",
              "    .dataframe tbody tr th {\n",
              "        vertical-align: top;\n",
              "    }\n",
              "\n",
              "    .dataframe thead th {\n",
              "        text-align: right;\n",
              "    }\n",
              "</style>\n",
              "<table border=\"1\" class=\"dataframe\">\n",
              "  <thead>\n",
              "    <tr style=\"text-align: right;\">\n",
              "      <th></th>\n",
              "      <th>wkt</th>\n",
              "      <th>properties.feature_type</th>\n",
              "      <th>properties.subtype</th>\n",
              "      <th>properties.uid</th>\n",
              "    </tr>\n",
              "  </thead>\n",
              "  <tbody>\n",
              "    <tr>\n",
              "      <th>0</th>\n",
              "      <td>POLYGON ((827.1947747991766 38.05266036150195,...</td>\n",
              "      <td>building</td>\n",
              "      <td>no-damage</td>\n",
              "      <td>971e02df-cb7f-4db6-986e-a5759d37d7ee</td>\n",
              "    </tr>\n",
              "    <tr>\n",
              "      <th>1</th>\n",
              "      <td>POLYGON ((923.0499820392861 35.6899999230119, ...</td>\n",
              "      <td>building</td>\n",
              "      <td>no-damage</td>\n",
              "      <td>6a02f21b-8059-4c83-bb79-ba975e738794</td>\n",
              "    </tr>\n",
              "    <tr>\n",
              "      <th>2</th>\n",
              "      <td>POLYGON ((956.5165597985542 29.71629280817124,...</td>\n",
              "      <td>building</td>\n",
              "      <td>no-damage</td>\n",
              "      <td>c81fa786-4e7f-40b9-b042-fdb60ba02072</td>\n",
              "    </tr>\n",
              "    <tr>\n",
              "      <th>3</th>\n",
              "      <td>POLYGON ((882.8796877291832 35.17580075222946,...</td>\n",
              "      <td>building</td>\n",
              "      <td>no-damage</td>\n",
              "      <td>0e5a70c7-1a2a-4fe5-9123-239c39424bc6</td>\n",
              "    </tr>\n",
              "    <tr>\n",
              "      <th>4</th>\n",
              "      <td>POLYGON ((1007.785306028995 66.74944906072707,...</td>\n",
              "      <td>building</td>\n",
              "      <td>no-damage</td>\n",
              "      <td>a3466f3d-ca9c-4d2f-b9c2-84c074eec59d</td>\n",
              "    </tr>\n",
              "    <tr>\n",
              "      <th>...</th>\n",
              "      <td>...</td>\n",
              "      <td>...</td>\n",
              "      <td>...</td>\n",
              "      <td>...</td>\n",
              "    </tr>\n",
              "    <tr>\n",
              "      <th>316</th>\n",
              "      <td>POLYGON ((58.5599604418947 36.33943248283705, ...</td>\n",
              "      <td>building</td>\n",
              "      <td>no-damage</td>\n",
              "      <td>53094760-b84c-4d41-809e-aeae364a9852</td>\n",
              "    </tr>\n",
              "    <tr>\n",
              "      <th>317</th>\n",
              "      <td>POLYGON ((330.7137329339447 264.3348219249181,...</td>\n",
              "      <td>building</td>\n",
              "      <td>no-damage</td>\n",
              "      <td>a2587212-d3f3-4667-9b5d-5471c4eba416</td>\n",
              "    </tr>\n",
              "    <tr>\n",
              "      <th>318</th>\n",
              "      <td>POLYGON ((441.7511553920975 426.538227628857, ...</td>\n",
              "      <td>building</td>\n",
              "      <td>no-damage</td>\n",
              "      <td>dcb92240-f195-4010-9bf4-2d8af4f3447f</td>\n",
              "    </tr>\n",
              "    <tr>\n",
              "      <th>319</th>\n",
              "      <td>POLYGON ((416.9513452483098 883.4820980865841,...</td>\n",
              "      <td>building</td>\n",
              "      <td>destroyed</td>\n",
              "      <td>e72a7a48-b375-4901-bd91-38c0e28712b8</td>\n",
              "    </tr>\n",
              "    <tr>\n",
              "      <th>320</th>\n",
              "      <td>POLYGON ((459.5240397176403 1022.9587444334, 4...</td>\n",
              "      <td>building</td>\n",
              "      <td>destroyed</td>\n",
              "      <td>71de9ca0-65d3-4137-ae3a-5157d9373a55</td>\n",
              "    </tr>\n",
              "  </tbody>\n",
              "</table>\n",
              "<p>321 rows × 4 columns</p>\n",
              "</div>"
            ],
            "text/plain": [
              "                                                   wkt  ...                        properties.uid\n",
              "0    POLYGON ((827.1947747991766 38.05266036150195,...  ...  971e02df-cb7f-4db6-986e-a5759d37d7ee\n",
              "1    POLYGON ((923.0499820392861 35.6899999230119, ...  ...  6a02f21b-8059-4c83-bb79-ba975e738794\n",
              "2    POLYGON ((956.5165597985542 29.71629280817124,...  ...  c81fa786-4e7f-40b9-b042-fdb60ba02072\n",
              "3    POLYGON ((882.8796877291832 35.17580075222946,...  ...  0e5a70c7-1a2a-4fe5-9123-239c39424bc6\n",
              "4    POLYGON ((1007.785306028995 66.74944906072707,...  ...  a3466f3d-ca9c-4d2f-b9c2-84c074eec59d\n",
              "..                                                 ...  ...                                   ...\n",
              "316  POLYGON ((58.5599604418947 36.33943248283705, ...  ...  53094760-b84c-4d41-809e-aeae364a9852\n",
              "317  POLYGON ((330.7137329339447 264.3348219249181,...  ...  a2587212-d3f3-4667-9b5d-5471c4eba416\n",
              "318  POLYGON ((441.7511553920975 426.538227628857, ...  ...  dcb92240-f195-4010-9bf4-2d8af4f3447f\n",
              "319  POLYGON ((416.9513452483098 883.4820980865841,...  ...  e72a7a48-b375-4901-bd91-38c0e28712b8\n",
              "320  POLYGON ((459.5240397176403 1022.9587444334, 4...  ...  71de9ca0-65d3-4137-ae3a-5157d9373a55\n",
              "\n",
              "[321 rows x 4 columns]"
            ]
          },
          "metadata": {
            "tags": []
          },
          "execution_count": 9
        }
      ]
    },
    {
      "cell_type": "code",
      "metadata": {
        "id": "NzRnb9pUr020",
        "outputId": "09bc6539-49dd-4d44-82b5-f2c8940cd939",
        "colab": {
          "base_uri": "https://localhost:8080/",
          "height": 102
        }
      },
      "source": [
        "# for a single image\n",
        "buildings_df['properties.subtype'].value_counts()"
      ],
      "execution_count": 10,
      "outputs": [
        {
          "output_type": "execute_result",
          "data": {
            "text/plain": [
              "no-damage        273\n",
              "destroyed         34\n",
              "major-damage      11\n",
              "un-classified      3\n",
              "Name: properties.subtype, dtype: int64"
            ]
          },
          "metadata": {
            "tags": []
          },
          "execution_count": 10
        }
      ]
    },
    {
      "cell_type": "code",
      "metadata": {
        "id": "-tdrv767r_sS",
        "outputId": "1843e078-0d3f-4b13-af37-4f77f9457e84",
        "colab": {
          "base_uri": "https://localhost:8080/",
          "height": 121
        }
      },
      "source": [
        "from shapely.geometry import Polygon\n",
        "import shapely.wkt\n",
        "\n",
        "P = shapely.wkt.loads(data['features']['xy'][0]['wkt'])\n",
        "P"
      ],
      "execution_count": 11,
      "outputs": [
        {
          "output_type": "execute_result",
          "data": {
            "text/plain": [
              "<shapely.geometry.polygon.Polygon at 0x7fe688cf3438>"
            ],
            "image/svg+xml": "<svg xmlns=\"http://www.w3.org/2000/svg\" xmlns:xlink=\"http://www.w3.org/1999/xlink\" width=\"100.0\" height=\"100.0\" viewBox=\"786.7521928504777 32.16261023080053 61.225396473669775 39.92369473163023\" preserveAspectRatio=\"xMinYMin meet\"><g transform=\"matrix(1,0,0,-1,0,104.24891519323128)\"><path fill-rule=\"evenodd\" fill=\"#66cc99\" stroke=\"#555555\" stroke-width=\"1.2245079294733956\" opacity=\"0.6\" d=\"M 827.1947747991766,38.05266036150195 L 829.1453209507729,34.98751640992812 L 831.4473588178703,34.98751640992812 L 845.709982047345,37.97999992187803 L 843.0899820488738,55.59999992059679 L 842.7763545541816,56.28668189578335 L 835.2756088567241,56.28668189578335 L 833.3250627048943,66.59671155141694 L 829.702619851229,69.81869768562817 L 789.5770990293717,62.852461428993 L 789.0198001272803,53.6570295742715 L 793.4781913337323,42.5110515651504 L 797.6579330824804,43.06835046373751 L 802.3949737340209,34.43021750760312 L 827.1947747991766,38.05266036150195 z\" /></g></svg>"
          },
          "metadata": {
            "tags": []
          },
          "execution_count": 11
        }
      ]
    },
    {
      "cell_type": "code",
      "metadata": {
        "id": "RxPbxT9jsO0h",
        "outputId": "7651ccf6-5f56-4aff-d049-5cde65ee2d5d",
        "colab": {
          "base_uri": "https://localhost:8080/",
          "height": 34
        }
      },
      "source": [
        "P.bounds"
      ],
      "execution_count": 12,
      "outputs": [
        {
          "output_type": "execute_result",
          "data": {
            "text/plain": [
              "(789.0198001272803, 34.43021750760312, 845.709982047345, 69.81869768562817)"
            ]
          },
          "metadata": {
            "tags": []
          },
          "execution_count": 12
        }
      ]
    },
    {
      "cell_type": "code",
      "metadata": {
        "id": "-RdgwQWcsfpL"
      },
      "source": [
        "# get all files for post disaster\n",
        "directory = ROOT_PATH + 'data/train_labels/post_labels/'\n",
        "pattern = 'post'\n",
        "\n",
        "post_disaster_files = [f for f in os.listdir(directory) if pattern in f]"
      ],
      "execution_count": 13,
      "outputs": []
    },
    {
      "cell_type": "code",
      "metadata": {
        "id": "PQMmpt0psxyp"
      },
      "source": [
        "# loop over post disaster data\n",
        "all_json_data = []\n",
        "for file in post_disaster_files:\n",
        "    with open(directory + file) as f:\n",
        "        data = json.load(f)\n",
        "        all_json_data.append(data)"
      ],
      "execution_count": 14,
      "outputs": []
    },
    {
      "cell_type": "code",
      "metadata": {
        "id": "byIu6MqjtKKI",
        "outputId": "6a8114a0-00e2-4efa-943f-f3a26f7a045a",
        "colab": {
          "base_uri": "https://localhost:8080/",
          "height": 643
        }
      },
      "source": [
        "df = pd.DataFrame()\n",
        "for curr_data in all_json_data:\n",
        "    curr_building_raw = curr_data['features']['xy']\n",
        "    df = df.append(json_normalize(curr_building_raw))\n",
        "df"
      ],
      "execution_count": 15,
      "outputs": [
        {
          "output_type": "stream",
          "text": [
            "/usr/local/lib/python3.6/dist-packages/ipykernel_launcher.py:4: FutureWarning: pandas.io.json.json_normalize is deprecated, use pandas.json_normalize instead\n",
            "  after removing the cwd from sys.path.\n"
          ],
          "name": "stderr"
        },
        {
          "output_type": "execute_result",
          "data": {
            "text/html": [
              "<div>\n",
              "<style scoped>\n",
              "    .dataframe tbody tr th:only-of-type {\n",
              "        vertical-align: middle;\n",
              "    }\n",
              "\n",
              "    .dataframe tbody tr th {\n",
              "        vertical-align: top;\n",
              "    }\n",
              "\n",
              "    .dataframe thead th {\n",
              "        text-align: right;\n",
              "    }\n",
              "</style>\n",
              "<table border=\"1\" class=\"dataframe\">\n",
              "  <thead>\n",
              "    <tr style=\"text-align: right;\">\n",
              "      <th></th>\n",
              "      <th>wkt</th>\n",
              "      <th>properties.feature_type</th>\n",
              "      <th>properties.subtype</th>\n",
              "      <th>properties.uid</th>\n",
              "    </tr>\n",
              "  </thead>\n",
              "  <tbody>\n",
              "    <tr>\n",
              "      <th>0</th>\n",
              "      <td>POLYGON ((55.0405378956678 74.59986338288715, ...</td>\n",
              "      <td>building</td>\n",
              "      <td>no-damage</td>\n",
              "      <td>41da548d-50ad-413d-a889-56eaea067062</td>\n",
              "    </tr>\n",
              "    <tr>\n",
              "      <th>1</th>\n",
              "      <td>POLYGON ((54.1699810478758 52.67999990314197, ...</td>\n",
              "      <td>building</td>\n",
              "      <td>no-damage</td>\n",
              "      <td>6868b350-e466-4201-98ea-e40cb64fcdf8</td>\n",
              "    </tr>\n",
              "    <tr>\n",
              "      <th>2</th>\n",
              "      <td>POLYGON ((80.02998104606775 76.77999990226267,...</td>\n",
              "      <td>building</td>\n",
              "      <td>no-damage</td>\n",
              "      <td>8d7729f9-d109-429c-b02e-0a3a63ad31b6</td>\n",
              "    </tr>\n",
              "    <tr>\n",
              "      <th>3</th>\n",
              "      <td>POLYGON ((61.03998105006076 53.54999990460529,...</td>\n",
              "      <td>building</td>\n",
              "      <td>no-damage</td>\n",
              "      <td>2773eb85-3a2c-4b7a-bf17-896f00b7891d</td>\n",
              "    </tr>\n",
              "    <tr>\n",
              "      <th>4</th>\n",
              "      <td>POLYGON ((40.88349849964015 24.17512790855112,...</td>\n",
              "      <td>building</td>\n",
              "      <td>no-damage</td>\n",
              "      <td>5cbd01f8-3209-44b7-9e4c-b2c4b8bcdced</td>\n",
              "    </tr>\n",
              "    <tr>\n",
              "      <th>...</th>\n",
              "      <td>...</td>\n",
              "      <td>...</td>\n",
              "      <td>...</td>\n",
              "      <td>...</td>\n",
              "    </tr>\n",
              "    <tr>\n",
              "      <th>95</th>\n",
              "      <td>POLYGON ((125.1778218547872 67.615297267711, 1...</td>\n",
              "      <td>building</td>\n",
              "      <td>no-damage</td>\n",
              "      <td>204060c0-fef8-4d28-a7b8-ddb6794c615d</td>\n",
              "    </tr>\n",
              "    <tr>\n",
              "      <th>96</th>\n",
              "      <td>POLYGON ((135.1699812267663 47.32999989914772,...</td>\n",
              "      <td>building</td>\n",
              "      <td>no-damage</td>\n",
              "      <td>3360c571-ea1d-48e6-b93f-b6a693c99a59</td>\n",
              "    </tr>\n",
              "    <tr>\n",
              "      <th>97</th>\n",
              "      <td>POLYGON ((142.5730692695807 27.27929252690081,...</td>\n",
              "      <td>building</td>\n",
              "      <td>no-damage</td>\n",
              "      <td>d8807d5c-0b55-4461-87b9-3753328a18f8</td>\n",
              "    </tr>\n",
              "    <tr>\n",
              "      <th>98</th>\n",
              "      <td>POLYGON ((74.76998252947143 75.8685114841136, ...</td>\n",
              "      <td>building</td>\n",
              "      <td>no-damage</td>\n",
              "      <td>3c3bdce5-d847-41e5-8354-8d77efeb8ad6</td>\n",
              "    </tr>\n",
              "    <tr>\n",
              "      <th>99</th>\n",
              "      <td>POLYGON ((54.14700999298238 106.4385688665607,...</td>\n",
              "      <td>building</td>\n",
              "      <td>no-damage</td>\n",
              "      <td>407d1592-0898-4c69-a567-2b377fc1ef8b</td>\n",
              "    </tr>\n",
              "  </tbody>\n",
              "</table>\n",
              "<p>31394 rows × 4 columns</p>\n",
              "</div>"
            ],
            "text/plain": [
              "                                                  wkt  ...                        properties.uid\n",
              "0   POLYGON ((55.0405378956678 74.59986338288715, ...  ...  41da548d-50ad-413d-a889-56eaea067062\n",
              "1   POLYGON ((54.1699810478758 52.67999990314197, ...  ...  6868b350-e466-4201-98ea-e40cb64fcdf8\n",
              "2   POLYGON ((80.02998104606775 76.77999990226267,...  ...  8d7729f9-d109-429c-b02e-0a3a63ad31b6\n",
              "3   POLYGON ((61.03998105006076 53.54999990460529,...  ...  2773eb85-3a2c-4b7a-bf17-896f00b7891d\n",
              "4   POLYGON ((40.88349849964015 24.17512790855112,...  ...  5cbd01f8-3209-44b7-9e4c-b2c4b8bcdced\n",
              "..                                                ...  ...                                   ...\n",
              "95  POLYGON ((125.1778218547872 67.615297267711, 1...  ...  204060c0-fef8-4d28-a7b8-ddb6794c615d\n",
              "96  POLYGON ((135.1699812267663 47.32999989914772,...  ...  3360c571-ea1d-48e6-b93f-b6a693c99a59\n",
              "97  POLYGON ((142.5730692695807 27.27929252690081,...  ...  d8807d5c-0b55-4461-87b9-3753328a18f8\n",
              "98  POLYGON ((74.76998252947143 75.8685114841136, ...  ...  3c3bdce5-d847-41e5-8354-8d77efeb8ad6\n",
              "99  POLYGON ((54.14700999298238 106.4385688665607,...  ...  407d1592-0898-4c69-a567-2b377fc1ef8b\n",
              "\n",
              "[31394 rows x 4 columns]"
            ]
          },
          "metadata": {
            "tags": []
          },
          "execution_count": 15
        }
      ]
    },
    {
      "cell_type": "code",
      "metadata": {
        "id": "DVn8dRxYtzhB"
      },
      "source": [
        "### Building damages for hurricanes\n",
        "post_disaster_tsunami_files = [f for f in os.listdir(directory) if 'tsunami' in f]\n",
        "post_disaster_tsunami_files = list(filter(lambda x: 'post' in x, post_disaster_tsunami_files))"
      ],
      "execution_count": 16,
      "outputs": []
    },
    {
      "cell_type": "code",
      "metadata": {
        "id": "BQHwtZhquJkV"
      },
      "source": [
        "tsunami_json_data = []\n",
        "for file in post_disaster_tsunami_files:\n",
        "    with open(directory + file) as f:\n",
        "        data = json.load(f)\n",
        "        tsunami_json_data.append(data)"
      ],
      "execution_count": 17,
      "outputs": []
    },
    {
      "cell_type": "code",
      "metadata": {
        "id": "ZVIXefMdurmm",
        "outputId": "e1a4579a-506d-463d-c153-e70e865ddcb8",
        "colab": {
          "base_uri": "https://localhost:8080/",
          "height": 643
        }
      },
      "source": [
        "df_tsunami = pd.DataFrame()\n",
        "for curr_tsunami_data in tsunami_json_data:\n",
        "    df_tsunami = df_tsunami.append(json_normalize(curr_tsunami_data['features']['xy']))\n",
        "df_tsunami"
      ],
      "execution_count": 18,
      "outputs": [
        {
          "output_type": "stream",
          "text": [
            "/usr/local/lib/python3.6/dist-packages/ipykernel_launcher.py:3: FutureWarning: pandas.io.json.json_normalize is deprecated, use pandas.json_normalize instead\n",
            "  This is separate from the ipykernel package so we can avoid doing imports until\n"
          ],
          "name": "stderr"
        },
        {
          "output_type": "execute_result",
          "data": {
            "text/html": [
              "<div>\n",
              "<style scoped>\n",
              "    .dataframe tbody tr th:only-of-type {\n",
              "        vertical-align: middle;\n",
              "    }\n",
              "\n",
              "    .dataframe tbody tr th {\n",
              "        vertical-align: top;\n",
              "    }\n",
              "\n",
              "    .dataframe thead th {\n",
              "        text-align: right;\n",
              "    }\n",
              "</style>\n",
              "<table border=\"1\" class=\"dataframe\">\n",
              "  <thead>\n",
              "    <tr style=\"text-align: right;\">\n",
              "      <th></th>\n",
              "      <th>wkt</th>\n",
              "      <th>properties.feature_type</th>\n",
              "      <th>properties.subtype</th>\n",
              "      <th>properties.uid</th>\n",
              "    </tr>\n",
              "  </thead>\n",
              "  <tbody>\n",
              "    <tr>\n",
              "      <th>0</th>\n",
              "      <td>POLYGON ((55.0405378956678 74.59986338288715, ...</td>\n",
              "      <td>building</td>\n",
              "      <td>no-damage</td>\n",
              "      <td>41da548d-50ad-413d-a889-56eaea067062</td>\n",
              "    </tr>\n",
              "    <tr>\n",
              "      <th>1</th>\n",
              "      <td>POLYGON ((54.1699810478758 52.67999990314197, ...</td>\n",
              "      <td>building</td>\n",
              "      <td>no-damage</td>\n",
              "      <td>6868b350-e466-4201-98ea-e40cb64fcdf8</td>\n",
              "    </tr>\n",
              "    <tr>\n",
              "      <th>2</th>\n",
              "      <td>POLYGON ((80.02998104606775 76.77999990226267,...</td>\n",
              "      <td>building</td>\n",
              "      <td>no-damage</td>\n",
              "      <td>8d7729f9-d109-429c-b02e-0a3a63ad31b6</td>\n",
              "    </tr>\n",
              "    <tr>\n",
              "      <th>3</th>\n",
              "      <td>POLYGON ((61.03998105006076 53.54999990460529,...</td>\n",
              "      <td>building</td>\n",
              "      <td>no-damage</td>\n",
              "      <td>2773eb85-3a2c-4b7a-bf17-896f00b7891d</td>\n",
              "    </tr>\n",
              "    <tr>\n",
              "      <th>4</th>\n",
              "      <td>POLYGON ((40.88349849964015 24.17512790855112,...</td>\n",
              "      <td>building</td>\n",
              "      <td>no-damage</td>\n",
              "      <td>5cbd01f8-3209-44b7-9e4c-b2c4b8bcdced</td>\n",
              "    </tr>\n",
              "    <tr>\n",
              "      <th>...</th>\n",
              "      <td>...</td>\n",
              "      <td>...</td>\n",
              "      <td>...</td>\n",
              "      <td>...</td>\n",
              "    </tr>\n",
              "    <tr>\n",
              "      <th>95</th>\n",
              "      <td>POLYGON ((125.1778218547872 67.615297267711, 1...</td>\n",
              "      <td>building</td>\n",
              "      <td>no-damage</td>\n",
              "      <td>204060c0-fef8-4d28-a7b8-ddb6794c615d</td>\n",
              "    </tr>\n",
              "    <tr>\n",
              "      <th>96</th>\n",
              "      <td>POLYGON ((135.1699812267663 47.32999989914772,...</td>\n",
              "      <td>building</td>\n",
              "      <td>no-damage</td>\n",
              "      <td>3360c571-ea1d-48e6-b93f-b6a693c99a59</td>\n",
              "    </tr>\n",
              "    <tr>\n",
              "      <th>97</th>\n",
              "      <td>POLYGON ((142.5730692695807 27.27929252690081,...</td>\n",
              "      <td>building</td>\n",
              "      <td>no-damage</td>\n",
              "      <td>d8807d5c-0b55-4461-87b9-3753328a18f8</td>\n",
              "    </tr>\n",
              "    <tr>\n",
              "      <th>98</th>\n",
              "      <td>POLYGON ((74.76998252947143 75.8685114841136, ...</td>\n",
              "      <td>building</td>\n",
              "      <td>no-damage</td>\n",
              "      <td>3c3bdce5-d847-41e5-8354-8d77efeb8ad6</td>\n",
              "    </tr>\n",
              "    <tr>\n",
              "      <th>99</th>\n",
              "      <td>POLYGON ((54.14700999298238 106.4385688665607,...</td>\n",
              "      <td>building</td>\n",
              "      <td>no-damage</td>\n",
              "      <td>407d1592-0898-4c69-a567-2b377fc1ef8b</td>\n",
              "    </tr>\n",
              "  </tbody>\n",
              "</table>\n",
              "<p>31394 rows × 4 columns</p>\n",
              "</div>"
            ],
            "text/plain": [
              "                                                  wkt  ...                        properties.uid\n",
              "0   POLYGON ((55.0405378956678 74.59986338288715, ...  ...  41da548d-50ad-413d-a889-56eaea067062\n",
              "1   POLYGON ((54.1699810478758 52.67999990314197, ...  ...  6868b350-e466-4201-98ea-e40cb64fcdf8\n",
              "2   POLYGON ((80.02998104606775 76.77999990226267,...  ...  8d7729f9-d109-429c-b02e-0a3a63ad31b6\n",
              "3   POLYGON ((61.03998105006076 53.54999990460529,...  ...  2773eb85-3a2c-4b7a-bf17-896f00b7891d\n",
              "4   POLYGON ((40.88349849964015 24.17512790855112,...  ...  5cbd01f8-3209-44b7-9e4c-b2c4b8bcdced\n",
              "..                                                ...  ...                                   ...\n",
              "95  POLYGON ((125.1778218547872 67.615297267711, 1...  ...  204060c0-fef8-4d28-a7b8-ddb6794c615d\n",
              "96  POLYGON ((135.1699812267663 47.32999989914772,...  ...  3360c571-ea1d-48e6-b93f-b6a693c99a59\n",
              "97  POLYGON ((142.5730692695807 27.27929252690081,...  ...  d8807d5c-0b55-4461-87b9-3753328a18f8\n",
              "98  POLYGON ((74.76998252947143 75.8685114841136, ...  ...  3c3bdce5-d847-41e5-8354-8d77efeb8ad6\n",
              "99  POLYGON ((54.14700999298238 106.4385688665607,...  ...  407d1592-0898-4c69-a567-2b377fc1ef8b\n",
              "\n",
              "[31394 rows x 4 columns]"
            ]
          },
          "metadata": {
            "tags": []
          },
          "execution_count": 18
        }
      ]
    },
    {
      "cell_type": "code",
      "metadata": {
        "id": "iqdbRg6wvFI0",
        "outputId": "1ba0ae39-6b5a-403a-ca24-1ace68151b9e",
        "colab": {
          "base_uri": "https://localhost:8080/",
          "height": 119
        }
      },
      "source": [
        "# for hurricane buildings:\n",
        "df_tsunami['properties.subtype'].value_counts()"
      ],
      "execution_count": 19,
      "outputs": [
        {
          "output_type": "execute_result",
          "data": {
            "text/plain": [
              "no-damage        25455\n",
              "destroyed         4966\n",
              "major-damage       571\n",
              "un-classified      401\n",
              "minor-damage         1\n",
              "Name: properties.subtype, dtype: int64"
            ]
          },
          "metadata": {
            "tags": []
          },
          "execution_count": 19
        }
      ]
    },
    {
      "cell_type": "code",
      "metadata": {
        "id": "GBSb2YNMvJhr"
      },
      "source": [
        "from shapely.geometry import Polygon\n",
        "\n",
        "polygon_data = []\n",
        "for image_meta in tsunami_json_data:\n",
        "    for building in image_meta['features']['xy']:\n",
        "        polygon_data.append((building['wkt'], building['properties']['subtype']))\n",
        "\n",
        "polygon_bounds = []\n",
        "for polygon in polygon_data:\n",
        "    shapely_obj = shapely.wkt.loads(polygon[0])\n",
        "    poly_bound = shapely_obj.bounds\n",
        "    polygon_bounds.append((poly_bound[2]-poly_bound[0], poly_bound[3]-poly_bound[1]))\n",
        "\n",
        "#P = shapely.wkt.loads(tsunami_json_data['features']['xy'][0]['wkt'])"
      ],
      "execution_count": 20,
      "outputs": []
    },
    {
      "cell_type": "code",
      "metadata": {
        "id": "aRd63kCyve-B"
      },
      "source": [
        "polygon_widths = [polygon[0] for polygon in polygon_bounds]\n",
        "polygon_y = [polygon[1] for polygon in polygon_bounds]"
      ],
      "execution_count": 21,
      "outputs": []
    },
    {
      "cell_type": "code",
      "metadata": {
        "id": "Yu8bmvOBvnNV",
        "outputId": "056af962-1350-420e-8ee6-78bdb3e54af5",
        "colab": {
          "base_uri": "https://localhost:8080/",
          "height": 282
        }
      },
      "source": [
        "import matplotlib.pyplot as plt\n",
        "import math\n",
        "import numpy as np\n",
        "\n",
        "poly_x_log = [math.log(polygon) for polygon in polygon_widths]\n",
        "# plt.hist(poly_x_log)\n",
        "plt.hist(polygon_widths)\n",
        "plt.show()\n",
        "\n",
        "#find 98 percentile\n",
        "np_p_widths = np.array(polygon_widths)\n",
        "crop_lim = np.percentile(np_p_widths, 98)\n",
        "crop_lim #calculates the 98 percentile"
      ],
      "execution_count": 22,
      "outputs": [
        {
          "output_type": "display_data",
          "data": {
            "image/png": "[encoded data removed]",
            "text/plain": [
              "<Figure size 432x288 with 1 Axes>"
            ]
          },
          "metadata": {
            "tags": [],
            "needs_background": "light"
          }
        },
        {
          "output_type": "execute_result",
          "data": {
            "text/plain": [
              "67.05647510955342"
            ]
          },
          "metadata": {
            "tags": []
          },
          "execution_count": 22
        }
      ]
    },
    {
      "cell_type": "code",
      "metadata": {
        "id": "stiAJJ4PvuEG",
        "outputId": "1b81000b-4041-45ee-ffd8-e66608ba1430",
        "colab": {
          "base_uri": "https://localhost:8080/",
          "height": 265
        }
      },
      "source": [
        "cropped_widths = [x for x in polygon_widths if x <= crop_lim]\n",
        "plt.hist(cropped_widths)\n",
        "plt.show()"
      ],
      "execution_count": 23,
      "outputs": [
        {
          "output_type": "display_data",
          "data": {
            "image/png": "[encoded data removed]",
            "text/plain": [
              "<Figure size 432x288 with 1 Axes>"
            ]
          },
          "metadata": {
            "tags": [],
            "needs_background": "light"
          }
        }
      ]
    },
    {
      "cell_type": "code",
      "metadata": {
        "id": "2EXYyHWcv3lu",
        "outputId": "be70fec4-9cf2-4954-b013-2554425409ad",
        "colab": {
          "base_uri": "https://localhost:8080/",
          "height": 51
        }
      },
      "source": [
        "print(len(polygon_widths))\n",
        "print(len(cropped_widths))"
      ],
      "execution_count": 24,
      "outputs": [
        {
          "output_type": "stream",
          "text": [
            "31394\n",
            "30766\n"
          ],
          "name": "stdout"
        }
      ]
    },
    {
      "cell_type": "code",
      "metadata": {
        "id": "k91fW_RDv7fK",
        "outputId": "131b9928-7654-424d-97e2-5e455a73909c",
        "colab": {
          "base_uri": "https://localhost:8080/",
          "height": 265
        }
      },
      "source": [
        "plt.hist(polygon_y)\n",
        "plt.show()"
      ],
      "execution_count": 25,
      "outputs": [
        {
          "output_type": "display_data",
          "data": {
            "image/png": "[encoded data removed]",
            "text/plain": [
              "<Figure size 432x288 with 1 Axes>"
            ]
          },
          "metadata": {
            "tags": [],
            "needs_background": "light"
          }
        }
      ]
    },
    {
      "cell_type": "code",
      "metadata": {
        "id": "IFMVI9RSwAX7",
        "outputId": "b643d7ba-fe4d-4010-92a3-4edfe1a527ef",
        "colab": {
          "base_uri": "https://localhost:8080/",
          "height": 51
        }
      },
      "source": [
        "cropped_y = [y for y in polygon_y if y <= 75]\n",
        "print(len(polygon_y))\n",
        "print(len(cropped_y))"
      ],
      "execution_count": 26,
      "outputs": [
        {
          "output_type": "stream",
          "text": [
            "31394\n",
            "31113\n"
          ],
          "name": "stdout"
        }
      ]
    },
    {
      "cell_type": "code",
      "metadata": {
        "id": "9gltSiE0wItR",
        "outputId": "62a641c0-e81e-4eb3-e4b2-332027b93749",
        "colab": {
          "base_uri": "https://localhost:8080/",
          "height": 265
        }
      },
      "source": [
        "plt.hist(cropped_y)\n",
        "plt.show()"
      ],
      "execution_count": 27,
      "outputs": [
        {
          "output_type": "display_data",
          "data": {
            "image/png": "[encoded data removed]",
            "text/plain": [
              "<Figure size 432x288 with 1 Axes>"
            ]
          },
          "metadata": {
            "tags": [],
            "needs_background": "light"
          }
        }
      ]
    },
    {
      "cell_type": "code",
      "metadata": {
        "id": "PH1TM2O_tT5x",
        "outputId": "4615adb6-0547-4cad-c2e7-7b3b10440c19",
        "colab": {
          "base_uri": "https://localhost:8080/",
          "height": 119
        }
      },
      "source": [
        "# for all buildings:\n",
        "df['properties.subtype'].value_counts()"
      ],
      "execution_count": 28,
      "outputs": [
        {
          "output_type": "execute_result",
          "data": {
            "text/plain": [
              "no-damage        25455\n",
              "destroyed         4966\n",
              "major-damage       571\n",
              "un-classified      401\n",
              "minor-damage         1\n",
              "Name: properties.subtype, dtype: int64"
            ]
          },
          "metadata": {
            "tags": []
          },
          "execution_count": 28
        }
      ]
    },
    {
      "cell_type": "markdown",
      "metadata": {
        "id": "vt92nStnoK1g"
      },
      "source": [
        "# Membuat Building Polygons\n"
      ]
    },
    {
      "cell_type": "code",
      "metadata": {
        "id": "hF6eRC5YobzH"
      },
      "source": [
        "from PIL import Image, ImageDraw\n",
        "import numpy\n",
        "import shutil\n",
        "import os\n",
        "import json\n",
        "from shapely.geometry import Polygon\n",
        "import shapely.wkt"
      ],
      "execution_count": 29,
      "outputs": []
    },
    {
      "cell_type": "code",
      "metadata": {
        "id": "qMunIlhEodqP"
      },
      "source": [
        "image_source = 'data/train_images/pre_images/'\n",
        "dest = 'data/train_images/pre_buildings/'\n",
        "\n",
        "pre_tsunami_images = sorted([f for f in os.listdir(image_source)])\n",
        "\n"
      ],
      "execution_count": 30,
      "outputs": []
    },
    {
      "cell_type": "code",
      "metadata": {
        "id": "hXwj1bkQoyoy"
      },
      "source": [
        "def getBuildingImage(image, poly_xy, building_poly):\n",
        "    imArray = numpy.asarray(image)\n",
        "    \n",
        "    # create mask\n",
        "    maskIm = Image.new('L', (imArray.shape[1], imArray.shape[0]), 0)\n",
        "    ImageDraw.Draw(maskIm).polygon(poly_xy, outline=1, fill=1)\n",
        "    mask = numpy.array(maskIm)\n",
        "    \n",
        "    # assemble new image (uint8: 0-255)\n",
        "    newImArray = numpy.empty(imArray.shape,dtype='uint8')\n",
        "\n",
        "    # colors (three first columns, RGB)\n",
        "    newImArray[:,:,:3] = imArray[:,:,:3]\n",
        "\n",
        "    # transparency (4th column)\n",
        "    newImArray[:,:,3] = mask*255\n",
        "\n",
        "    # back to Image from numpy\n",
        "    newIm = Image.fromarray(newImArray, \"RGBA\")\n",
        "    \n",
        "    #crop out just the building from image\n",
        "    poly_bounds = building_poly.bounds\n",
        "    cropped_building_img = newIm.crop(poly_bounds)\n",
        "    \n",
        "    #put center of cropped image onto standarized image size\n",
        "    img_w, img_h = cropped_building_img.size\n",
        "    background = Image.new('RGBA', (50, 50), (255, 255, 255, 0))\n",
        "    bg_w, bg_h = background.size\n",
        "    offset = ((bg_w - img_w) // 2, (bg_h - img_h) // 2)\n",
        "    background.paste(cropped_building_img, offset)\n",
        "    return background"
      ],
      "execution_count": 31,
      "outputs": []
    },
    {
      "cell_type": "code",
      "metadata": {
        "id": "42T6N7KMpJ5N"
      },
      "source": [
        "## get json data for this file\n",
        "json_source = 'data/train_labels/pre_labels/'\n",
        "pre_tsunami_jsons = sorted([f for f in os.listdir(json_source)])\n",
        "\n",
        "## cuts out building polygons from each image, standardrizes format, and saves images to data folder\n",
        "#len(pre_tsunami_images)\n",
        "for image_index in range(len(pre_tsunami_images)):\n",
        "    image = Image.open(image_source + pre_tsunami_images[image_index]).convert(\"RGBA\")\n",
        "    with open (json_source + pre_tsunami_jsons[image_index]) as f:\n",
        "        json_data = json.load(f)\n",
        "    building_counter = 0\n",
        "    for building in json_data['features']['xy']:\n",
        "        building_wkt = building['wkt']\n",
        "        building_poly = shapely.wkt.loads(building_wkt)\n",
        "        x, y = building_poly.exterior.coords.xy\n",
        "        poly_xy = [(x[i], y[i]) for i in range(len(x))]\n",
        "        formatted_building_image = getBuildingImage(image, poly_xy, building_poly)\n",
        "        \n",
        "        building_number = str(building_counter)\n",
        "        #formatting \n",
        "        while len(building_number) < 5:\n",
        "            building_number = '0' + building_number\n",
        "            \n",
        "        formatted_building_image.save(dest + pre_tsunami_images[image_index].replace('.png', '') + '_building_' + building_number + '.png')\n",
        "        building_counter += 1"
      ],
      "execution_count": 32,
      "outputs": []
    },
    {
      "cell_type": "code",
      "metadata": {
        "id": "zhVaw9xs0hgR"
      },
      "source": [
        "## same thing for post images\n",
        "image_source = 'data/train_images/post_images/'\n",
        "dest = 'data/train_images/post_buildings/'\n",
        "\n",
        "post_tsunami_images = sorted([f for f in os.listdir(image_source)])\n",
        "\n",
        "## get json data for this file\n",
        "json_source = 'data/train_labels/post_labels/'\n",
        "post_tsunami_jsons = sorted([f for f in os.listdir(json_source)])\n",
        "\n",
        "## cuts out building polygons from each image, standardrizes format, and saves images to data folder\n",
        "#len(pre_hurricane_images)\n",
        "len(post_tsunami_images)\n",
        "for image_index in range(len(post_tsunami_images)):\n",
        "    image = Image.open(image_source + post_tsunami_images[image_index]).convert(\"RGBA\")\n",
        "    with open (json_source + post_tsunami_jsons[image_index]) as f:\n",
        "        json_data = json.load(f)\n",
        "    building_counter = 0\n",
        "    for building in json_data['features']['xy']:\n",
        "        building_wkt = building['wkt']\n",
        "        building_poly = shapely.wkt.loads(building_wkt)\n",
        "        x, y = building_poly.exterior.coords.xy\n",
        "        poly_xy = [(x[i], y[i]) for i in range(len(x))]\n",
        "        formatted_building_image = getBuildingImage(image, poly_xy, building_poly)\n",
        "        building_number = str(building_counter)\n",
        "        \n",
        "        #formatting \n",
        "        while len(building_number) < 5:\n",
        "            building_number = '0' + building_number\n",
        "        \n",
        "        formatted_building_image.save(dest + post_tsunami_images[image_index].replace('.png', '') + '_building_' + building_number + '.png')\n",
        "        building_counter += 1"
      ],
      "execution_count": 33,
      "outputs": []
    },
    {
      "cell_type": "code",
      "metadata": {
        "id": "HTB2hRH8Hzz2",
        "outputId": "ced0ccd7-546d-4ea1-9828-07a351cf712f",
        "colab": {
          "base_uri": "https://localhost:8080/",
          "height": 34
        }
      },
      "source": [
        "damage_labels = []\n",
        "for image_json in post_tsunami_jsons:\n",
        "    with open (json_source + image_json) as f:\n",
        "        json_data = json.load(f)\n",
        "        \n",
        "    for building in json_data['features']['xy']:\n",
        "        damage_labels.append(building['properties']['subtype'])\n",
        "\n",
        "len(damage_labels)"
      ],
      "execution_count": 34,
      "outputs": [
        {
          "output_type": "execute_result",
          "data": {
            "text/plain": [
              "31394"
            ]
          },
          "metadata": {
            "tags": []
          },
          "execution_count": 34
        }
      ]
    },
    {
      "cell_type": "markdown",
      "metadata": {
        "id": "v8jN_XfaJJag"
      },
      "source": [
        "# Transfer Learning"
      ]
    },
    {
      "cell_type": "code",
      "metadata": {
        "id": "mW3gIQ72JM8l"
      },
      "source": [
        "from keras.applications.resnet50 import ResNet50, preprocess_input"
      ],
      "execution_count": 35,
      "outputs": []
    },
    {
      "cell_type": "code",
      "metadata": {
        "id": "I2innDuwJkm4"
      },
      "source": [
        "HEIGHT = 197\n",
        "WIDTH = 197\n",
        "\n",
        "base_model = ResNet50(weights='imagenet', include_top=False, input_shape=(HEIGHT, WIDTH, 3))"
      ],
      "execution_count": 36,
      "outputs": []
    },
    {
      "cell_type": "code",
      "metadata": {
        "id": "SejlH438J9En"
      },
      "source": [
        "import numpy as np\n",
        "import json\n",
        "import os\n",
        "post_building_files = sorted(os.listdir('data/train_images/post_buildings'))\n",
        "\n",
        "json_source = 'data/train_labels/post_labels/'\n",
        "post_hurricane_jsons = sorted([f for f in os.listdir(json_source)])\n",
        "\n",
        "damage_labels = []\n",
        "for image_json in post_hurricane_jsons:\n",
        "    with open (json_source + image_json) as f:\n",
        "        json_data = json.load(f)\n",
        "        \n",
        "    for building in json_data['features']['xy']:\n",
        "        damage_labels.append(building['properties']['subtype'])"
      ],
      "execution_count": 37,
      "outputs": []
    },
    {
      "cell_type": "code",
      "metadata": {
        "id": "SVCRDdttKA_X",
        "outputId": "7de9d46f-65c4-450a-e15a-035e9356f8a5",
        "colab": {
          "base_uri": "https://localhost:8080/",
          "height": 34
        }
      },
      "source": [
        "from PIL import Image\n",
        "\n",
        "Images = []\n",
        "for f in post_building_files:\n",
        "    Images.append(Image.open('data/train_images/post_buildings/' + f).convert('RGB'))\n",
        "    \n",
        "X_post = []\n",
        "for I in Images:\n",
        "    X_post.append(np.asarray(I))\n",
        "    \n",
        "X_post = np.array(X_post)\n",
        "X_post.shape"
      ],
      "execution_count": 38,
      "outputs": [
        {
          "output_type": "execute_result",
          "data": {
            "text/plain": [
              "(31394, 50, 50, 3)"
            ]
          },
          "metadata": {
            "tags": []
          },
          "execution_count": 38
        }
      ]
    },
    {
      "cell_type": "code",
      "metadata": {
        "id": "IHV2sHYQKNl2"
      },
      "source": [
        "X_post_padded = [np.pad(img, ((73, 74), (73, 74), (0,0)), 'constant', constant_values=(255,)) for img in X_post]"
      ],
      "execution_count": 39,
      "outputs": []
    },
    {
      "cell_type": "code",
      "metadata": {
        "id": "vSAKXQuRKayL",
        "outputId": "7c06a7ec-471c-4eca-b0d5-280303669edf",
        "colab": {
          "base_uri": "https://localhost:8080/",
          "height": 34
        }
      },
      "source": [
        "X_post_padded = np.array(X_post_padded)\n",
        "X_post_padded.shape"
      ],
      "execution_count": 40,
      "outputs": [
        {
          "output_type": "execute_result",
          "data": {
            "text/plain": [
              "(31394, 197, 197, 3)"
            ]
          },
          "metadata": {
            "tags": []
          },
          "execution_count": 40
        }
      ]
    },
    {
      "cell_type": "code",
      "metadata": {
        "id": "YbKzH2r1Kjgw"
      },
      "source": [
        "from keras.layers import Dense, Activation, Flatten, Dropout\n",
        "from keras.models import Sequential, Model\n",
        "\n",
        "## remove the FC layers\n",
        "dropout = 0.5\n",
        "num_classes = 2\n",
        "FC = [1024, 1024]\n",
        "\n",
        "for layer in base_model.layers:\n",
        "    layer.trainable = False\n",
        "    \n",
        "x = base_model.output\n",
        "x = Flatten()(x)\n",
        "\n",
        "for fc in FC:\n",
        "    x = Dense(fc, activation='relu')(x)\n",
        "    x = Dropout(dropout)(x)\n",
        "\n",
        "# new softmax layer:\n",
        "predictions = Dense(num_classes, activation='softmax')(x)\n",
        "\n",
        "new_model = Model(inputs=base_model.input, outputs=predictions)"
      ],
      "execution_count": 41,
      "outputs": []
    },
    {
      "cell_type": "markdown",
      "metadata": {
        "id": "bSc1sJn2Kt5i"
      },
      "source": [
        "# CNN model"
      ]
    },
    {
      "cell_type": "code",
      "metadata": {
        "id": "1RT0AAR3Kz0k"
      },
      "source": [
        "import os\n",
        "import numpy as np\n",
        "import json"
      ],
      "execution_count": 42,
      "outputs": []
    },
    {
      "cell_type": "code",
      "metadata": {
        "id": "8os8o94YK224"
      },
      "source": [
        "X = []\n",
        "Y = []\n",
        "\n",
        "pre_building_files = sorted(os.listdir('data/train_images/pre_buildings'))\n",
        "post_building_files = sorted(os.listdir('data/train_images/post_buildings'))"
      ],
      "execution_count": 43,
      "outputs": []
    },
    {
      "cell_type": "code",
      "metadata": {
        "id": "cOML1s_bK9hN"
      },
      "source": [
        "json_source = 'data/train_labels/post_labels/'\n",
        "post_tsunami_jsons = sorted([f for f in os.listdir(json_source)])\n",
        "\n",
        "damage_labels = []\n",
        "for image_json in post_tsunami_jsons:\n",
        "    with open (json_source + image_json) as f:\n",
        "        json_data = json.load(f)\n",
        "        \n",
        "    for building in json_data['features']['xy']:\n",
        "        damage_labels.append(building['properties']['subtype'])"
      ],
      "execution_count": 44,
      "outputs": []
    },
    {
      "cell_type": "code",
      "metadata": {
        "id": "oMPTBNFJLIFp"
      },
      "source": [
        "from PIL import Image\n",
        "\n",
        "Images = []\n",
        "for f in pre_building_files:\n",
        "    Images.append(Image.open('data/train_images/pre_buildings/' + f).convert('RGB'))"
      ],
      "execution_count": 45,
      "outputs": []
    },
    {
      "cell_type": "code",
      "metadata": {
        "id": "MSUj64wJLV4K"
      },
      "source": [
        "X_pre = []\n",
        "for I in Images:\n",
        "    X_pre.append(np.asarray(I))"
      ],
      "execution_count": 46,
      "outputs": []
    },
    {
      "cell_type": "code",
      "metadata": {
        "id": "zkPX7uQ0Lb2A",
        "outputId": "4c4558a6-f7ba-4cfc-c6eb-bef858350eea",
        "colab": {
          "base_uri": "https://localhost:8080/",
          "height": 34
        }
      },
      "source": [
        "X_pre = np.array(X_pre)\n",
        "X_pre.shape"
      ],
      "execution_count": 47,
      "outputs": [
        {
          "output_type": "execute_result",
          "data": {
            "text/plain": [
              "(31394, 50, 50, 3)"
            ]
          },
          "metadata": {
            "tags": []
          },
          "execution_count": 47
        }
      ]
    },
    {
      "cell_type": "code",
      "metadata": {
        "id": "JfjQmFQNLgyk"
      },
      "source": [
        "Images = []\n",
        "for f in post_building_files:\n",
        "    Images.append(Image.open('data/train_images/post_buildings/' + f).convert('RGB'))"
      ],
      "execution_count": 48,
      "outputs": []
    },
    {
      "cell_type": "code",
      "metadata": {
        "id": "-s6_C90HLmpX"
      },
      "source": [
        "X_post = []\n",
        "for I in Images:\n",
        "    X_post.append(np.asarray(I))"
      ],
      "execution_count": 49,
      "outputs": []
    },
    {
      "cell_type": "code",
      "metadata": {
        "id": "lVLw6nV4LtjH",
        "outputId": "11d4173b-8f9c-44fa-de47-e95eea456797",
        "colab": {
          "base_uri": "https://localhost:8080/",
          "height": 34
        }
      },
      "source": [
        "X_post = np.array(X_post)\n",
        "X_post.shape"
      ],
      "execution_count": 50,
      "outputs": [
        {
          "output_type": "execute_result",
          "data": {
            "text/plain": [
              "(31394, 50, 50, 3)"
            ]
          },
          "metadata": {
            "tags": []
          },
          "execution_count": 50
        }
      ]
    },
    {
      "cell_type": "code",
      "metadata": {
        "id": "v2arC3FUL2_F",
        "outputId": "e28bbd20-43d3-4ac5-e6a0-a2fd6a37824d",
        "colab": {
          "base_uri": "https://localhost:8080/",
          "height": 34
        }
      },
      "source": [
        "X = np.concatenate((X_pre, X_post), axis=3)\n",
        "X.shape"
      ],
      "execution_count": 51,
      "outputs": [
        {
          "output_type": "execute_result",
          "data": {
            "text/plain": [
              "(31394, 50, 50, 6)"
            ]
          },
          "metadata": {
            "tags": []
          },
          "execution_count": 51
        }
      ]
    },
    {
      "cell_type": "code",
      "metadata": {
        "id": "ePvs5QozMADO",
        "outputId": "00ebc366-194a-4907-a596-a5ba76d1784b",
        "colab": {
          "base_uri": "https://localhost:8080/",
          "height": 34
        }
      },
      "source": [
        "len(damage_labels)"
      ],
      "execution_count": 52,
      "outputs": [
        {
          "output_type": "execute_result",
          "data": {
            "text/plain": [
              "31394"
            ]
          },
          "metadata": {
            "tags": []
          },
          "execution_count": 52
        }
      ]
    },
    {
      "cell_type": "code",
      "metadata": {
        "id": "pu83IHwvMI41"
      },
      "source": [
        "label_map = {'no-damage': 0, 'minor-damage': 1, 'major-damage': 2, 'destroyed': 3, 'un-classified': 4}\n",
        "\n",
        "for label in damage_labels:\n",
        "    Y.append(label_map[label])"
      ],
      "execution_count": 53,
      "outputs": []
    },
    {
      "cell_type": "code",
      "metadata": {
        "id": "HlKx0-p3MWx3"
      },
      "source": [
        "train_X = X.astype('float32')[:int(0.8*len(X))]\n",
        "test_X = X.astype('float32')[int(0.8*len(X)):]\n",
        "train_Y = Y[0:int(0.8*len(Y))]\n",
        "test_Y = Y[int(0.8*len(Y)):]"
      ],
      "execution_count": 54,
      "outputs": []
    },
    {
      "cell_type": "code",
      "metadata": {
        "id": "PLhCf9bkMeTW",
        "outputId": "e8969eaa-7148-4a53-ecfc-99f366135fc8",
        "colab": {
          "base_uri": "https://localhost:8080/",
          "height": 102
        }
      },
      "source": [
        "print(test_Y.count(0))\n",
        "print(test_Y.count(1))\n",
        "print(test_Y.count(2))\n",
        "print(test_Y.count(3))\n",
        "print(test_Y.count(4))"
      ],
      "execution_count": 55,
      "outputs": [
        {
          "output_type": "stream",
          "text": [
            "4592\n",
            "0\n",
            "134\n",
            "1519\n",
            "34\n"
          ],
          "name": "stdout"
        }
      ]
    },
    {
      "cell_type": "code",
      "metadata": {
        "id": "q30bRyAVMpmr",
        "outputId": "ce9f4342-d116-4aa6-9c4e-c2292110d76d",
        "colab": {
          "base_uri": "https://localhost:8080/",
          "height": 34
        }
      },
      "source": [
        "# train_X = X.astype('float32')\n",
        "# train_X /= 255\n",
        "\n",
        "# train_Y = Y\n",
        "\n",
        "# train_X.shape\n",
        "\n",
        "train_X /= 255\n",
        "test_X /= 255\n",
        "\n",
        "train_X.shape"
      ],
      "execution_count": 56,
      "outputs": [
        {
          "output_type": "execute_result",
          "data": {
            "text/plain": [
              "(25115, 50, 50, 6)"
            ]
          },
          "metadata": {
            "tags": []
          },
          "execution_count": 56
        }
      ]
    },
    {
      "cell_type": "code",
      "metadata": {
        "id": "E_AV1483DTUy"
      },
      "source": [
        "from keras.models import Sequential\n",
        "from keras.layers import Input, Dropout, Flatten, Conv2D, MaxPooling2D, Dense, Activation, Reshape\n",
        "from keras.optimizers import RMSprop\n",
        "from keras.layers.normalization import BatchNormalization\n",
        "from keras.constraints import max_norm\n",
        "\n",
        "model = Sequential()"
      ],
      "execution_count": 57,
      "outputs": []
    },
    {
      "cell_type": "code",
      "metadata": {
        "id": "9ywQo_TeM3wq"
      },
      "source": [
        "# Define the network\n",
        "# as first layer in a Sequential model\n",
        "model.add(Reshape((50,50,6))),\n",
        "model.add(Conv2D(32, (3, 3), padding='same', kernel_initializer='glorot_normal', input_shape=(50, 50,6)))\n",
        "#model.add(BatchNormalization(axis=-1))\n",
        "model.add(Activation('relu'))\n",
        "model.add(Conv2D(32, (3, 3), padding='same', kernel_initializer='glorot_normal'))\n",
        "#model.add(BatchNormalization(axis=-1))\n",
        "model.add(Activation('relu'))\n",
        "model.add(MaxPooling2D(pool_size=(2,2)))\n",
        "\n",
        "model.add(Conv2D(64,(3, 3), padding='same', kernel_initializer='glorot_normal'))\n",
        "#model.add(BatchNormalization(axis=-1))\n",
        "model.add(Activation('relu'))\n",
        "model.add(Conv2D(64, (3, 3), padding='same', kernel_initializer='glorot_normal'))\n",
        "#model.add(BatchNormalization(axis=-1))\n",
        "model.add(Activation('relu'))\n",
        "model.add(MaxPooling2D(pool_size=(2,2)))\n",
        "\n",
        "model.add(Flatten())\n",
        "\n",
        "# Fully connected layer\n",
        "model.add(Dense(512, kernel_initializer='glorot_normal'))\n",
        "#model.add(BatchNormalization())\n",
        "model.add(Activation('relu'))\n",
        "model.add(Dropout(0.5))\n",
        "model.add(Dense(1, kernel_initializer='glorot_normal'))\n",
        "model.add(Activation('sigmoid'))\n",
        "\n",
        "\n",
        "# Defining loss and optimizer\n",
        "optimizer = \"adam\"\n",
        "loss = 'binary_crossentropy'\n",
        "model.compile(loss=loss, optimizer=optimizer, metrics=['accuracy'])\n"
      ],
      "execution_count": 58,
      "outputs": []
    },
    {
      "cell_type": "code",
      "metadata": {
        "id": "MX4x1-RTb_1_"
      },
      "source": [
        "train_X=np.array(train_X)\n",
        "train_Y=np.array(train_Y)\n",
        "batch_size = 64\n",
        "EPOCHS = 20\n",
        "\n",
        "# test the network:\n",
        "history=model.fit(train_X, train_Y, batch_size=batch_size, epochs=EPOCHS, validation_split=0.2, verbose=1, shuffle=True)"
      ],
      "execution_count": null,
      "outputs": []
    },
    {
      "cell_type": "code",
      "metadata": {
        "id": "BbhuA74ckNZx",
        "outputId": "f34e1032-a81c-4ee9-8e49-4efdc82f3502",
        "colab": {
          "base_uri": "https://localhost:8080/",
          "height": 136
        }
      },
      "source": [
        "test_predict_Y = model.predict(test_X, batch_size=batch_size, verbose=0, steps=None, callbacks=None, max_queue_size=10, workers=1, use_multiprocessing=False)\n",
        "test_predict_Y"
      ],
      "execution_count": 69,
      "outputs": [
        {
          "output_type": "execute_result",
          "data": {
            "text/plain": [
              "array([[0.      ],\n",
              "       [0.525052],\n",
              "       [0.525052],\n",
              "       ...,\n",
              "       [1.      ],\n",
              "       [0.      ],\n",
              "       [0.525052]], dtype=float32)"
            ]
          },
          "metadata": {
            "tags": []
          },
          "execution_count": 69
        }
      ]
    },
    {
      "cell_type": "code",
      "metadata": {
        "id": "0RqYDkjfnAnd",
        "outputId": "84701f9d-72e2-4b73-b5d3-3ef8c15fca16",
        "colab": {
          "base_uri": "https://localhost:8080/",
          "height": 85
        }
      },
      "source": [
        "from sklearn.metrics import multilabel_confusion_matrix\n",
        "from sklearn.metrics import accuracy_score\n",
        "\n",
        "correct_damaged = 0\n",
        "correct_undamaged = 0\n",
        "incorrect_damaged = 0\n",
        "incorrect_undamaged = 0\n",
        "for index in range(len(test_Y)):\n",
        "    if int(test_Y[index]) > 0:\n",
        "        if int(test_predict_Y[index]) > 0:\n",
        "            correct_damaged += 1\n",
        "        else:\n",
        "            incorrect_damaged += 1\n",
        "    else:\n",
        "        if int(test_predict_Y[index]) > 0:\n",
        "            incorrect_undamaged += 1\n",
        "        else:\n",
        "            correct_undamaged += 1\n",
        "\n",
        "print('# of damaged buildings correctly labeled as damaged: ', correct_damaged)\n",
        "print('# of damaged buildings incorrectly labeled as undamaged: ', incorrect_damaged)\n",
        "print('# of undamaged buildings correctly labeled as undamaged: ', correct_undamaged)\n",
        "print('# of undamaged buildings incorrectly labeled as damaged: ', incorrect_undamaged)\n",
        "    \n",
        "#multilabel_confusion_matrix(test_Y, test_predict_Y)"
      ],
      "execution_count": 70,
      "outputs": [
        {
          "output_type": "stream",
          "text": [
            "# of damaged buildings correctly labeled as damaged:  634\n",
            "# of damaged buildings incorrectly labeled as undamaged:  1053\n",
            "# of undamaged buildings correctly labeled as undamaged:  3481\n",
            "# of undamaged buildings incorrectly labeled as damaged:  1111\n"
          ],
          "name": "stdout"
        }
      ]
    },
    {
      "cell_type": "code",
      "metadata": {
        "id": "3qaeSe7ui_Ah",
        "outputId": "e2b42e55-4bb6-4aa4-a652-0a62e9aa9320",
        "colab": {
          "base_uri": "https://localhost:8080/",
          "height": 231
        }
      },
      "source": [
        "import matplotlib.pyplot as plt\n",
        "from keras.callbacks import EarlyStopping, ModelCheckpoint\n",
        "from keras.callbacks import History\n",
        "plt.plot(history.history[\"acc\"],label=\"Akurasi Pelatihan\")\n",
        "plt.plot(history.history[\"val_acc\"],label=\"Validasi Akurasi\")\n",
        "plt.legend()\n",
        "plt.show()\n",
        "\n",
        "plt.plot(history.history[\"loss\"],label=\"Kegagalan Pelatihan\")\n",
        "plt.plot(history.history[\"val_loss\"],label=\"Validasi Kegagalan\")\n",
        "plt.legend()\n",
        "plt.show()"
      ],
      "execution_count": 73,
      "outputs": [
        {
          "output_type": "error",
          "ename": "NameError",
          "evalue": "ignored",
          "traceback": [
            "\u001b[0;31m---------------------------------------------------------------------------\u001b[0m",
            "\u001b[0;31mNameError\u001b[0m                                 Traceback (most recent call last)",
            "\u001b[0;32m<ipython-input-73-dbe985c86fb7>\u001b[0m in \u001b[0;36m<module>\u001b[0;34m()\u001b[0m\n\u001b[1;32m      2\u001b[0m \u001b[0;32mfrom\u001b[0m \u001b[0mkeras\u001b[0m\u001b[0;34m.\u001b[0m\u001b[0mcallbacks\u001b[0m \u001b[0;32mimport\u001b[0m \u001b[0mEarlyStopping\u001b[0m\u001b[0;34m,\u001b[0m \u001b[0mModelCheckpoint\u001b[0m\u001b[0;34m\u001b[0m\u001b[0;34m\u001b[0m\u001b[0m\n\u001b[1;32m      3\u001b[0m \u001b[0;32mfrom\u001b[0m \u001b[0mkeras\u001b[0m\u001b[0;34m.\u001b[0m\u001b[0mcallbacks\u001b[0m \u001b[0;32mimport\u001b[0m \u001b[0mHistory\u001b[0m\u001b[0;34m\u001b[0m\u001b[0;34m\u001b[0m\u001b[0m\n\u001b[0;32m----> 4\u001b[0;31m \u001b[0mplt\u001b[0m\u001b[0;34m.\u001b[0m\u001b[0mplot\u001b[0m\u001b[0;34m(\u001b[0m\u001b[0mhistory\u001b[0m\u001b[0;34m.\u001b[0m\u001b[0mhistory\u001b[0m\u001b[0;34m[\u001b[0m\u001b[0;34m\"acc\"\u001b[0m\u001b[0;34m]\u001b[0m\u001b[0;34m,\u001b[0m\u001b[0mlabel\u001b[0m\u001b[0;34m=\u001b[0m\u001b[0;34m\"Akurasi Pelatihan\"\u001b[0m\u001b[0;34m)\u001b[0m\u001b[0;34m\u001b[0m\u001b[0;34m\u001b[0m\u001b[0m\n\u001b[0m\u001b[1;32m      5\u001b[0m \u001b[0mplt\u001b[0m\u001b[0;34m.\u001b[0m\u001b[0mplot\u001b[0m\u001b[0;34m(\u001b[0m\u001b[0mhistory\u001b[0m\u001b[0;34m.\u001b[0m\u001b[0mhistory\u001b[0m\u001b[0;34m[\u001b[0m\u001b[0;34m\"val_acc\"\u001b[0m\u001b[0;34m]\u001b[0m\u001b[0;34m,\u001b[0m\u001b[0mlabel\u001b[0m\u001b[0;34m=\u001b[0m\u001b[0;34m\"Validasi Akurasi\"\u001b[0m\u001b[0;34m)\u001b[0m\u001b[0;34m\u001b[0m\u001b[0;34m\u001b[0m\u001b[0m\n\u001b[1;32m      6\u001b[0m \u001b[0mplt\u001b[0m\u001b[0;34m.\u001b[0m\u001b[0mlegend\u001b[0m\u001b[0;34m(\u001b[0m\u001b[0;34m)\u001b[0m\u001b[0;34m\u001b[0m\u001b[0;34m\u001b[0m\u001b[0m\n",
            "\u001b[0;31mNameError\u001b[0m: name 'history' is not defined"
          ]
        }
      ]
    }
  ]
}