{
  "nbformat": 4,
  "nbformat_minor": 0,
  "metadata": {
    "colab": {
      "name": "Identification_Disaster _Area.ipynb",
      "provenance": [],
      "collapsed_sections": [],
      "authorship_tag": "ABX9TyO+yDO72StZ/TQMDHOHFh/q",
      "include_colab_link": true
    },
    "kernelspec": {
      "name": "python3",
      "display_name": "Python 3"
    },
    "accelerator": "GPU"
  },
  "cells": [
    {
      "cell_type": "markdown",
      "metadata": {
        "id": "view-in-github",
        "colab_type": "text"
      },
      "source": [
        "<a href=\"https://colab.research.google.com/github/imansrf/disaster_area_identification/blob/main/Identification_Disaster__Area.ipynb\" target=\"_parent\"><img src=\"https://colab.research.google.com/assets/colab-badge.svg\" alt=\"Open In Colab\"/></a>"
      ]
    },
    {
      "cell_type": "markdown",
      "metadata": {
        "id": "kvGXMTYp99O5"
      },
      "source": [
        "# Impor Dataset"
      ]
    },
    {
      "cell_type": "code",
      "metadata": {
        "id": "GeR1u3kg5a-n",
        "outputId": "0680a476-945a-40e6-9f9e-c5be4c28287f",
        "colab": {
          "base_uri": "https://localhost:8080/",
          "height": 54
        }
      },
      "source": [
        "from google.colab import drive\n",
        "drive.mount('/content/gdrive')"
      ],
      "execution_count": 39,
      "outputs": [
        {
          "output_type": "stream",
          "text": [
            "Drive already mounted at /content/gdrive; to attempt to forcibly remount, call drive.mount(\"/content/gdrive\", force_remount=True).\n"
          ],
          "name": "stdout"
        }
      ]
    },
    {
      "cell_type": "markdown",
      "metadata": {
        "id": "vISa369B-J88"
      },
      "source": [
        "# Membuat Folder"
      ]
    },
    {
      "cell_type": "code",
      "metadata": {
        "id": "w_1Yb0Kp97Fd"
      },
      "source": [
        "import shutil\n",
        "import os, sys\n",
        "\n",
        "## create folders\n",
        "if not os.path.exists('data/'):\n",
        "    os.makedirs('data/data_disaster')\n",
        "    os.makedirs('data/train_images/pre_images')\n",
        "    os.makedirs('data/train_images/post_images')\n",
        "    os.makedirs('data/train_images/pre_buildings')\n",
        "    os.makedirs('data/train_images/post_buildings')\n",
        "    os.makedirs('data/train_labels/pre_labels')\n",
        "    os.makedirs('data/train_labels/post_labels')"
      ],
      "execution_count": 40,
      "outputs": []
    },
    {
      "cell_type": "markdown",
      "metadata": {
        "id": "X9Rmi1Uz_VLU"
      },
      "source": [
        "# Compress Citra ke 24 bit"
      ]
    },
    {
      "cell_type": "code",
      "metadata": {
        "id": "eaa1Y8Hc_bMG",
        "outputId": "5db83e74-abc7-4c12-cbf9-0cac96982acb",
        "colab": {
          "base_uri": "https://localhost:8080/",
          "height": 1000
        }
      },
      "source": [
        "import glob\n",
        "from PIL import Image\n",
        "\n",
        "src ='/content/gdrive/My Drive/Data disaster/train/images/'\n",
        "dest= '/content/data'\n",
        "\n",
        "for filename in os.listdir(src):\n",
        "        im = Image.open(src + filename).convert('RGB')\n",
        "        print (im.mode)\n",
        "        im.save(dest + filename)"
      ],
      "execution_count": 57,
      "outputs": [
        {
          "output_type": "stream",
          "text": [
            "RGB\n",
            "RGB\n",
            "RGB\n",
            "RGB\n",
            "RGB\n",
            "RGB\n",
            "RGB\n",
            "RGB\n",
            "RGB\n",
            "RGB\n",
            "RGB\n",
            "RGB\n",
            "RGB\n",
            "RGB\n",
            "RGB\n",
            "RGB\n",
            "RGB\n",
            "RGB\n",
            "RGB\n",
            "RGB\n",
            "RGB\n",
            "RGB\n",
            "RGB\n",
            "RGB\n",
            "RGB\n",
            "RGB\n",
            "RGB\n",
            "RGB\n",
            "RGB\n",
            "RGB\n",
            "RGB\n",
            "RGB\n",
            "RGB\n",
            "RGB\n",
            "RGB\n",
            "RGB\n",
            "RGB\n",
            "RGB\n",
            "RGB\n",
            "RGB\n",
            "RGB\n",
            "RGB\n",
            "RGB\n",
            "RGB\n",
            "RGB\n",
            "RGB\n",
            "RGB\n",
            "RGB\n",
            "RGB\n",
            "RGB\n",
            "RGB\n",
            "RGB\n",
            "RGB\n",
            "RGB\n",
            "RGB\n",
            "RGB\n",
            "RGB\n",
            "RGB\n",
            "RGB\n",
            "RGB\n",
            "RGB\n",
            "RGB\n",
            "RGB\n",
            "RGB\n",
            "RGB\n",
            "RGB\n",
            "RGB\n",
            "RGB\n",
            "RGB\n",
            "RGB\n",
            "RGB\n",
            "RGB\n",
            "RGB\n",
            "RGB\n",
            "RGB\n",
            "RGB\n",
            "RGB\n",
            "RGB\n",
            "RGB\n",
            "RGB\n",
            "RGB\n",
            "RGB\n",
            "RGB\n",
            "RGB\n",
            "RGB\n",
            "RGB\n",
            "RGB\n",
            "RGB\n",
            "RGB\n",
            "RGB\n",
            "RGB\n",
            "RGB\n",
            "RGB\n",
            "RGB\n",
            "RGB\n",
            "RGB\n",
            "RGB\n",
            "RGB\n",
            "RGB\n",
            "RGB\n",
            "RGB\n",
            "RGB\n",
            "RGB\n",
            "RGB\n",
            "RGB\n",
            "RGB\n",
            "RGB\n",
            "RGB\n",
            "RGB\n",
            "RGB\n",
            "RGB\n",
            "RGB\n",
            "RGB\n",
            "RGB\n",
            "RGB\n",
            "RGB\n",
            "RGB\n",
            "RGB\n",
            "RGB\n",
            "RGB\n",
            "RGB\n",
            "RGB\n",
            "RGB\n",
            "RGB\n",
            "RGB\n",
            "RGB\n",
            "RGB\n",
            "RGB\n",
            "RGB\n",
            "RGB\n",
            "RGB\n",
            "RGB\n",
            "RGB\n",
            "RGB\n",
            "RGB\n",
            "RGB\n",
            "RGB\n",
            "RGB\n",
            "RGB\n",
            "RGB\n",
            "RGB\n",
            "RGB\n",
            "RGB\n",
            "RGB\n",
            "RGB\n",
            "RGB\n",
            "RGB\n",
            "RGB\n",
            "RGB\n",
            "RGB\n",
            "RGB\n",
            "RGB\n",
            "RGB\n",
            "RGB\n",
            "RGB\n",
            "RGB\n",
            "RGB\n",
            "RGB\n",
            "RGB\n",
            "RGB\n",
            "RGB\n",
            "RGB\n",
            "RGB\n",
            "RGB\n",
            "RGB\n",
            "RGB\n",
            "RGB\n",
            "RGB\n",
            "RGB\n",
            "RGB\n",
            "RGB\n",
            "RGB\n",
            "RGB\n",
            "RGB\n",
            "RGB\n",
            "RGB\n",
            "RGB\n",
            "RGB\n",
            "RGB\n",
            "RGB\n",
            "RGB\n",
            "RGB\n",
            "RGB\n",
            "RGB\n",
            "RGB\n",
            "RGB\n",
            "RGB\n",
            "RGB\n",
            "RGB\n",
            "RGB\n",
            "RGB\n",
            "RGB\n",
            "RGB\n",
            "RGB\n",
            "RGB\n",
            "RGB\n",
            "RGB\n",
            "RGB\n",
            "RGB\n",
            "RGB\n",
            "RGB\n",
            "RGB\n",
            "RGB\n",
            "RGB\n",
            "RGB\n",
            "RGB\n",
            "RGB\n",
            "RGB\n",
            "RGB\n",
            "RGB\n",
            "RGB\n",
            "RGB\n",
            "RGB\n",
            "RGB\n",
            "RGB\n",
            "RGB\n",
            "RGB\n",
            "RGB\n",
            "RGB\n",
            "RGB\n",
            "RGB\n",
            "RGB\n",
            "RGB\n",
            "RGB\n",
            "RGB\n",
            "RGB\n"
          ],
          "name": "stdout"
        }
      ]
    },
    {
      "cell_type": "code",
      "metadata": {
        "id": "sC7qLQUbCa9T"
      },
      "source": [
        "import json\n",
        "import pandas as pd\n",
        "from pandas.io.json import json_normalize\n",
        "\n",
        "source ='/content/data/'\n",
        "dest = '/content/data/train_images/pre_images/'\n",
        "pre_tsunami_images = sorted([f for f in os.listdir(source) if 'tsunami' in f and 'pre' in f])\n",
        "for f in pre_tsunami_images:\n",
        "    shutil.copy(source + f, dest)"
      ],
      "execution_count": 65,
      "outputs": []
    },
    {
      "cell_type": "code",
      "metadata": {
        "id": "VwR4fMfSeUX4"
      },
      "source": [
        "source ='/content/data/'\n",
        "dest = '/content/data/train_images/post_images/'\n",
        "post_tsunami_images = sorted([f for f in os.listdir(source) if 'tsunami' in f and 'post' in f])\n",
        "for f in post_tsunami_images:\n",
        "    shutil.copy(source + f, dest)"
      ],
      "execution_count": 67,
      "outputs": []
    },
    {
      "cell_type": "code",
      "metadata": {
        "id": "l-6se_W4kXuC"
      },
      "source": [
        "import json\n",
        "import pandas as pd\n",
        "from pandas.io.json import json_normalize\n",
        "\n",
        "source ='/content/gdrive/My Drive/Data disaster/train/labels/'\n",
        "dest = '/content/data/train_labels/pre_labels/'\n",
        "\n",
        "pre_tsunami_labels = sorted([f for f in os.listdir(source) if 'tsunami' in f and 'pre' in f])\n",
        "for f in pre_tsunami_labels:\n",
        "    shutil.copy(source + f, dest)"
      ],
      "execution_count": 70,
      "outputs": []
    },
    {
      "cell_type": "code",
      "metadata": {
        "id": "ASjzkeQel1DG"
      },
      "source": [
        "source ='/content/gdrive/My Drive/Data disaster/train/labels/'\n",
        "dest = '/content/data/train_labels/post_labels/'\n",
        "\n",
        "post_tsunami_labels = sorted([f for f in os.listdir(source) if 'tsunami' in f and 'post' in f])\n",
        "for f in post_tsunami_labels:\n",
        "    shutil.copy(source + f, dest)"
      ],
      "execution_count": 71,
      "outputs": []
    },
    {
      "cell_type": "markdown",
      "metadata": {
        "id": "-rbOwPTmrYEL"
      },
      "source": [
        "# Data Exploration"
      ]
    },
    {
      "cell_type": "code",
      "metadata": {
        "id": "1SCkY-o2res5"
      },
      "source": [
        "import pandas as pd\n",
        "\n",
        "ROOT_PATH = ''"
      ],
      "execution_count": 83,
      "outputs": []
    },
    {
      "cell_type": "code",
      "metadata": {
        "id": "VUt_4EsMrgj4",
        "outputId": "882cfa04-483b-434f-e4bc-9b3a9e383a45",
        "colab": {
          "base_uri": "https://localhost:8080/",
          "height": 643
        }
      },
      "source": [
        "import json\n",
        "from pandas.io.json import json_normalize\n",
        "\n",
        "with open (ROOT_PATH + '/content/data/train_labels/post_labels/palu-tsunami_00000000_post_disaster.json') as f:\n",
        "    data = json.load(f)\n",
        "\n",
        "# convert buildings json data into pandas dataframe:\n",
        "buildings_raw = data['features']['xy']\n",
        "buildings_df = pd.DataFrame.from_dict(json_normalize(buildings_raw), orient='columns')\n",
        "buildings_df"
      ],
      "execution_count": 84,
      "outputs": [
        {
          "output_type": "stream",
          "text": [
            "/usr/local/lib/python3.6/dist-packages/ipykernel_launcher.py:9: FutureWarning: pandas.io.json.json_normalize is deprecated, use pandas.json_normalize instead\n",
            "  if __name__ == '__main__':\n"
          ],
          "name": "stderr"
        },
        {
          "output_type": "execute_result",
          "data": {
            "text/html": [
              "<div>\n",
              "<style scoped>\n",
              "    .dataframe tbody tr th:only-of-type {\n",
              "        vertical-align: middle;\n",
              "    }\n",
              "\n",
              "    .dataframe tbody tr th {\n",
              "        vertical-align: top;\n",
              "    }\n",
              "\n",
              "    .dataframe thead th {\n",
              "        text-align: right;\n",
              "    }\n",
              "</style>\n",
              "<table border=\"1\" class=\"dataframe\">\n",
              "  <thead>\n",
              "    <tr style=\"text-align: right;\">\n",
              "      <th></th>\n",
              "      <th>wkt</th>\n",
              "      <th>properties.feature_type</th>\n",
              "      <th>properties.subtype</th>\n",
              "      <th>properties.uid</th>\n",
              "    </tr>\n",
              "  </thead>\n",
              "  <tbody>\n",
              "    <tr>\n",
              "      <th>0</th>\n",
              "      <td>POLYGON ((1023.999983805823 922.3085313916253,...</td>\n",
              "      <td>building</td>\n",
              "      <td>no-damage</td>\n",
              "      <td>0f543926-03dd-4e43-a799-a5340df7ac3f</td>\n",
              "    </tr>\n",
              "    <tr>\n",
              "      <th>1</th>\n",
              "      <td>POLYGON ((966.260237953758 930.3518448985415, ...</td>\n",
              "      <td>building</td>\n",
              "      <td>no-damage</td>\n",
              "      <td>a43dafed-fa80-4adb-8648-53402b89f70c</td>\n",
              "    </tr>\n",
              "    <tr>\n",
              "      <th>2</th>\n",
              "      <td>POLYGON ((1011.379567681141 982.5919373348984,...</td>\n",
              "      <td>building</td>\n",
              "      <td>no-damage</td>\n",
              "      <td>8392d8bf-2d3f-4e36-8d9e-b52fe5c39065</td>\n",
              "    </tr>\n",
              "    <tr>\n",
              "      <th>3</th>\n",
              "      <td>POLYGON ((1016.437348534804 1022.960518981353,...</td>\n",
              "      <td>building</td>\n",
              "      <td>no-damage</td>\n",
              "      <td>e570178c-6dfa-4e69-ac51-60b60bf57df9</td>\n",
              "    </tr>\n",
              "    <tr>\n",
              "      <th>4</th>\n",
              "      <td>POLYGON ((932.7427087921078 1022.96048937727, ...</td>\n",
              "      <td>building</td>\n",
              "      <td>no-damage</td>\n",
              "      <td>b9928927-640e-4773-91b5-cc4cc4f090fb</td>\n",
              "    </tr>\n",
              "    <tr>\n",
              "      <th>...</th>\n",
              "      <td>...</td>\n",
              "      <td>...</td>\n",
              "      <td>...</td>\n",
              "      <td>...</td>\n",
              "    </tr>\n",
              "    <tr>\n",
              "      <th>86</th>\n",
              "      <td>POLYGON ((366.9222809396553 82.83110890198647,...</td>\n",
              "      <td>building</td>\n",
              "      <td>no-damage</td>\n",
              "      <td>f8b6c0e7-5912-45e5-a9ee-22d8d032c21e</td>\n",
              "    </tr>\n",
              "    <tr>\n",
              "      <th>87</th>\n",
              "      <td>POLYGON ((358.2961580661523 69.15075146146614,...</td>\n",
              "      <td>building</td>\n",
              "      <td>no-damage</td>\n",
              "      <td>8fc40a64-80b4-476e-ab01-d9233ae047db</td>\n",
              "    </tr>\n",
              "    <tr>\n",
              "      <th>88</th>\n",
              "      <td>POLYGON ((376.0323433800527 37.77546626124154,...</td>\n",
              "      <td>building</td>\n",
              "      <td>no-damage</td>\n",
              "      <td>7d486b70-3d7c-43b7-9681-addf02c1474c</td>\n",
              "    </tr>\n",
              "    <tr>\n",
              "      <th>89</th>\n",
              "      <td>POLYGON ((361.7431814756954 16.12379466286736,...</td>\n",
              "      <td>building</td>\n",
              "      <td>no-damage</td>\n",
              "      <td>231cacdb-7d4b-4a36-88d5-d314c1b72bb3</td>\n",
              "    </tr>\n",
              "    <tr>\n",
              "      <th>90</th>\n",
              "      <td>POLYGON ((348.9848020382723 1.456360980614932,...</td>\n",
              "      <td>building</td>\n",
              "      <td>no-damage</td>\n",
              "      <td>f6a33103-9724-4d83-a031-70a85c5c3d00</td>\n",
              "    </tr>\n",
              "  </tbody>\n",
              "</table>\n",
              "<p>91 rows × 4 columns</p>\n",
              "</div>"
            ],
            "text/plain": [
              "                                                  wkt  ...                        properties.uid\n",
              "0   POLYGON ((1023.999983805823 922.3085313916253,...  ...  0f543926-03dd-4e43-a799-a5340df7ac3f\n",
              "1   POLYGON ((966.260237953758 930.3518448985415, ...  ...  a43dafed-fa80-4adb-8648-53402b89f70c\n",
              "2   POLYGON ((1011.379567681141 982.5919373348984,...  ...  8392d8bf-2d3f-4e36-8d9e-b52fe5c39065\n",
              "3   POLYGON ((1016.437348534804 1022.960518981353,...  ...  e570178c-6dfa-4e69-ac51-60b60bf57df9\n",
              "4   POLYGON ((932.7427087921078 1022.96048937727, ...  ...  b9928927-640e-4773-91b5-cc4cc4f090fb\n",
              "..                                                ...  ...                                   ...\n",
              "86  POLYGON ((366.9222809396553 82.83110890198647,...  ...  f8b6c0e7-5912-45e5-a9ee-22d8d032c21e\n",
              "87  POLYGON ((358.2961580661523 69.15075146146614,...  ...  8fc40a64-80b4-476e-ab01-d9233ae047db\n",
              "88  POLYGON ((376.0323433800527 37.77546626124154,...  ...  7d486b70-3d7c-43b7-9681-addf02c1474c\n",
              "89  POLYGON ((361.7431814756954 16.12379466286736,...  ...  231cacdb-7d4b-4a36-88d5-d314c1b72bb3\n",
              "90  POLYGON ((348.9848020382723 1.456360980614932,...  ...  f6a33103-9724-4d83-a031-70a85c5c3d00\n",
              "\n",
              "[91 rows x 4 columns]"
            ]
          },
          "metadata": {
            "tags": []
          },
          "execution_count": 84
        }
      ]
    },
    {
      "cell_type": "code",
      "metadata": {
        "id": "NzRnb9pUr020",
        "outputId": "871f70c0-6f96-487d-f470-1f987023fbd6",
        "colab": {
          "base_uri": "https://localhost:8080/",
          "height": 85
        }
      },
      "source": [
        "# for a single image\n",
        "buildings_df['properties.subtype'].value_counts()"
      ],
      "execution_count": 85,
      "outputs": [
        {
          "output_type": "execute_result",
          "data": {
            "text/plain": [
              "no-damage       81\n",
              "destroyed        9\n",
              "major-damage     1\n",
              "Name: properties.subtype, dtype: int64"
            ]
          },
          "metadata": {
            "tags": []
          },
          "execution_count": 85
        }
      ]
    },
    {
      "cell_type": "code",
      "metadata": {
        "id": "-tdrv767r_sS",
        "outputId": "48608d38-3c15-4d04-aa4d-cd9b786d4e78",
        "colab": {
          "base_uri": "https://localhost:8080/",
          "height": 121
        }
      },
      "source": [
        "from shapely.geometry import Polygon\n",
        "import shapely.wkt\n",
        "\n",
        "P = shapely.wkt.loads(data['features']['xy'][0]['wkt'])\n",
        "P"
      ],
      "execution_count": 91,
      "outputs": [
        {
          "output_type": "execute_result",
          "data": {
            "text/plain": [
              "<shapely.geometry.polygon.Polygon at 0x7f830e5cf048>"
            ],
            "image/svg+xml": "<svg xmlns=\"http://www.w3.org/2000/svg\" xmlns:xlink=\"http://www.w3.org/1999/xlink\" width=\"100.0\" height=\"100.0\" viewBox=\"1001.8751188201568 917.1538045017872 23.440136448210524 35.512329476058994\" preserveAspectRatio=\"xMinYMin meet\"><g transform=\"matrix(1,0,0,-1,0,1869.8199384796335)\"><path fill-rule=\"evenodd\" fill=\"#66cc99\" stroke=\"#555555\" stroke-width=\"0.7102465895211799\" opacity=\"0.6\" d=\"M 1023.999983805823,922.3085313916253 L 1023.999983806291,949.8463868010091 L 1022.532617662644,951.35086251577 L 1003.190390282233,944.0975272458677 L 1013.506244884994,918.4690759638635 L 1023.999983805823,922.3085313916253 z\" /></g></svg>"
          },
          "metadata": {
            "tags": []
          },
          "execution_count": 91
        }
      ]
    },
    {
      "cell_type": "code",
      "metadata": {
        "id": "RxPbxT9jsO0h",
        "outputId": "7874a642-2113-4442-a6fa-6299a1569d5a",
        "colab": {
          "base_uri": "https://localhost:8080/",
          "height": 34
        }
      },
      "source": [
        "P.bounds"
      ],
      "execution_count": 92,
      "outputs": [
        {
          "output_type": "execute_result",
          "data": {
            "text/plain": [
              "(1003.190390282233, 918.4690759638635, 1023.999983806291, 951.35086251577)"
            ]
          },
          "metadata": {
            "tags": []
          },
          "execution_count": 92
        }
      ]
    },
    {
      "cell_type": "code",
      "metadata": {
        "id": "-RdgwQWcsfpL"
      },
      "source": [
        "# get all files for post disaster\n",
        "directory = ROOT_PATH + '/content/data/train_labels/post_labels/'\n",
        "pattern = 'post'\n",
        "\n",
        "post_disaster_files = [f for f in os.listdir(directory) if pattern in f]"
      ],
      "execution_count": 99,
      "outputs": []
    },
    {
      "cell_type": "code",
      "metadata": {
        "id": "PQMmpt0psxyp"
      },
      "source": [
        "# loop over post disaster data\n",
        "all_json_data = []\n",
        "for file in post_disaster_files:\n",
        "    with open(directory + file) as f:\n",
        "        data = json.load(f)\n",
        "        all_json_data.append(data)"
      ],
      "execution_count": 100,
      "outputs": []
    },
    {
      "cell_type": "code",
      "metadata": {
        "id": "byIu6MqjtKKI",
        "outputId": "621ef44d-5970-4aad-8041-ce48dd5712dc",
        "colab": {
          "base_uri": "https://localhost:8080/",
          "height": 643
        }
      },
      "source": [
        "df = pd.DataFrame()\n",
        "for curr_data in all_json_data:\n",
        "    curr_building_raw = curr_data['features']['xy']\n",
        "    df = df.append(json_normalize(curr_building_raw))\n",
        "df"
      ],
      "execution_count": 101,
      "outputs": [
        {
          "output_type": "stream",
          "text": [
            "/usr/local/lib/python3.6/dist-packages/ipykernel_launcher.py:4: FutureWarning: pandas.io.json.json_normalize is deprecated, use pandas.json_normalize instead\n",
            "  after removing the cwd from sys.path.\n"
          ],
          "name": "stderr"
        },
        {
          "output_type": "execute_result",
          "data": {
            "text/html": [
              "<div>\n",
              "<style scoped>\n",
              "    .dataframe tbody tr th:only-of-type {\n",
              "        vertical-align: middle;\n",
              "    }\n",
              "\n",
              "    .dataframe tbody tr th {\n",
              "        vertical-align: top;\n",
              "    }\n",
              "\n",
              "    .dataframe thead th {\n",
              "        text-align: right;\n",
              "    }\n",
              "</style>\n",
              "<table border=\"1\" class=\"dataframe\">\n",
              "  <thead>\n",
              "    <tr style=\"text-align: right;\">\n",
              "      <th></th>\n",
              "      <th>wkt</th>\n",
              "      <th>properties.feature_type</th>\n",
              "      <th>properties.subtype</th>\n",
              "      <th>properties.uid</th>\n",
              "    </tr>\n",
              "  </thead>\n",
              "  <tbody>\n",
              "    <tr>\n",
              "      <th>0</th>\n",
              "      <td>POLYGON ((196.7049833400386 981.6097748864555,...</td>\n",
              "      <td>building</td>\n",
              "      <td>no-damage</td>\n",
              "      <td>68e87da3-5c77-4b3f-936c-733f638bc90a</td>\n",
              "    </tr>\n",
              "    <tr>\n",
              "      <th>1</th>\n",
              "      <td>POLYGON ((247.0325789669919 1015.431930937346,...</td>\n",
              "      <td>building</td>\n",
              "      <td>destroyed</td>\n",
              "      <td>e58dd0c3-7446-4b4a-810d-5a3cd8a1140d</td>\n",
              "    </tr>\n",
              "    <tr>\n",
              "      <th>2</th>\n",
              "      <td>POLYGON ((91.3630687188176 1022.95928360546, 8...</td>\n",
              "      <td>building</td>\n",
              "      <td>no-damage</td>\n",
              "      <td>3c6cf473-90e3-46b0-afde-4e4730ae9036</td>\n",
              "    </tr>\n",
              "    <tr>\n",
              "      <th>3</th>\n",
              "      <td>POLYGON ((158.4988222195684 1000.259214580388,...</td>\n",
              "      <td>building</td>\n",
              "      <td>destroyed</td>\n",
              "      <td>a237e4de-91a2-4f20-8e02-749d62a9d7c7</td>\n",
              "    </tr>\n",
              "    <tr>\n",
              "      <th>4</th>\n",
              "      <td>POLYGON ((90.39905115356629 988.6641698173281,...</td>\n",
              "      <td>building</td>\n",
              "      <td>no-damage</td>\n",
              "      <td>bedf52c2-1479-42f7-88ff-fd4620455720</td>\n",
              "    </tr>\n",
              "    <tr>\n",
              "      <th>...</th>\n",
              "      <td>...</td>\n",
              "      <td>...</td>\n",
              "      <td>...</td>\n",
              "      <td>...</td>\n",
              "    </tr>\n",
              "    <tr>\n",
              "      <th>16</th>\n",
              "      <td>POLYGON ((919.0941006669251 214.4276037420169,...</td>\n",
              "      <td>building</td>\n",
              "      <td>un-classified</td>\n",
              "      <td>20dd0bcd-7d29-4b85-8afb-e1ad13fb976e</td>\n",
              "    </tr>\n",
              "    <tr>\n",
              "      <th>17</th>\n",
              "      <td>POLYGON ((966.2273198049054 232.6324979091888,...</td>\n",
              "      <td>building</td>\n",
              "      <td>destroyed</td>\n",
              "      <td>805c7fbf-67ce-47e5-aaf3-7fff97fe106b</td>\n",
              "    </tr>\n",
              "    <tr>\n",
              "      <th>18</th>\n",
              "      <td>POLYGON ((950.2022454962465 234.7999999149826,...</td>\n",
              "      <td>building</td>\n",
              "      <td>destroyed</td>\n",
              "      <td>15a9ad76-a336-41cf-a133-57310d57cf0d</td>\n",
              "    </tr>\n",
              "    <tr>\n",
              "      <th>19</th>\n",
              "      <td>POLYGON ((970.7694584857015 215.2795714476817,...</td>\n",
              "      <td>building</td>\n",
              "      <td>major-damage</td>\n",
              "      <td>1043f996-fe3e-435b-8d92-cf75bb45c090</td>\n",
              "    </tr>\n",
              "    <tr>\n",
              "      <th>20</th>\n",
              "      <td>POLYGON ((995.7901406917058 211.6965544063508,...</td>\n",
              "      <td>building</td>\n",
              "      <td>no-damage</td>\n",
              "      <td>cac6f61c-3008-44f1-9eba-6f3d3dfb13ff</td>\n",
              "    </tr>\n",
              "  </tbody>\n",
              "</table>\n",
              "<p>31394 rows × 4 columns</p>\n",
              "</div>"
            ],
            "text/plain": [
              "                                                  wkt  ...                        properties.uid\n",
              "0   POLYGON ((196.7049833400386 981.6097748864555,...  ...  68e87da3-5c77-4b3f-936c-733f638bc90a\n",
              "1   POLYGON ((247.0325789669919 1015.431930937346,...  ...  e58dd0c3-7446-4b4a-810d-5a3cd8a1140d\n",
              "2   POLYGON ((91.3630687188176 1022.95928360546, 8...  ...  3c6cf473-90e3-46b0-afde-4e4730ae9036\n",
              "3   POLYGON ((158.4988222195684 1000.259214580388,...  ...  a237e4de-91a2-4f20-8e02-749d62a9d7c7\n",
              "4   POLYGON ((90.39905115356629 988.6641698173281,...  ...  bedf52c2-1479-42f7-88ff-fd4620455720\n",
              "..                                                ...  ...                                   ...\n",
              "16  POLYGON ((919.0941006669251 214.4276037420169,...  ...  20dd0bcd-7d29-4b85-8afb-e1ad13fb976e\n",
              "17  POLYGON ((966.2273198049054 232.6324979091888,...  ...  805c7fbf-67ce-47e5-aaf3-7fff97fe106b\n",
              "18  POLYGON ((950.2022454962465 234.7999999149826,...  ...  15a9ad76-a336-41cf-a133-57310d57cf0d\n",
              "19  POLYGON ((970.7694584857015 215.2795714476817,...  ...  1043f996-fe3e-435b-8d92-cf75bb45c090\n",
              "20  POLYGON ((995.7901406917058 211.6965544063508,...  ...  cac6f61c-3008-44f1-9eba-6f3d3dfb13ff\n",
              "\n",
              "[31394 rows x 4 columns]"
            ]
          },
          "metadata": {
            "tags": []
          },
          "execution_count": 101
        }
      ]
    },
    {
      "cell_type": "code",
      "metadata": {
        "id": "DVn8dRxYtzhB"
      },
      "source": [
        "### Building damages for hurricanes\n",
        "post_disaster_tsunami_files = [f for f in os.listdir(directory) if 'tsunami' in f]\n",
        "post_disaster_tsunami_files = list(filter(lambda x: 'post' in x, post_disaster_tsunami_files))"
      ],
      "execution_count": 104,
      "outputs": []
    },
    {
      "cell_type": "code",
      "metadata": {
        "id": "BQHwtZhquJkV"
      },
      "source": [
        "tsunami_json_data = []\n",
        "for file in post_disaster_tsunami_files:\n",
        "    with open(directory + file) as f:\n",
        "        data = json.load(f)\n",
        "        tsunami_json_data.append(data)"
      ],
      "execution_count": 106,
      "outputs": []
    },
    {
      "cell_type": "code",
      "metadata": {
        "id": "ZVIXefMdurmm",
        "outputId": "b9d96857-69dd-4090-aaa1-86f03def0eb1",
        "colab": {
          "base_uri": "https://localhost:8080/",
          "height": 643
        }
      },
      "source": [
        "df_tsunami = pd.DataFrame()\n",
        "for curr_tsunami_data in tsunami_json_data:\n",
        "    df_tsunami = df_tsunami.append(json_normalize(curr_tsunami_data['features']['xy']))\n",
        "df_tsunami"
      ],
      "execution_count": 107,
      "outputs": [
        {
          "output_type": "stream",
          "text": [
            "/usr/local/lib/python3.6/dist-packages/ipykernel_launcher.py:3: FutureWarning: pandas.io.json.json_normalize is deprecated, use pandas.json_normalize instead\n",
            "  This is separate from the ipykernel package so we can avoid doing imports until\n"
          ],
          "name": "stderr"
        },
        {
          "output_type": "execute_result",
          "data": {
            "text/html": [
              "<div>\n",
              "<style scoped>\n",
              "    .dataframe tbody tr th:only-of-type {\n",
              "        vertical-align: middle;\n",
              "    }\n",
              "\n",
              "    .dataframe tbody tr th {\n",
              "        vertical-align: top;\n",
              "    }\n",
              "\n",
              "    .dataframe thead th {\n",
              "        text-align: right;\n",
              "    }\n",
              "</style>\n",
              "<table border=\"1\" class=\"dataframe\">\n",
              "  <thead>\n",
              "    <tr style=\"text-align: right;\">\n",
              "      <th></th>\n",
              "      <th>wkt</th>\n",
              "      <th>properties.feature_type</th>\n",
              "      <th>properties.subtype</th>\n",
              "      <th>properties.uid</th>\n",
              "    </tr>\n",
              "  </thead>\n",
              "  <tbody>\n",
              "    <tr>\n",
              "      <th>0</th>\n",
              "      <td>POLYGON ((196.7049833400386 981.6097748864555,...</td>\n",
              "      <td>building</td>\n",
              "      <td>no-damage</td>\n",
              "      <td>68e87da3-5c77-4b3f-936c-733f638bc90a</td>\n",
              "    </tr>\n",
              "    <tr>\n",
              "      <th>1</th>\n",
              "      <td>POLYGON ((247.0325789669919 1015.431930937346,...</td>\n",
              "      <td>building</td>\n",
              "      <td>destroyed</td>\n",
              "      <td>e58dd0c3-7446-4b4a-810d-5a3cd8a1140d</td>\n",
              "    </tr>\n",
              "    <tr>\n",
              "      <th>2</th>\n",
              "      <td>POLYGON ((91.3630687188176 1022.95928360546, 8...</td>\n",
              "      <td>building</td>\n",
              "      <td>no-damage</td>\n",
              "      <td>3c6cf473-90e3-46b0-afde-4e4730ae9036</td>\n",
              "    </tr>\n",
              "    <tr>\n",
              "      <th>3</th>\n",
              "      <td>POLYGON ((158.4988222195684 1000.259214580388,...</td>\n",
              "      <td>building</td>\n",
              "      <td>destroyed</td>\n",
              "      <td>a237e4de-91a2-4f20-8e02-749d62a9d7c7</td>\n",
              "    </tr>\n",
              "    <tr>\n",
              "      <th>4</th>\n",
              "      <td>POLYGON ((90.39905115356629 988.6641698173281,...</td>\n",
              "      <td>building</td>\n",
              "      <td>no-damage</td>\n",
              "      <td>bedf52c2-1479-42f7-88ff-fd4620455720</td>\n",
              "    </tr>\n",
              "    <tr>\n",
              "      <th>...</th>\n",
              "      <td>...</td>\n",
              "      <td>...</td>\n",
              "      <td>...</td>\n",
              "      <td>...</td>\n",
              "    </tr>\n",
              "    <tr>\n",
              "      <th>16</th>\n",
              "      <td>POLYGON ((919.0941006669251 214.4276037420169,...</td>\n",
              "      <td>building</td>\n",
              "      <td>un-classified</td>\n",
              "      <td>20dd0bcd-7d29-4b85-8afb-e1ad13fb976e</td>\n",
              "    </tr>\n",
              "    <tr>\n",
              "      <th>17</th>\n",
              "      <td>POLYGON ((966.2273198049054 232.6324979091888,...</td>\n",
              "      <td>building</td>\n",
              "      <td>destroyed</td>\n",
              "      <td>805c7fbf-67ce-47e5-aaf3-7fff97fe106b</td>\n",
              "    </tr>\n",
              "    <tr>\n",
              "      <th>18</th>\n",
              "      <td>POLYGON ((950.2022454962465 234.7999999149826,...</td>\n",
              "      <td>building</td>\n",
              "      <td>destroyed</td>\n",
              "      <td>15a9ad76-a336-41cf-a133-57310d57cf0d</td>\n",
              "    </tr>\n",
              "    <tr>\n",
              "      <th>19</th>\n",
              "      <td>POLYGON ((970.7694584857015 215.2795714476817,...</td>\n",
              "      <td>building</td>\n",
              "      <td>major-damage</td>\n",
              "      <td>1043f996-fe3e-435b-8d92-cf75bb45c090</td>\n",
              "    </tr>\n",
              "    <tr>\n",
              "      <th>20</th>\n",
              "      <td>POLYGON ((995.7901406917058 211.6965544063508,...</td>\n",
              "      <td>building</td>\n",
              "      <td>no-damage</td>\n",
              "      <td>cac6f61c-3008-44f1-9eba-6f3d3dfb13ff</td>\n",
              "    </tr>\n",
              "  </tbody>\n",
              "</table>\n",
              "<p>31394 rows × 4 columns</p>\n",
              "</div>"
            ],
            "text/plain": [
              "                                                  wkt  ...                        properties.uid\n",
              "0   POLYGON ((196.7049833400386 981.6097748864555,...  ...  68e87da3-5c77-4b3f-936c-733f638bc90a\n",
              "1   POLYGON ((247.0325789669919 1015.431930937346,...  ...  e58dd0c3-7446-4b4a-810d-5a3cd8a1140d\n",
              "2   POLYGON ((91.3630687188176 1022.95928360546, 8...  ...  3c6cf473-90e3-46b0-afde-4e4730ae9036\n",
              "3   POLYGON ((158.4988222195684 1000.259214580388,...  ...  a237e4de-91a2-4f20-8e02-749d62a9d7c7\n",
              "4   POLYGON ((90.39905115356629 988.6641698173281,...  ...  bedf52c2-1479-42f7-88ff-fd4620455720\n",
              "..                                                ...  ...                                   ...\n",
              "16  POLYGON ((919.0941006669251 214.4276037420169,...  ...  20dd0bcd-7d29-4b85-8afb-e1ad13fb976e\n",
              "17  POLYGON ((966.2273198049054 232.6324979091888,...  ...  805c7fbf-67ce-47e5-aaf3-7fff97fe106b\n",
              "18  POLYGON ((950.2022454962465 234.7999999149826,...  ...  15a9ad76-a336-41cf-a133-57310d57cf0d\n",
              "19  POLYGON ((970.7694584857015 215.2795714476817,...  ...  1043f996-fe3e-435b-8d92-cf75bb45c090\n",
              "20  POLYGON ((995.7901406917058 211.6965544063508,...  ...  cac6f61c-3008-44f1-9eba-6f3d3dfb13ff\n",
              "\n",
              "[31394 rows x 4 columns]"
            ]
          },
          "metadata": {
            "tags": []
          },
          "execution_count": 107
        }
      ]
    },
    {
      "cell_type": "code",
      "metadata": {
        "id": "iqdbRg6wvFI0",
        "outputId": "459b8627-97ae-4645-93ae-94e420c6e188",
        "colab": {
          "base_uri": "https://localhost:8080/",
          "height": 119
        }
      },
      "source": [
        "# for hurricane buildings:\n",
        "df_tsunami['properties.subtype'].value_counts()"
      ],
      "execution_count": 108,
      "outputs": [
        {
          "output_type": "execute_result",
          "data": {
            "text/plain": [
              "no-damage        25455\n",
              "destroyed         4966\n",
              "major-damage       571\n",
              "un-classified      401\n",
              "minor-damage         1\n",
              "Name: properties.subtype, dtype: int64"
            ]
          },
          "metadata": {
            "tags": []
          },
          "execution_count": 108
        }
      ]
    },
    {
      "cell_type": "code",
      "metadata": {
        "id": "GBSb2YNMvJhr"
      },
      "source": [
        "from shapely.geometry import Polygon\n",
        "\n",
        "polygon_data = []\n",
        "for image_meta in tsunami_json_data:\n",
        "    for building in image_meta['features']['xy']:\n",
        "        polygon_data.append((building['wkt'], building['properties']['subtype']))\n",
        "\n",
        "polygon_bounds = []\n",
        "for polygon in polygon_data:\n",
        "    shapely_obj = shapely.wkt.loads(polygon[0])\n",
        "    poly_bound = shapely_obj.bounds\n",
        "    polygon_bounds.append((poly_bound[2]-poly_bound[0], poly_bound[3]-poly_bound[1]))\n",
        "\n",
        "#P = shapely.wkt.loads(tsunami_json_data['features']['xy'][0]['wkt'])"
      ],
      "execution_count": 109,
      "outputs": []
    },
    {
      "cell_type": "code",
      "metadata": {
        "id": "aRd63kCyve-B"
      },
      "source": [
        "polygon_widths = [polygon[0] for polygon in polygon_bounds]\n",
        "polygon_y = [polygon[1] for polygon in polygon_bounds]"
      ],
      "execution_count": 111,
      "outputs": []
    },
    {
      "cell_type": "code",
      "metadata": {
        "id": "Yu8bmvOBvnNV",
        "outputId": "c7f9351e-2be3-4fa3-a5c2-34992dce8e78",
        "colab": {
          "base_uri": "https://localhost:8080/",
          "height": 282
        }
      },
      "source": [
        "import matplotlib.pyplot as plt\n",
        "import math\n",
        "import numpy as np\n",
        "\n",
        "poly_x_log = [math.log(polygon) for polygon in polygon_widths]\n",
        "# plt.hist(poly_x_log)\n",
        "plt.hist(polygon_widths)\n",
        "plt.show()\n",
        "\n",
        "#find 98 percentile\n",
        "np_p_widths = np.array(polygon_widths)\n",
        "crop_lim = np.percentile(np_p_widths, 98)\n",
        "crop_lim #calculates the 98 percentile"
      ],
      "execution_count": 112,
      "outputs": [
        {
          "output_type": "display_data",
          "data": {
            "image/png": "[encoded data removed]",
            "text/plain": [
              "<Figure size 432x288 with 1 Axes>"
            ]
          },
          "metadata": {
            "tags": [],
            "needs_background": "light"
          }
        },
        {
          "output_type": "execute_result",
          "data": {
            "text/plain": [
              "67.05647510955342"
            ]
          },
          "metadata": {
            "tags": []
          },
          "execution_count": 112
        }
      ]
    },
    {
      "cell_type": "code",
      "metadata": {
        "id": "stiAJJ4PvuEG",
        "outputId": "c762921a-8c32-4921-97a8-6be7cf7fdcf6",
        "colab": {
          "base_uri": "https://localhost:8080/",
          "height": 265
        }
      },
      "source": [
        "cropped_widths = [x for x in polygon_widths if x <= crop_lim]\n",
        "plt.hist(cropped_widths)\n",
        "plt.show()"
      ],
      "execution_count": 113,
      "outputs": [
        {
          "output_type": "display_data",
          "data": {
            "image/png": "[encoded data removed]",
            "text/plain": [
              "<Figure size 432x288 with 1 Axes>"
            ]
          },
          "metadata": {
            "tags": [],
            "needs_background": "light"
          }
        }
      ]
    },
    {
      "cell_type": "code",
      "metadata": {
        "id": "2EXYyHWcv3lu",
        "outputId": "44f16174-af6f-4d45-a59b-996ff69363a9",
        "colab": {
          "base_uri": "https://localhost:8080/",
          "height": 51
        }
      },
      "source": [
        "print(len(polygon_widths))\n",
        "print(len(cropped_widths))"
      ],
      "execution_count": 114,
      "outputs": [
        {
          "output_type": "stream",
          "text": [
            "31394\n",
            "30766\n"
          ],
          "name": "stdout"
        }
      ]
    },
    {
      "cell_type": "code",
      "metadata": {
        "id": "k91fW_RDv7fK",
        "outputId": "e9b9c916-d407-434c-d96b-9ba9c6b7f019",
        "colab": {
          "base_uri": "https://localhost:8080/",
          "height": 265
        }
      },
      "source": [
        "plt.hist(polygon_y)\n",
        "plt.show()"
      ],
      "execution_count": 115,
      "outputs": [
        {
          "output_type": "display_data",
          "data": {
            "image/png": "[encoded data removed]",
            "text/plain": [
              "<Figure size 432x288 with 1 Axes>"
            ]
          },
          "metadata": {
            "tags": [],
            "needs_background": "light"
          }
        }
      ]
    },
    {
      "cell_type": "code",
      "metadata": {
        "id": "IFMVI9RSwAX7",
        "outputId": "856ea362-2126-4e70-df1f-7b802c148c9b",
        "colab": {
          "base_uri": "https://localhost:8080/",
          "height": 51
        }
      },
      "source": [
        "cropped_y = [y for y in polygon_y if y <= 75]\n",
        "print(len(polygon_y))\n",
        "print(len(cropped_y))"
      ],
      "execution_count": 118,
      "outputs": [
        {
          "output_type": "stream",
          "text": [
            "31394\n",
            "31113\n"
          ],
          "name": "stdout"
        }
      ]
    },
    {
      "cell_type": "code",
      "metadata": {
        "id": "9gltSiE0wItR",
        "outputId": "c9802e60-3e7f-412c-d8d0-7739e322410e",
        "colab": {
          "base_uri": "https://localhost:8080/",
          "height": 265
        }
      },
      "source": [
        "plt.hist(cropped_y)\n",
        "plt.show()"
      ],
      "execution_count": 119,
      "outputs": [
        {
          "output_type": "display_data",
          "data": {
            "image/png": "[encoded data removed]",
            "text/plain": [
              "<Figure size 432x288 with 1 Axes>"
            ]
          },
          "metadata": {
            "tags": [],
            "needs_background": "light"
          }
        }
      ]
    },
    {
      "cell_type": "code",
      "metadata": {
        "id": "PH1TM2O_tT5x",
        "outputId": "f8b0f074-f765-498a-c118-d40ba7aeea61",
        "colab": {
          "base_uri": "https://localhost:8080/",
          "height": 119
        }
      },
      "source": [
        "# for all buildings:\n",
        "df['properties.subtype'].value_counts()"
      ],
      "execution_count": 120,
      "outputs": [
        {
          "output_type": "execute_result",
          "data": {
            "text/plain": [
              "no-damage        25455\n",
              "destroyed         4966\n",
              "major-damage       571\n",
              "un-classified      401\n",
              "minor-damage         1\n",
              "Name: properties.subtype, dtype: int64"
            ]
          },
          "metadata": {
            "tags": []
          },
          "execution_count": 120
        }
      ]
    },
    {
      "cell_type": "markdown",
      "metadata": {
        "id": "vt92nStnoK1g"
      },
      "source": [
        "# Membuat Building Polygons\n"
      ]
    },
    {
      "cell_type": "code",
      "metadata": {
        "id": "hF6eRC5YobzH"
      },
      "source": [
        "from PIL import Image, ImageDraw\n",
        "import numpy\n",
        "import shutil\n",
        "import os\n",
        "import json\n",
        "from shapely.geometry import Polygon\n",
        "import shapely.wkt"
      ],
      "execution_count": 121,
      "outputs": []
    },
    {
      "cell_type": "code",
      "metadata": {
        "id": "qMunIlhEodqP"
      },
      "source": [
        "image_source = '/content/data/train_images/pre_images/'\n",
        "dest = 'content/data/train_images/pre_buildings/'\n",
        "\n",
        "pre_tsunami_images = sorted([f for f in os.listdir(image_source)])"
      ],
      "execution_count": 122,
      "outputs": []
    },
    {
      "cell_type": "code",
      "metadata": {
        "id": "hXwj1bkQoyoy"
      },
      "source": [
        "def getBuildingImage(image, poly_xy, building_poly):\n",
        "    imArray = numpy.asarray(image)\n",
        "    \n",
        "    # create mask\n",
        "    maskIm = Image.new('L', (imArray.shape[1], imArray.shape[0]), 0)\n",
        "    ImageDraw.Draw(maskIm).polygon(poly_xy, outline=1, fill=1)\n",
        "    mask = numpy.array(maskIm)\n",
        "    \n",
        "    # assemble new image (uint8: 0-255)\n",
        "    newImArray = numpy.empty(imArray.shape,dtype='uint8')\n",
        "\n",
        "    # colors (three first columns, RGB)\n",
        "    newImArray[:,:,:3] = imArray[:,:,:3]\n",
        "\n",
        "    # transparency (4th column)\n",
        "    newImArray[:,:,3] = mask*255\n",
        "\n",
        "    # back to Image from numpy\n",
        "    newIm = Image.fromarray(newImArray, \"RGBA\")\n",
        "    \n",
        "    #crop out just the building from image\n",
        "    poly_bounds = building_poly.bounds\n",
        "    cropped_building_img = newIm.crop(poly_bounds)\n",
        "    \n",
        "    #put center of cropped image onto standarized image size\n",
        "    img_w, img_h = cropped_building_img.size\n",
        "    background = Image.new('RGBA', (50, 50), (255, 255, 255, 0))\n",
        "    bg_w, bg_h = background.size\n",
        "    offset = ((bg_w - img_w) // 2, (bg_h - img_h) // 2)\n",
        "    background.paste(cropped_building_img, offset)\n",
        "    return background"
      ],
      "execution_count": 123,
      "outputs": []
    },
    {
      "cell_type": "code",
      "metadata": {
        "id": "42T6N7KMpJ5N",
        "outputId": "93a5e756-dfc8-4e9d-e7f4-62f94db98038",
        "colab": {
          "base_uri": "https://localhost:8080/",
          "height": 367
        }
      },
      "source": [
        "## get json data for this file\n",
        "json_source = '/content/data/train_labels/pre_labels/'\n",
        "pre_tsunami_jsons = sorted([f for f in os.listdir(json_source)])\n",
        "\n",
        "## cuts out building polygons from each image, standardrizes format, and saves images to data folder\n",
        "#len(pre_hurricane_images)\n",
        "for image_index in range(len(pre_tsunami_images)):\n",
        "    image = Image.open(image_source + pre_tsunami_images[image_index]).convert(\"RGBA\")\n",
        "    with open (json_source + pre_tsunami_jsons[image_index]) as f:\n",
        "        json_data = json.load(f)\n",
        "    building_counter = 0\n",
        "    for building in json_data['features']['xy']:\n",
        "        building_wkt = building['wkt']\n",
        "        building_poly = shapely.wkt.loads(building_wkt)\n",
        "        x, y = building_poly.exterior.coords.xy\n",
        "        poly_xy = [(x[i], y[i]) for i in range(len(x))]\n",
        "        formatted_building_image = getBuildingImage(image, poly_xy, building_poly)\n",
        "        \n",
        "        building_number = str(building_counter)\n",
        "        #formatting \n",
        "        while len(building_number) < 5:\n",
        "            building_number = '0' + building_number\n",
        "            \n",
        "        formatted_building_image.save(dest + pre_tsunami_images[image_index].replace('.png', '') + '_building_' + building_number + '.png')\n",
        "        building_counter += 1"
      ],
      "execution_count": 124,
      "outputs": [
        {
          "output_type": "error",
          "ename": "FileNotFoundError",
          "evalue": "ignored",
          "traceback": [
            "\u001b[0;31m---------------------------------------------------------------------------\u001b[0m",
            "\u001b[0;31mFileNotFoundError\u001b[0m                         Traceback (most recent call last)",
            "\u001b[0;32m<ipython-input-124-92a22cb97b29>\u001b[0m in \u001b[0;36m<module>\u001b[0;34m()\u001b[0m\n\u001b[1;32m     22\u001b[0m             \u001b[0mbuilding_number\u001b[0m \u001b[0;34m=\u001b[0m \u001b[0;34m'0'\u001b[0m \u001b[0;34m+\u001b[0m \u001b[0mbuilding_number\u001b[0m\u001b[0;34m\u001b[0m\u001b[0;34m\u001b[0m\u001b[0m\n\u001b[1;32m     23\u001b[0m \u001b[0;34m\u001b[0m\u001b[0m\n\u001b[0;32m---> 24\u001b[0;31m         \u001b[0mformatted_building_image\u001b[0m\u001b[0;34m.\u001b[0m\u001b[0msave\u001b[0m\u001b[0;34m(\u001b[0m\u001b[0mdest\u001b[0m \u001b[0;34m+\u001b[0m \u001b[0mpre_tsunami_images\u001b[0m\u001b[0;34m[\u001b[0m\u001b[0mimage_index\u001b[0m\u001b[0;34m]\u001b[0m\u001b[0;34m.\u001b[0m\u001b[0mreplace\u001b[0m\u001b[0;34m(\u001b[0m\u001b[0;34m'.png'\u001b[0m\u001b[0;34m,\u001b[0m \u001b[0;34m''\u001b[0m\u001b[0;34m)\u001b[0m \u001b[0;34m+\u001b[0m \u001b[0;34m'_building_'\u001b[0m \u001b[0;34m+\u001b[0m \u001b[0mbuilding_number\u001b[0m \u001b[0;34m+\u001b[0m \u001b[0;34m'.png'\u001b[0m\u001b[0;34m)\u001b[0m\u001b[0;34m\u001b[0m\u001b[0;34m\u001b[0m\u001b[0m\n\u001b[0m\u001b[1;32m     25\u001b[0m         \u001b[0mbuilding_counter\u001b[0m \u001b[0;34m+=\u001b[0m \u001b[0;36m1\u001b[0m\u001b[0;34m\u001b[0m\u001b[0;34m\u001b[0m\u001b[0m\n",
            "\u001b[0;32m/usr/local/lib/python3.6/dist-packages/PIL/Image.py\u001b[0m in \u001b[0;36msave\u001b[0;34m(self, fp, format, **params)\u001b[0m\n\u001b[1;32m   2097\u001b[0m                 \u001b[0mfp\u001b[0m \u001b[0;34m=\u001b[0m \u001b[0mbuiltins\u001b[0m\u001b[0;34m.\u001b[0m\u001b[0mopen\u001b[0m\u001b[0;34m(\u001b[0m\u001b[0mfilename\u001b[0m\u001b[0;34m,\u001b[0m \u001b[0;34m\"r+b\"\u001b[0m\u001b[0;34m)\u001b[0m\u001b[0;34m\u001b[0m\u001b[0;34m\u001b[0m\u001b[0m\n\u001b[1;32m   2098\u001b[0m             \u001b[0;32melse\u001b[0m\u001b[0;34m:\u001b[0m\u001b[0;34m\u001b[0m\u001b[0;34m\u001b[0m\u001b[0m\n\u001b[0;32m-> 2099\u001b[0;31m                 \u001b[0mfp\u001b[0m \u001b[0;34m=\u001b[0m \u001b[0mbuiltins\u001b[0m\u001b[0;34m.\u001b[0m\u001b[0mopen\u001b[0m\u001b[0;34m(\u001b[0m\u001b[0mfilename\u001b[0m\u001b[0;34m,\u001b[0m \u001b[0;34m\"w+b\"\u001b[0m\u001b[0;34m)\u001b[0m\u001b[0;34m\u001b[0m\u001b[0;34m\u001b[0m\u001b[0m\n\u001b[0m\u001b[1;32m   2100\u001b[0m \u001b[0;34m\u001b[0m\u001b[0m\n\u001b[1;32m   2101\u001b[0m         \u001b[0;32mtry\u001b[0m\u001b[0;34m:\u001b[0m\u001b[0;34m\u001b[0m\u001b[0;34m\u001b[0m\u001b[0m\n",
            "\u001b[0;31mFileNotFoundError\u001b[0m: [Errno 2] No such file or directory: 'content/data/train_images/pre_buildings/train_imagespalu-tsunami_00000000_pre_disaster_building_00000.png'"
          ]
        }
      ]
    }
  ]
}